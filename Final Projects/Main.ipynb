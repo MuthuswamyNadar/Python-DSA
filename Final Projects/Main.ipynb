{
 "cells": [
  {
   "cell_type": "code",
   "execution_count": 4,
   "id": "b2f6f222",
   "metadata": {},
   "outputs": [],
   "source": [
    "import pandas as pd\n",
    "import numpy as np\n",
    "import matplotlib.pyplot as plt\n",
    "import seaborn as sns\n",
    "import streamlit as st\n",
    "import uuid\n",
    "from datetime import datetime\n",
    "import os"
   ]
  },
  {
   "cell_type": "code",
   "execution_count": 6,
   "id": "151508c4",
   "metadata": {},
   "outputs": [],
   "source": [
    "from sklearn.preprocessing import StandardScaler\n",
    "from sklearn.model_selection import train_test_split, TimeSeriesSplit\n",
    "from sklearn.ensemble import RandomForestRegressor\n",
    "from sklearn.metrics import mean_squared_error, mean_absolute_error, r2_score\n"
   ]
  },
  {
   "cell_type": "code",
   "execution_count": 5,
   "id": "cf687b56",
   "metadata": {},
   "outputs": [],
   "source": [
    "# Step 2: Load Dataset\n",
    "df = pd.read_csv('dataset.csv')\n"
   ]
  },
  {
   "cell_type": "code",
   "execution_count": 7,
   "id": "b5ce6a92",
   "metadata": {},
   "outputs": [],
   "source": [
    "# Setting random seed for reproducibility\n",
    "np.random.seed(42)\n"
   ]
  },
  {
   "cell_type": "code",
   "execution_count": 8,
   "id": "26c2a39b",
   "metadata": {},
   "outputs": [],
   "source": [
    "# Function to calculate volatility (standard deviation of returns)\n",
    "def calculate_volatility(df, window=7):\n",
    "    df['Returns'] = df['close'].pct_change()\n",
    "    df['Volatility'] = df['Returns'].rolling(window=window).std() * np.sqrt(252)  # Annualized volatility\n",
    "    return df\n"
   ]
  },
  {
   "cell_type": "code",
   "execution_count": 12,
   "id": "4076890f",
   "metadata": {},
   "outputs": [],
   "source": [
    "# Step 3: Clean Data\n",
    "df.drop(columns=['Unnamed: 0'], inplace=True)  # Drop index column\n",
    "df['date'] = pd.to_datetime(df['date'])        # Convert to datetime\n"
   ]
  },
  {
   "cell_type": "code",
   "execution_count": 13,
   "id": "9eb5c50b",
   "metadata": {},
   "outputs": [],
   "source": [
    "# Step 4: Feature Engineering\n",
    "df = df.sort_values(by=['crypto_name', 'date'])  # Sort for rolling calculations\n"
   ]
  },
  {
   "cell_type": "code",
   "execution_count": 14,
   "id": "da5a514e",
   "metadata": {},
   "outputs": [],
   "source": [
    "# Daily Return\n",
    "df['daily_return'] = df.groupby('crypto_name')['close'].pct_change()\n"
   ]
  },
  {
   "cell_type": "code",
   "execution_count": 15,
   "id": "6934ab2a",
   "metadata": {},
   "outputs": [],
   "source": [
    "# Rolling Volatility (7-day)\n",
    "df['rolling_volatility_7d'] = df.groupby('crypto_name')['daily_return'].rolling(window=7).std().reset_index(0, drop=True)\n"
   ]
  },
  {
   "cell_type": "code",
   "execution_count": 16,
   "id": "b682be7c",
   "metadata": {},
   "outputs": [],
   "source": [
    "# Liquidity Ratio\n",
    "df['liquidity_ratio'] = df['volume'] / df['marketCap']\n"
   ]
  },
  {
   "cell_type": "code",
   "execution_count": 17,
   "id": "4914c720",
   "metadata": {},
   "outputs": [],
   "source": [
    "\n",
    "# 7-day Moving Average of Close Price\n",
    "df['ma_7_close'] = df.groupby('crypto_name')['close'].transform(lambda x: x.rolling(7).mean())\n"
   ]
  },
  {
   "cell_type": "code",
   "execution_count": 18,
   "id": "5d8d8ca4",
   "metadata": {},
   "outputs": [],
   "source": [
    "# Drop NaNs\n",
    "df_cleaned = df.dropna()\n"
   ]
  },
  {
   "cell_type": "code",
   "execution_count": 19,
   "id": "c0f93efb",
   "metadata": {},
   "outputs": [],
   "source": [
    "# Step 5: EDA Visualizations for One Crypto (Bitcoin)\n",
    "sample_crypto = \"Bitcoin\"\n",
    "sample_df = df_cleaned[df_cleaned['crypto_name'] == sample_crypto]\n"
   ]
  },
  {
   "cell_type": "code",
   "execution_count": 20,
   "id": "ad12eb90",
   "metadata": {},
   "outputs": [
    {
     "data": {
      "text/plain": [
       "<Figure size 640x480 with 0 Axes>"
      ]
     },
     "metadata": {},
     "output_type": "display_data"
    }
   ],
   "source": [
    "# Plot 1: Close Price\n",
    "sns.lineplot(data=sample_df, x='date', y='close')\n",
    "plt.title(\"Bitcoin - Close Price Over Time\")\n",
    "plt.savefig(\"bitcoin_close_price.png\")\n",
    "plt.clf()"
   ]
  },
  {
   "cell_type": "code",
   "execution_count": 21,
   "id": "381bccd1",
   "metadata": {},
   "outputs": [
    {
     "data": {
      "text/plain": [
       "<Figure size 640x480 with 0 Axes>"
      ]
     },
     "metadata": {},
     "output_type": "display_data"
    }
   ],
   "source": [
    "# Plot 2: Rolling Volatility\n",
    "sns.lineplot(data=sample_df, x='date', y='rolling_volatility_7d')\n",
    "plt.title(\"Bitcoin - 7-Day Rolling Volatility\")\n",
    "plt.savefig(\"bitcoin_volatility.png\")\n",
    "plt.clf()"
   ]
  },
  {
   "cell_type": "code",
   "execution_count": 22,
   "id": "89627760",
   "metadata": {},
   "outputs": [
    {
     "data": {
      "text/plain": [
       "<Figure size 640x480 with 0 Axes>"
      ]
     },
     "metadata": {},
     "output_type": "display_data"
    }
   ],
   "source": [
    "\n",
    "# Plot 3: Liquidity Ratio\n",
    "sns.lineplot(data=sample_df, x='date', y='liquidity_ratio')\n",
    "plt.title(\"Bitcoin - Liquidity Ratio Over Time\")\n",
    "plt.savefig(\"bitcoin_liquidity.png\")\n",
    "plt.clf()"
   ]
  },
  {
   "cell_type": "code",
   "execution_count": null,
   "id": "fe26957b",
   "metadata": {},
   "outputs": [],
   "source": []
  },
  {
   "cell_type": "code",
   "execution_count": null,
   "id": "ae62cfe7",
   "metadata": {},
   "outputs": [],
   "source": []
  },
  {
   "cell_type": "code",
   "execution_count": null,
   "id": "3b8dfd4d",
   "metadata": {},
   "outputs": [],
   "source": []
  },
  {
   "cell_type": "code",
   "execution_count": null,
   "id": "f3891aa9",
   "metadata": {},
   "outputs": [],
   "source": []
  },
  {
   "cell_type": "code",
   "execution_count": null,
   "id": "6e1b2ae3",
   "metadata": {},
   "outputs": [],
   "source": []
  },
  {
   "cell_type": "code",
   "execution_count": null,
   "id": "2c25b529",
   "metadata": {},
   "outputs": [],
   "source": []
  },
  {
   "cell_type": "code",
   "execution_count": null,
   "id": "8fa2503a",
   "metadata": {},
   "outputs": [],
   "source": []
  },
  {
   "cell_type": "code",
   "execution_count": null,
   "id": "271677dd",
   "metadata": {},
   "outputs": [],
   "source": []
  },
  {
   "cell_type": "code",
   "execution_count": null,
   "id": "e3fbc46f",
   "metadata": {},
   "outputs": [],
   "source": []
  },
  {
   "cell_type": "code",
   "execution_count": null,
   "id": "0d676817",
   "metadata": {},
   "outputs": [],
   "source": []
  },
  {
   "cell_type": "code",
   "execution_count": null,
   "id": "50d52a96",
   "metadata": {},
   "outputs": [],
   "source": []
  },
  {
   "cell_type": "code",
   "execution_count": null,
   "id": "37f1e68d",
   "metadata": {},
   "outputs": [],
   "source": []
  }
 ],
 "metadata": {
  "kernelspec": {
   "display_name": "Python 3",
   "language": "python",
   "name": "python3"
  },
  "language_info": {
   "codemirror_mode": {
    "name": "ipython",
    "version": 3
   },
   "file_extension": ".py",
   "mimetype": "text/x-python",
   "name": "python",
   "nbconvert_exporter": "python",
   "pygments_lexer": "ipython3",
   "version": "3.13.2"
  }
 },
 "nbformat": 4,
 "nbformat_minor": 5
}
