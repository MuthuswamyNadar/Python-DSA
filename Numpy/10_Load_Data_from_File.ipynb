{
 "cells": [
  {
   "cell_type": "markdown",
   "metadata": {},
   "source": [
    "# Load data in from a file"
   ]
  },
  {
   "cell_type": "code",
   "execution_count": 2,
   "metadata": {},
   "outputs": [],
   "source": [
    "import numpy as np"
   ]
  },
  {
   "cell_type": "code",
   "execution_count": 3,
   "metadata": {},
   "outputs": [
    {
     "data": {
      "text/plain": [
       "array([[ 1., 13., 22.,  3.,  4.,  5.,  6.,  7.,  7.,  8., 99., 11., 33.,\n",
       "        44., 66., 66., 88.],\n",
       "       [ 1., 13., 22.,  3.,  4.,  5.,  6.,  7.,  7.,  8., 99., 11., 33.,\n",
       "        44., 66., 66., 88.],\n",
       "       [ 1., 13., 22.,  3.,  4.,  5.,  6.,  7.,  7.,  8., 99., 11., 33.,\n",
       "        44., 66., 66., 88.],\n",
       "       [ 1., 13., 22.,  3.,  4.,  5.,  6.,  7.,  7.,  8., 99., 11., 33.,\n",
       "        44., 66., 66., 88.],\n",
       "       [ 1., 13., 22.,  3.,  4.,  5.,  6.,  7.,  7.,  8., 99., 11., 33.,\n",
       "        44., 66., 66., 88.]])"
      ]
     },
     "execution_count": 3,
     "metadata": {},
     "output_type": "execute_result"
    }
   ],
   "source": [
    "np.genfromtxt('gen.txt',delimiter=',')"
   ]
  },
  {
   "cell_type": "code",
   "execution_count": 4,
   "metadata": {},
   "outputs": [
    {
     "data": {
      "text/plain": [
       "array([[ 1., 13., 22.,  3.,  4.,  5.,  6.,  7.,  7.,  8., 99., 11., 33.,\n",
       "        44., 66., 66., 88.],\n",
       "       [ 1., 13., 22.,  3.,  4.,  5.,  6.,  7.,  7.,  8., 99., 11., 33.,\n",
       "        44., 66., 66., 88.],\n",
       "       [ 1., 13., 22.,  3.,  4.,  5.,  6.,  7.,  7.,  8., 99., 11., 33.,\n",
       "        44., 66., 66., 88.],\n",
       "       [ 1., 13., 22.,  3.,  4.,  5.,  6.,  7.,  7.,  8., 99., 11., 33.,\n",
       "        44., 66., 66., 88.],\n",
       "       [ 1., 13., 22.,  3.,  4.,  5.,  6.,  7.,  7.,  8., 99., 11., 33.,\n",
       "        44., 66., 66., 88.]])"
      ]
     },
     "execution_count": 4,
     "metadata": {},
     "output_type": "execute_result"
    }
   ],
   "source": [
    "filedata=np.genfromtxt('gen.txt',delimiter=',')\n",
    "filedata"
   ]
  },
  {
   "cell_type": "code",
   "execution_count": 5,
   "metadata": {},
   "outputs": [
    {
     "data": {
      "text/plain": [
       "array([[ 1., 13., 22.,  3.,  4.,  5.,  6.,  7.,  7.,  8., 99., 11., 33.,\n",
       "        44., 66., 66., 88.],\n",
       "       [ 1., 13., 22.,  3.,  4.,  5.,  6.,  7.,  7.,  8., 99., 11., 33.,\n",
       "        44., 66., 66., 88.],\n",
       "       [ 1., 13., 22.,  3.,  4.,  5.,  6.,  7.,  7.,  8., 99., 11., 33.,\n",
       "        44., 66., 66., 88.],\n",
       "       [ 1., 13., 22.,  3.,  4.,  5.,  6.,  7.,  7.,  8., 99., 11., 33.,\n",
       "        44., 66., 66., 88.],\n",
       "       [ 1., 13., 22.,  3.,  4.,  5.,  6.,  7.,  7.,  8., 99., 11., 33.,\n",
       "        44., 66., 66., 88.]])"
      ]
     },
     "execution_count": 5,
     "metadata": {},
     "output_type": "execute_result"
    }
   ],
   "source": [
    "# changing the data type\n",
    "filedata=np.genfromtxt('gen.txt',delimiter=',')\n",
    "filedata.astype('int32')\n",
    "filedata"
   ]
  },
  {
   "cell_type": "code",
   "execution_count": 6,
   "metadata": {},
   "outputs": [
    {
     "data": {
      "text/plain": [
       "array([[ 1, 13, 22,  3,  4,  5,  6,  7,  7,  8, 99, 11, 33, 44, 66, 66,\n",
       "        88],\n",
       "       [ 1, 13, 22,  3,  4,  5,  6,  7,  7,  8, 99, 11, 33, 44, 66, 66,\n",
       "        88],\n",
       "       [ 1, 13, 22,  3,  4,  5,  6,  7,  7,  8, 99, 11, 33, 44, 66, 66,\n",
       "        88],\n",
       "       [ 1, 13, 22,  3,  4,  5,  6,  7,  7,  8, 99, 11, 33, 44, 66, 66,\n",
       "        88],\n",
       "       [ 1, 13, 22,  3,  4,  5,  6,  7,  7,  8, 99, 11, 33, 44, 66, 66,\n",
       "        88]], dtype=int32)"
      ]
     },
     "execution_count": 6,
     "metadata": {},
     "output_type": "execute_result"
    }
   ],
   "source": [
    "# changing the data type\n",
    "filedata=np.genfromtxt('gen.txt',delimiter=',')\n",
    "filedata=filedata.astype('int32')\n",
    "filedata"
   ]
  },
  {
   "cell_type": "markdown",
   "metadata": {},
   "source": [
    "## Advance boolean & masking\n"
   ]
  },
  {
   "cell_type": "code",
   "execution_count": 7,
   "metadata": {},
   "outputs": [
    {
     "data": {
      "text/plain": [
       "array([[False, False, False, False, False, False, False, False, False,\n",
       "        False,  True, False, False, False,  True,  True,  True],\n",
       "       [False, False, False, False, False, False, False, False, False,\n",
       "        False,  True, False, False, False,  True,  True,  True],\n",
       "       [False, False, False, False, False, False, False, False, False,\n",
       "        False,  True, False, False, False,  True,  True,  True],\n",
       "       [False, False, False, False, False, False, False, False, False,\n",
       "        False,  True, False, False, False,  True,  True,  True],\n",
       "       [False, False, False, False, False, False, False, False, False,\n",
       "        False,  True, False, False, False,  True,  True,  True]])"
      ]
     },
     "execution_count": 7,
     "metadata": {},
     "output_type": "execute_result"
    }
   ],
   "source": [
    "filedata >50"
   ]
  },
  {
   "cell_type": "code",
   "execution_count": 8,
   "metadata": {},
   "outputs": [
    {
     "data": {
      "text/plain": [
       "array([99, 66, 66, 88, 99, 66, 66, 88, 99, 66, 66, 88, 99, 66, 66, 88, 99,\n",
       "       66, 66, 88], dtype=int32)"
      ]
     },
     "execution_count": 8,
     "metadata": {},
     "output_type": "execute_result"
    }
   ],
   "source": [
    "filedata[filedata>50]"
   ]
  },
  {
   "cell_type": "code",
   "execution_count": 12,
   "metadata": {},
   "outputs": [
    {
     "data": {
      "text/plain": [
       "array([2, 3, 9])"
      ]
     },
     "execution_count": 12,
     "metadata": {},
     "output_type": "execute_result"
    }
   ],
   "source": [
    "a=np.array([1,2,3,4,5,6,7,8,9])\n",
    "a[[1,2,8]]"
   ]
  },
  {
   "cell_type": "code",
   "execution_count": 13,
   "metadata": {},
   "outputs": [
    {
     "data": {
      "text/plain": [
       "array([[False, False, False, False, False, False, False, False, False,\n",
       "        False,  True, False, False, False,  True,  True,  True],\n",
       "       [False, False, False, False, False, False, False, False, False,\n",
       "        False,  True, False, False, False,  True,  True,  True],\n",
       "       [False, False, False, False, False, False, False, False, False,\n",
       "        False,  True, False, False, False,  True,  True,  True],\n",
       "       [False, False, False, False, False, False, False, False, False,\n",
       "        False,  True, False, False, False,  True,  True,  True],\n",
       "       [False, False, False, False, False, False, False, False, False,\n",
       "        False,  True, False, False, False,  True,  True,  True]])"
      ]
     },
     "execution_count": 13,
     "metadata": {},
     "output_type": "execute_result"
    }
   ],
   "source": [
    "((filedata>50)&(filedata<100))"
   ]
  },
  {
   "cell_type": "code",
   "execution_count": null,
   "metadata": {},
   "outputs": [],
   "source": []
  },
  {
   "cell_type": "code",
   "execution_count": null,
   "metadata": {},
   "outputs": [],
   "source": []
  },
  {
   "cell_type": "code",
   "execution_count": null,
   "metadata": {},
   "outputs": [],
   "source": []
  },
  {
   "cell_type": "code",
   "execution_count": null,
   "metadata": {},
   "outputs": [],
   "source": []
  }
 ],
 "metadata": {
  "kernelspec": {
   "display_name": "Python 3",
   "language": "python",
   "name": "python3"
  },
  "language_info": {
   "codemirror_mode": {
    "name": "ipython",
    "version": 3
   },
   "file_extension": ".py",
   "mimetype": "text/x-python",
   "name": "python",
   "nbconvert_exporter": "python",
   "pygments_lexer": "ipython3",
   "version": "3.12.5"
  }
 },
 "nbformat": 4,
 "nbformat_minor": 2
}
