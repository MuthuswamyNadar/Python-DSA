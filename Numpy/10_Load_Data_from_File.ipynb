{
 "cells": [
  {
   "cell_type": "markdown",
   "metadata": {},
   "source": [
    "# Load data in from a file"
   ]
  },
  {
   "cell_type": "code",
   "execution_count": 1,
   "metadata": {},
   "outputs": [],
   "source": [
    "import numpy as np"
   ]
  },
  {
   "cell_type": "code",
   "execution_count": 2,
   "metadata": {},
   "outputs": [
    {
     "data": {
      "text/plain": [
       "array([[ 1., 13., 22.,  3.,  4.,  5.,  6.,  7.,  7.,  8., 99., 11., 33.,\n",
       "        44., 66., 66., 88.],\n",
       "       [ 1., 13., 22.,  3.,  4.,  5.,  6.,  7.,  7.,  8., 99., 11., 33.,\n",
       "        44., 66., 66., 88.],\n",
       "       [ 1., 13., 22.,  3.,  4.,  5.,  6.,  7.,  7.,  8., 99., 11., 33.,\n",
       "        44., 66., 66., 88.],\n",
       "       [ 1., 13., 22.,  3.,  4.,  5.,  6.,  7.,  7.,  8., 99., 11., 33.,\n",
       "        44., 66., 66., 88.],\n",
       "       [ 1., 13., 22.,  3.,  4.,  5.,  6.,  7.,  7.,  8., 99., 11., 33.,\n",
       "        44., 66., 66., 88.]])"
      ]
     },
     "execution_count": 2,
     "metadata": {},
     "output_type": "execute_result"
    }
   ],
   "source": [
    "np.genfromtxt('gen.txt',delimiter=',')"
   ]
  },
  {
   "cell_type": "code",
   "execution_count": 3,
   "metadata": {},
   "outputs": [
    {
     "data": {
      "text/plain": [
       "array([[ 1., 13., 22.,  3.,  4.,  5.,  6.,  7.,  7.,  8., 99., 11., 33.,\n",
       "        44., 66., 66., 88.],\n",
       "       [ 1., 13., 22.,  3.,  4.,  5.,  6.,  7.,  7.,  8., 99., 11., 33.,\n",
       "        44., 66., 66., 88.],\n",
       "       [ 1., 13., 22.,  3.,  4.,  5.,  6.,  7.,  7.,  8., 99., 11., 33.,\n",
       "        44., 66., 66., 88.],\n",
       "       [ 1., 13., 22.,  3.,  4.,  5.,  6.,  7.,  7.,  8., 99., 11., 33.,\n",
       "        44., 66., 66., 88.],\n",
       "       [ 1., 13., 22.,  3.,  4.,  5.,  6.,  7.,  7.,  8., 99., 11., 33.,\n",
       "        44., 66., 66., 88.]])"
      ]
     },
     "execution_count": 3,
     "metadata": {},
     "output_type": "execute_result"
    }
   ],
   "source": [
    "filedata=np.genfromtxt('gen.txt',delimiter=',')\n",
    "filedata"
   ]
  },
  {
   "cell_type": "code",
   "execution_count": 4,
   "metadata": {},
   "outputs": [
    {
     "data": {
      "text/plain": [
       "array([[ 1., 13., 22.,  3.,  4.,  5.,  6.,  7.,  7.,  8., 99., 11., 33.,\n",
       "        44., 66., 66., 88.],\n",
       "       [ 1., 13., 22.,  3.,  4.,  5.,  6.,  7.,  7.,  8., 99., 11., 33.,\n",
       "        44., 66., 66., 88.],\n",
       "       [ 1., 13., 22.,  3.,  4.,  5.,  6.,  7.,  7.,  8., 99., 11., 33.,\n",
       "        44., 66., 66., 88.],\n",
       "       [ 1., 13., 22.,  3.,  4.,  5.,  6.,  7.,  7.,  8., 99., 11., 33.,\n",
       "        44., 66., 66., 88.],\n",
       "       [ 1., 13., 22.,  3.,  4.,  5.,  6.,  7.,  7.,  8., 99., 11., 33.,\n",
       "        44., 66., 66., 88.]])"
      ]
     },
     "execution_count": 4,
     "metadata": {},
     "output_type": "execute_result"
    }
   ],
   "source": [
    "# changing the data type\n",
    "filedata=np.genfromtxt('gen.txt',delimiter=',')\n",
    "filedata.astype('int32')\n",
    "filedata"
   ]
  },
  {
   "cell_type": "code",
   "execution_count": 5,
   "metadata": {},
   "outputs": [
    {
     "data": {
      "text/plain": [
       "array([[ 1, 13, 22,  3,  4,  5,  6,  7,  7,  8, 99, 11, 33, 44, 66, 66,\n",
       "        88],\n",
       "       [ 1, 13, 22,  3,  4,  5,  6,  7,  7,  8, 99, 11, 33, 44, 66, 66,\n",
       "        88],\n",
       "       [ 1, 13, 22,  3,  4,  5,  6,  7,  7,  8, 99, 11, 33, 44, 66, 66,\n",
       "        88],\n",
       "       [ 1, 13, 22,  3,  4,  5,  6,  7,  7,  8, 99, 11, 33, 44, 66, 66,\n",
       "        88],\n",
       "       [ 1, 13, 22,  3,  4,  5,  6,  7,  7,  8, 99, 11, 33, 44, 66, 66,\n",
       "        88]], dtype=int32)"
      ]
     },
     "execution_count": 5,
     "metadata": {},
     "output_type": "execute_result"
    }
   ],
   "source": [
    "# changing the data type\n",
    "filedata=np.genfromtxt('gen.txt',delimiter=',')\n",
    "filedata=filedata.astype('int32')\n",
    "filedata"
   ]
  },
  {
   "cell_type": "code",
   "execution_count": null,
   "metadata": {},
   "outputs": [],
   "source": []
  }
 ],
 "metadata": {
  "kernelspec": {
   "display_name": "Python 3",
   "language": "python",
   "name": "python3"
  },
  "language_info": {
   "codemirror_mode": {
    "name": "ipython",
    "version": 3
   },
   "file_extension": ".py",
   "mimetype": "text/x-python",
   "name": "python",
   "nbconvert_exporter": "python",
   "pygments_lexer": "ipython3",
   "version": "3.13.0"
  }
 },
 "nbformat": 4,
 "nbformat_minor": 2
}
