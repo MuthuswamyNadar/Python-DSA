{
 "cells": [
  {
   "cell_type": "markdown",
   "id": "c82e3074",
   "metadata": {},
   "source": [
    "# Project weather \n"
   ]
  },
  {
   "cell_type": "markdown",
   "id": "ff3083e6",
   "metadata": {},
   "source": [
    "# Questions \n",
    "\n",
    "Q. 1)  Find all the unique 'Wind Speed' values in the data.\n",
    "\n",
    "Q. 2) Find the number of times when the 'Weather is exactly Clear'.\n",
    "\n",
    "Q. 3) Find the number of times when the 'Wind Speed was exactly 4 km/h'.\n",
    "\n",
    "Q. 4) Find out all the Null Values in the data.\n",
    "\n",
    "Q. 5) Rename the column name 'Weather' of the dataframe to 'Weather Condition'.\n",
    "\n",
    "Q. 6) What is the mean 'Visibility' ?\n",
    "\n",
    "Q. 7) What is the Standard Deviation of 'Pressure'  in this data?\n",
    "\n",
    "Q. 8) What is the Variance of 'Relative Humidity' in this data ?\n",
    "\n",
    "Q. 9) Find all instances when 'Snow' was recorded.\n",
    "\n",
    "Q. 10) Find all instances when 'Wind Speed is above 24' and 'Visibility is 25'.\n",
    "\n",
    "Q. 11) What is the Mean value of each column against each 'Weather Condition ?\n",
    "\n",
    "Q. 12) What is the Minimum & Maximum value of each column against each 'Weather Condition ?\n",
    "\n",
    "Q. 13) Show all the Records where Weather Condition is Fog.\n",
    "\n",
    "Q. 14) Find all instances when 'Weather is Clear' or 'Visibility is above 40'.\n",
    "\n",
    "Q. 15) Find all instances when :"
   ]
  },
  {
   "cell_type": "code",
   "execution_count": null,
   "id": "63d6e7f7",
   "metadata": {},
   "outputs": [],
   "source": []
  }
 ],
 "metadata": {
  "language_info": {
   "name": "python"
  }
 },
 "nbformat": 4,
 "nbformat_minor": 5
}
