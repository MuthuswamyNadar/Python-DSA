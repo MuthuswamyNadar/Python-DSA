{
 "cells": [
  {
   "cell_type": "markdown",
   "id": "c82e3074",
   "metadata": {},
   "source": [
    "# Project weather \n"
   ]
  },
  {
   "cell_type": "markdown",
   "id": "ff3083e6",
   "metadata": {},
   "source": [
    "# Questions \n"
   ]
  },
  {
   "cell_type": "code",
   "execution_count": null,
   "id": "63d6e7f7",
   "metadata": {},
   "outputs": [],
   "source": []
  }
 ],
 "metadata": {
  "language_info": {
   "name": "python"
  }
 },
 "nbformat": 4,
 "nbformat_minor": 5
}
