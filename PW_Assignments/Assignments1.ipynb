{
 "cells": [
  {
   "cell_type": "markdown",
   "metadata": {},
   "source": [
    "1. What is Python, and why is it popular? \n",
    "\n",
    "\n",
    "Python is a high-level, interpreted programming language known for its simplicity, readability, and versatility. \n",
    "It's popular due to its ease of use, extensive libraries, and large community."
   ]
  },
  {
   "cell_type": "markdown",
   "metadata": {},
   "source": [
    "************************************************************************************************************************"
   ]
  },
  {
   "cell_type": "markdown",
   "metadata": {},
   "source": [
    "2. What is an interpreter in Python?\n",
    "\n",
    "An interpreter in Python is a program that directly executes the Python code without compiling it into machine code first. \n",
    "\n",
    "It translates the code line by line and reports errors as it encounters them."
   ]
  },
  {
   "cell_type": "markdown",
   "metadata": {},
   "source": [
    "************************************************************************************************************************"
   ]
  },
  {
   "cell_type": "markdown",
   "metadata": {},
   "source": [
    "3. What are pre-defined keywords in Python?\n",
    "\n",
    "Pre-defined keywords in Python are reserved words that have special meanings and cannot be used as variable names. \n",
    "\n",
    "Examples include if, else, for, while, and class."
   ]
  },
  {
   "cell_type": "markdown",
   "metadata": {},
   "source": [
    "*****************************************************************"
   ]
  },
  {
   "cell_type": "markdown",
   "metadata": {},
   "source": [
    "4. Can keywords be used as variable names?\n",
    "\n",
    "No, keywords cannot be used as variable names in Python."
   ]
  },
  {
   "cell_type": "markdown",
   "metadata": {},
   "source": [
    "*****************************************************************\n"
   ]
  },
  {
   "cell_type": "markdown",
   "metadata": {},
   "source": [
    "5. What is mutability in Python?\n",
    "\n",
    "Mutability in Python refers to the ability of an object to change its value after it's created."
   ]
  },
  {
   "cell_type": "markdown",
   "metadata": {},
   "source": [
    "*****************************************************************"
   ]
  },
  {
   "cell_type": "markdown",
   "metadata": {},
   "source": [
    "6. Why are lists mutable, but tuples are immutable?\n",
    "\n",
    "Lists are mutable because they are designed to be dynamic and allow modifications, such as adding or removing elements. \n",
    "\n",
    "Tuples, on the other hand, are immutable because they are intended to be static and unchanging."
   ]
  },
  {
   "cell_type": "markdown",
   "metadata": {},
   "source": [
    "**********************************************************************************************************************************"
   ]
  },
  {
   "cell_type": "markdown",
   "metadata": {},
   "source": [
    "7. What is the difference between “==” and “is” operators in Python?\n",
    "\n",
    "The == operator checks for equality of values, while the is operator checks for equality of identities \n",
    "\n",
    "(i.e., whether both variables point to the same object in memory)."
   ]
  },
  {
   "cell_type": "markdown",
   "metadata": {},
   "source": [
    "**********************************************************************************************************************************"
   ]
  },
  {
   "cell_type": "markdown",
   "metadata": {},
   "source": [
    "8. What are logical operators in Python?\n",
    "\n",
    "Logical operators in Python are used to combine conditional statements. \n",
    "\n",
    "The three main logical operators are and, or, and not."
   ]
  },
  {
   "cell_type": "markdown",
   "metadata": {},
   "source": [
    "*****************************************************************"
   ]
  },
  {
   "cell_type": "markdown",
   "metadata": {},
   "source": [
    "9. What is type casting in Python?\n",
    "\n",
    "Type casting in Python is the process of converting a value from one data type to another."
   ]
  },
  {
   "cell_type": "markdown",
   "metadata": {},
   "source": [
    "*****************************************************************"
   ]
  },
  {
   "cell_type": "markdown",
   "metadata": {},
   "source": [
    "10. What is the difference between implicit and explicit type casting?\n",
    "\n",
    "Implicit type casting occurs automatically when Python encounters an operation that requires a specific data type.\n",
    "\n",
    " Explicit type casting, on the other hand, is done manually using functions like int(), float(), or str()."
   ]
  },
  {
   "cell_type": "markdown",
   "metadata": {},
   "source": [
    "*****************************************************************"
   ]
  },
  {
   "cell_type": "markdown",
   "metadata": {},
   "source": [
    "11. What is the purpose of conditional statements in Python?\n",
    "\n",
    "Conditional statements in Python (such as if, elif, and else) allow the program to make decisions based on conditions or logic."
   ]
  },
  {
   "cell_type": "markdown",
   "metadata": {},
   "source": [
    "**********************************************************************************************************************************"
   ]
  },
  {
   "cell_type": "markdown",
   "metadata": {},
   "source": []
  },
  {
   "cell_type": "markdown",
   "metadata": {},
   "source": [
    "12. How does the elif statement work?\n",
    "\n",
    "The elif statement (short for \"else if\") is used to check another condition if the initial if condition is false."
   ]
  },
  {
   "cell_type": "markdown",
   "metadata": {},
   "source": [
    "**********************************************************************************************************************************"
   ]
  },
  {
   "cell_type": "markdown",
   "metadata": {},
   "source": [
    "13. What is the difference between for and while loops?\n",
    "\n",
    "for loops are used to iterate over a sequence (such as a list or string) and execute a block of code for each item. while loops, on the other hand, continue to execute a block of code as long as a certain condition is true."
   ]
  },
  {
   "cell_type": "markdown",
   "metadata": {},
   "source": [
    "**********************************************************************************************************************************"
   ]
  },
  {
   "cell_type": "markdown",
   "metadata": {},
   "source": [
    "14. Describe a scenario where a while loop is more suitable than a for loop.\n",
    "\n",
    "A while loop is more suitable when you need to repeat a task indefinitely, such as in a game loop or when waiting for user input."
   ]
  },
  {
   "cell_type": "markdown",
   "metadata": {},
   "source": [
    "## Practical Question "
   ]
  },
  {
   "cell_type": "markdown",
   "metadata": {},
   "source": [
    "\n",
    "\n",
    "1. Write a Python program to print \"Hello, World!\"\n",
    "\n",
    "print(\"Hello, World!\")"
   ]
  },
  {
   "cell_type": "markdown",
   "metadata": {},
   "source": [
    "*****************************************************************"
   ]
  },
  {
   "cell_type": "markdown",
   "metadata": {},
   "source": [
    "2. Write a Python program that displays your name and age.\n",
    "\n",
    "name = \"Your Name\"\n",
    "\n",
    "age = 20\n",
    "\n",
    "print(\"Name:\", name)\n",
    "\n",
    "print(\"Age:\", age)"
   ]
  },
  {
   "cell_type": "markdown",
   "metadata": {},
   "source": [
    "*****************************************************************"
   ]
  },
  {
   "cell_type": "markdown",
   "metadata": {},
   "source": [
    "3. Write code to print all the pre-defined keywords in Python using the keyword library.\n",
    "\n",
    "import keyword\n",
    "\n",
    "print(keyword.kwlist)"
   ]
  },
  {
   "cell_type": "markdown",
   "metadata": {},
   "source": [
    "*****************************************************************"
   ]
  },
  {
   "cell_type": "markdown",
   "metadata": {},
   "source": [
    "4. Write a program that checks if a given word is a Python keyword.\n",
    "\n",
    "import keyword\n",
    "\n",
    "word = input(\"Enter a word: \")\n",
    "\n",
    "if keyword.iskeyword(word):\n",
    "\n",
    "    print(word, \"is a Python keyword.\")\n",
    "\n",
    "else:\n",
    "\n",
    "    print(word, \"is not a Python keyword.\")"
   ]
  },
  {
   "cell_type": "markdown",
   "metadata": {},
   "source": [
    "*****************************************************************"
   ]
  },
  {
   "cell_type": "markdown",
   "metadata": {},
   "source": [
    "5. Create a list and tuple in Python, and demonstrate how attempting to change an element works differently for each.\n",
    "\n",
    "\n",
    "my_list = [1, 2, 3]\n",
    "\n",
    "my_tuple = (1, 2, 3)\n",
    "\n",
    "print(\"Original List:\", my_list)\n",
    "\n",
    "print(\"Original Tuple:\", my_tuple)\n",
    "\n",
    "my_list[0] = 10\n",
    "\n",
    "\n",
    "print(\"Updated List:\", my_list)\n",
    "\n",
    "print(\"Updated Tuple:\", my_tuple)"
   ]
  },
  {
   "cell_type": "markdown",
   "metadata": {},
   "source": [
    "*****************************************************************"
   ]
  },
  {
   "cell_type": "markdown",
   "metadata": {},
   "source": [
    "6. Write a function to demonstrate the behavior of mutable and immutable arguments.\n",
    "\n",
    "Python\n",
    "\n",
    "def change_list(my_list):\n",
    "\n",
    "    my_list.append(4)\n",
    "\n",
    "    print(\"List inside function:\", my_list)\n",
    "\n",
    "\n",
    "def change_tuple(my_tuple):\n",
    "\n",
    "    # my_tuple[0] = 10  # This will raise an error\n",
    "\n",
    "    my_tuple = (10, 2, 3)\n",
    "\n",
    "    print(\"Tuple inside function:\", my_tuple)\n",
    "\n",
    "\n",
    "my_list = [1, 2, 3]\n",
    "\n",
    "my_tuple = (1, 2, 3)\n",
    "\n",
    "\n",
    "print(\"Original List:\", my_list)\n",
    "\n",
    "print(\"Original Tuple:\", my_tuple)\n",
    "\n",
    "\n",
    "change_list(my_list)\n",
    "\n",
    "change_tuple(my_tuple)\n",
    "\n",
    "print(\"List after function call:\", my_list)\n",
    "\n",
    "print(\"Tuple after function call:\", my_tuple)"
   ]
  },
  {
   "cell_type": "markdown",
   "metadata": {},
   "source": [
    "*****************************************************************"
   ]
  },
  {
   "cell_type": "markdown",
   "metadata": {},
   "source": [
    "7. Write a program to demonstrate the use of logical operators.\n",
    "Python\n",
    "\n",
    "a = 10\n",
    "\n",
    "b = 20\n",
    "\n",
    "print(\"a =\", a)\n",
    "\n",
    "print(\"b =\", b)\n",
    "\n",
    "print(\"a > b and a < 15:\", a > b and a < 15)\n",
    "\n",
    "print(\"a > b or a < 15:\", a > b or a < 15)\n",
    "\n",
    "print(\"not (a > b):\", not (a > b))"
   ]
  },
  {
   "cell_type": "markdown",
   "metadata": {},
   "source": [
    "*****************************************************************"
   ]
  },
  {
   "cell_type": "markdown",
   "metadata": {},
   "source": [
    "8. Write a Python program to convert user input from string to integer, float, and boolean types.\n",
    "Python\n",
    "user_input = input(\"Enter a value: \")\n",
    "\n",
    "try:\n",
    "\n",
    "    int_value = int(user_input)\n",
    "\n",
    "    print(\"Integer value:\", int_value)\n",
    "\n",
    "except ValueError:\n",
    "\n",
    "    print(\"Cannot convert to integer.\")\n",
    "\n",
    "try:\n",
    "\n",
    "    float_value = float(user_input)\n",
    "\n",
    "    print(\"Float value:\", float_value)\n",
    "\n",
    "except ValueError:\n",
    "\n",
    "    print(\"Cannot convert to float.\")\n",
    "\n",
    "if user_input.lower() == \"true\":\n",
    "\n",
    "    bool_value = True\n",
    "\n",
    "elif user_input.lower() == \"false\":\n",
    "\n",
    "    bool_value = False\n",
    "\n",
    "else:\n",
    "\n",
    "    bool_value = None\n",
    "\n",
    "    print(\"Cannot convert to boolean.\")\n",
    "    \n",
    "if bool_value is not None:\n",
    "\n",
    "    print(\"Boolean value:\", bool_value)"
   ]
  },
  {
   "cell_type": "markdown",
   "metadata": {},
   "source": [
    "*****************************************************************"
   ]
  },
  {
   "cell_type": "markdown",
   "metadata": {},
   "source": [
    "9. Write code to demonstrate type casting with list elements.\n",
    "Python\n",
    "\n",
    "my_list = [\"1\", \"2\", \"3.5\", \"true\"]\n",
    "\n",
    "print(\"Original List:\", my_list)\n",
    "\n",
    "int_values = [int(i) for i in my_list if i.isdigit()]\n",
    "\n",
    "float_values = [float(i) for i in my_list if i.replace('.', '', 1).isdigit()]\n",
    "\n",
    "bool_values = [i.lower() == \"true\" for i in my_list if i.lower() in [\"true\", \"false\"]]\n",
    "\n",
    "print(\"Integer values:\", int_values)\n",
    "\n",
    "print(\"Float values:\", float_values)\n",
    "\n",
    "print(\"Boolean values:\", bool_values)"
   ]
  },
  {
   "cell_type": "markdown",
   "metadata": {},
   "source": [
    "*****************************************************************"
   ]
  },
  {
   "cell_type": "markdown",
   "metadata": {},
   "source": [
    "10. Write a program that checks if a number is positive, negative, or zero.\n",
    "\n",
    "num = float(input(\"Enter a number: \"))\n",
    "\n",
    "if num > 0:\n",
    "\n",
    "    print(num, \"is positive.\")\n",
    "\n",
    "elif num < 0:\n",
    "\n",
    "    print(num, \"is negative.\")\n",
    "\n",
    "else:\n",
    "\n",
    "    print(num, \"is zero.\")"
   ]
  },
  {
   "cell_type": "markdown",
   "metadata": {},
   "source": [
    "11. Write a for loop to print numbers from 1 to 100.\n",
    "\n",
    "for i in range(1, 101):\n",
    "\n",
    "    print(i)"
   ]
  },
  {
   "cell_type": "markdown",
   "metadata": {},
   "source": [
    "*****************************************************************"
   ]
  },
  {
   "cell_type": "markdown",
   "metadata": {},
   "source": [
    "12. Write a Python program to find the sum of all even numbers between 1 and 500.\n",
    "\n",
    "sum_even = sum(i for i in range(1, 501) if i % 2 == 0)\n",
    "\n",
    "print(\"Sum of even numbers between 1 and 500:\", sum_even)"
   ]
  },
  {
   "cell_type": "markdown",
   "metadata": {},
   "source": [
    "**********************************************************************************************************************************"
   ]
  },
  {
   "cell_type": "markdown",
   "metadata": {},
   "source": [
    "13. Write a program to reverse a string using a while loop.\n",
    "\n",
    "def reverse_string(s):\n",
    "\n",
    "    reversed_s = \"\"\n",
    "\n",
    "    i = len(s) - 1\n",
    "\n",
    "    while i >= 0:\n",
    "\n",
    "        reversed_s += s[i]\n",
    "\n",
    "        i -= 1\n",
    "\n",
    "    return reversed_s\n",
    "\n",
    "s = input(\"Enter a string: \")\n",
    "\n",
    "print(\"Reversed string:\", reverse_string(s))"
   ]
  },
  {
   "cell_type": "markdown",
   "metadata": {},
   "source": [
    "*****************************************************************"
   ]
  },
  {
   "cell_type": "markdown",
   "metadata": {},
   "source": [
    "14. Write a Python program to calculate the factorial of a number provided by the user using a while loop.\n",
    "\n",
    "def factorial(n):\n",
    "\n",
    "    fact = 1\n",
    "\n",
    "    i = 1\n",
    "\n",
    "    while i <= n:\n",
    "\n",
    "        fact *= i\n",
    "\n",
    "        i += 1\n",
    "\n",
    "    return fact\n",
    "\n",
    "n = int(input(\"Enter a number: \"))\n",
    "\n",
    "print(\"Factorial of\", n, \"is\", factorial(n))"
   ]
  },
  {
   "cell_type": "markdown",
   "metadata": {},
   "source": []
  },
  {
   "cell_type": "markdown",
   "metadata": {},
   "source": []
  }
 ],
 "metadata": {
  "language_info": {
   "name": "python"
  }
 },
 "nbformat": 4,
 "nbformat_minor": 2
}
