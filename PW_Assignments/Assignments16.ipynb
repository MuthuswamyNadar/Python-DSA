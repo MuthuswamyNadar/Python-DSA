{
 "cells": [
  {
   "cell_type": "markdown",
   "metadata": {},
   "source": [
    "# ************** Theory Questions **********************"
   ]
  },
  {
   "cell_type": "markdown",
   "metadata": {},
   "source": [
    "# What is a Support Vector Machine (SVM)?\n",
    "\n",
    "A Support Vector Machine (SVM) is a supervised machine learning model used primarily for classification tasks, but it can also be adapted for regression. It finds the optimal hyperplane that separates data points of different classes in a high-dimensional space, aiming to maximize the margin between the classes."
   ]
  },
  {
   "cell_type": "markdown",
   "metadata": {},
   "source": [
    "# What is the difference between Hard Margin and Soft Margin SVM?\n",
    "\n",
    "Hard Margin SVM requires that the data be perfectly linearly separable without any misclassifications, resulting in a stricter approach. In contrast, Soft Margin SVM allows for some misclassifications by introducing a penalty for errors, making it more flexible and suitable for real-world datasets where noise and overlap may exist."
   ]
  },
  {
   "cell_type": "markdown",
   "metadata": {},
   "source": [
    "# What is the mathematical intuition behind SVM?\n",
    "\n",
    "The mathematical intuition behind SVM involves formulating an optimization problem that seeks to maximize the margin between support vectors of different classes while minimizing classification errors. This is expressed as minimizing the weighted squared norm of the weight vector while ensuring constraints on class separability."
   ]
  },
  {
   "cell_type": "markdown",
   "metadata": {},
   "source": [
    "# What is the role of Lagrange Multipliers in SVM?\n",
    "\n",
    "Lagrange multipliers are used in SVM to transform the constrained optimization problem into an unconstrained one. By incorporating multipliers for the constraints into the optimization formulation, one can derive conditions that lead to solving the dual problem, which is essential for identifying support vectors and determining the optimal hyperplane."
   ]
  },
  {
   "cell_type": "markdown",
   "metadata": {},
   "source": [
    "# What are Support Vectors in SVM?\n",
    "\n",
    "Support vectors are the data points that are closest to the decision boundary (hyperplane) and have the greatest impact on its position. They are critical to the SVM model as they define the margin; removing any support vector would lead to a change in the position of the hyperplane."
   ]
  },
  {
   "cell_type": "markdown",
   "metadata": {},
   "source": [
    "# What is a Support Vector Classifier (SVC)?\n",
    "\n",
    "A Support Vector Classifier (SVC) is a specific implementation of the SVM algorithm tailored for classification problems. It constructs a hyperplane to distinguish between different classes by maximizing the margin and is highly effective in both linearly and non-linearly separable datasets."
   ]
  },
  {
   "cell_type": "markdown",
   "metadata": {},
   "source": [
    "# What is a Support Vector Regressor (SVR)?\n",
    "\n",
    "A Support Vector Regressor (SVR) extends the principles of SVM to regression problems. Instead of finding a hyperplane that separates classes, SVR aims to find a function that approximates the relationship between input features and continuous target values by minimizing the error within a specified margin."
   ]
  },
  {
   "cell_type": "markdown",
   "metadata": {},
   "source": [
    "# What is the Kernel Trick in SVM?\n",
    "\n",
    "The Kernel Trick is a technique that allows SVM to operate in a high-dimensional space without explicitly mapping the input features into that space. Instead of transforming the data points, it uses kernel functions to calculate the inner products directly in the feature space, making it possible to create complex decision boundaries."
   ]
  },
  {
   "cell_type": "markdown",
   "metadata": {},
   "source": [
    "# Compare Linear Kernel, Polynomial Kernel, and RBF Kernel.\n",
    "\n",
    "The Linear Kernel computes the dot product of the input vectors and is suitable for linearly separable data. The Polynomial Kernel extends the linear kernel to create polynomial decision boundaries using the degree of the polynomial as a parameter. The RBF (Radial Basis Function) Kernel, also known as the Gaussian kernel, handles non-linear relationships by calculating the distance between data points in an infinite-dimensional space."
   ]
  },
  {
   "cell_type": "markdown",
   "metadata": {},
   "source": [
    "# What is the effect of the C parameter in SVM?\n",
    "\n",
    "The CCC parameter in SVM controls the trade-off between maximizing the margin and minimizing classification errors. A small CCC value allows for a larger margin with more tolerance for misclassifications, while a large CCC value enforces stricter adherence to the training data, potentially leading to overfitting."
   ]
  },
  {
   "cell_type": "markdown",
   "metadata": {},
   "source": [
    "# What is the role of the Gamma parameter in RBF Kernel SVM?\n",
    "The γ\\gammaγ parameter in RBF Kernel SVM determines the influence of individual training examples. A small γ\\gammaγ means a wider influence (smoother decision boundary), while a large γ\\gammaγ means a more localized influence (more complex decision boundary). Adjusting γ\\gammaγ significantly affects the model's capacity to generalize."
   ]
  },
  {
   "cell_type": "markdown",
   "metadata": {},
   "source": [
    "# What is the Naïve Bayes classifier, and why is it called \"Naïve\"?\n",
    "The Naïve Bayes classifier is a probabilistic classification technique based on Bayes’ theorem, assuming strong independence among the features given the class label. It is termed \"naïve\" because it simplifies the problem by assuming that there are no dependencies between features, which may not hold true in practice."
   ]
  },
  {
   "cell_type": "markdown",
   "metadata": {},
   "source": [
    "# What is Bayes’ Theorem?\n",
    "Bayes' Theorem provides a mathematical framework for updating the probability of a hypothesis based on new evidence. It states that the probability of event AAA given event BBB is proportional to the probability of event BBB given event AAA, multiplied by the prior probability of event AAA, normalized by the probability of event BBB."
   ]
  },
  {
   "cell_type": "markdown",
   "metadata": {},
   "source": [
    "# Explain the differences between Gaussian Naïve Bayes, Multinomial Naïve Bayes, and Bernoulli Naïve Bayes.\n",
    "Gaussian Naïve Bayes assumes that continuous features follow a normal distribution, suitable for real-valued data. Multinomial Naïve Bayes is designed for discrete count data and works well with text data represented as word counts. Bernoulli Naïve Bayes is used for binary features, indicating the presence or absence of a feature rather than frequency."
   ]
  },
  {
   "cell_type": "markdown",
   "metadata": {},
   "source": [
    "# When should you use Gaussian Naïve Bayes over other variants?\n",
    "Gaussian Naïve Bayes is best used when your data features are continuous and can be assumed to follow a Gaussian distribution. It is particularly effective in datasets where this assumption holds true."
   ]
  },
  {
   "cell_type": "markdown",
   "metadata": {},
   "source": [
    "# What are the key assumptions made by Naïve Bayes?\n",
    "The key assumptions of Naïve Bayes include: (1) the independence assumption—that all features are conditionally independent given the class label, and (2) the conditional probability of observing a feature is independent of the presence of other features."
   ]
  },
  {
   "cell_type": "markdown",
   "metadata": {},
   "source": [
    "# What are the advantages and disadvantages of Naïve Bayes?\n",
    "Advantages: Naïve Bayes is computationally efficient, easy to implement, works well with high-dimensional datasets, and has good performance for text classification. Disadvantages: It relies on the independence assumption, which isn’t always valid, can perform poorly with correlated features, and may produce unreliable probability estimates."
   ]
  },
  {
   "cell_type": "markdown",
   "metadata": {},
   "source": [
    "# Why is Naïve Bayes a good choice for text classification?\n",
    "Naïve Bayes is effective for text classification tasks because it handles high-dimensional data well, works efficiently with sparse data (common in text), and is capable of making quick probabilistic predictions based on word occurrences."
   ]
  },
  {
   "cell_type": "markdown",
   "metadata": {},
   "source": [
    "# Compare SVM and Naïve Bayes for classification tasks.\n",
    "SVM is a powerful classifier that can handle complex decision boundaries and non-linear data with the use of kernel functions. It often performs well with structured data, while Naïve Bayes is simpler and faster to train, effective with high-dimensional and sparse datasets, particularly in text classification. The performance comparison depends on the dataset characteristics and the nature of the classification task."
   ]
  },
  {
   "cell_type": "markdown",
   "metadata": {},
   "source": [
    "# How does Laplace Smoothing help in Naïve Bayes?\n",
    "Laplace Smoothing, also called add-one smoothing, prevents zero probability estimates for unseen feature-class combinations during prediction. By adding a small constant (usually 1) to the counts of all features, it ensures that every possible feature has a non-zero probability, improving the generalization of the classifier, especially in sparse datasets."
   ]
  },
  {
   "cell_type": "markdown",
   "metadata": {},
   "source": [
    "# ************** Practical Questions **********************"
   ]
  },
  {
   "cell_type": "markdown",
   "metadata": {},
   "source": [
    "# 1. SVM Classifier on the Iris Dataset"
   ]
  },
  {
   "cell_type": "code",
   "execution_count": 1,
   "metadata": {},
   "outputs": [
    {
     "name": "stdout",
     "output_type": "stream",
     "text": [
      "Accuracy of SVM Classifier on Iris dataset: 1.00\n"
     ]
    }
   ],
   "source": [
    "import numpy as np\n",
    "from sklearn import datasets\n",
    "from sklearn.model_selection import train_test_split\n",
    "from sklearn.svm import SVC\n",
    "from sklearn.metrics import accuracy_score\n",
    "\n",
    "# Load Iris dataset\n",
    "iris = datasets.load_iris()\n",
    "X = iris.data\n",
    "y = iris.target\n",
    "\n",
    "# Split the dataset into training and testing sets\n",
    "X_train, X_test, y_train, y_test = train_test_split(X, y, test_size=0.2, random_state=42)\n",
    "\n",
    "# Train SVM Classifier\n",
    "model = SVC(kernel='linear')\n",
    "model.fit(X_train, y_train)\n",
    "\n",
    "# Predict and evaluate accuracy\n",
    "y_pred = model.predict(X_test)\n",
    "accuracy = accuracy_score(y_test, y_pred)\n",
    "\n",
    "print(f'Accuracy of SVM Classifier on Iris dataset: {accuracy:.2f}')"
   ]
  },
  {
   "cell_type": "markdown",
   "metadata": {},
   "source": [
    "# 2. Train SVM Classifiers with Linear and RBF Kernels on the Wine Dataset"
   ]
  },
  {
   "cell_type": "code",
   "execution_count": 2,
   "metadata": {},
   "outputs": [
    {
     "name": "stdout",
     "output_type": "stream",
     "text": [
      "Accuracy of SVM Classifier with Linear Kernel: 1.00\n",
      "Accuracy of SVM Classifier with RBF Kernel: 0.81\n"
     ]
    }
   ],
   "source": [
    "import numpy as np\n",
    "from sklearn import datasets\n",
    "from sklearn.model_selection import train_test_split\n",
    "from sklearn.svm import SVC\n",
    "from sklearn.metrics import accuracy_score\n",
    "\n",
    "# Load Wine dataset\n",
    "wine = datasets.load_wine()\n",
    "X = wine.data\n",
    "y = wine.target\n",
    "\n",
    "# Split the dataset into training and testing sets\n",
    "X_train, X_test, y_train, y_test = train_test_split(X, y, test_size=0.2, random_state=42)\n",
    "\n",
    "# Train SVM Classifier with Linear Kernel\n",
    "model_linear = SVC(kernel='linear')\n",
    "model_linear.fit(X_train, y_train)\n",
    "y_pred_linear = model_linear.predict(X_test)\n",
    "accuracy_linear = accuracy_score(y_test, y_pred_linear)\n",
    "\n",
    "# Train SVM Classifier with RBF Kernel\n",
    "model_rbf = SVC(kernel='rbf')\n",
    "model_rbf.fit(X_train, y_train)\n",
    "y_pred_rbf = model_rbf.predict(X_test)\n",
    "accuracy_rbf = accuracy_score(y_test, y_pred_rbf)\n",
    "\n",
    "print(f'Accuracy of SVM Classifier with Linear Kernel: {accuracy_linear:.2f}')\n",
    "print(f'Accuracy of SVM Classifier with RBF Kernel: {accuracy_rbf:.2f}')"
   ]
  },
  {
   "cell_type": "markdown",
   "metadata": {},
   "source": [
    "# 3. Train an SVM Regressor (SVR) on a Housing Dataset"
   ]
  },
  {
   "cell_type": "code",
   "execution_count": null,
   "metadata": {},
   "outputs": [],
   "source": [
    "import numpy as np\n",
    "import pandas as pd\n",
    "from sklearn.model_selection import train_test_split\n",
    "from sklearn.svm import SVR\n",
    "from sklearn.metrics import mean_squared_error\n",
    "from sklearn.datasets import fetch_california_housing\n",
    "\n",
    "# Load California housing dataset\n",
    "data = fetch_california_housing()\n",
    "X = data.data\n",
    "y = data.target\n",
    "\n",
    "# Split the dataset into training and testing sets\n",
    "X_train, X_test, y_train, y_test = train_test_split(X, y, test_size=0.2, random_state=42)\n",
    "\n",
    "# Train SVM Regressor\n",
    "svr_model = SVR(kernel='linear') # You can try other kernels as well\n",
    "svr_model.fit(X_train, y_train)\n",
    "\n",
    "# Predict and evaluate using Mean Squared Error\n",
    "y_pred = svr_model.predict(X_test)\n",
    "mse = mean_squared_error(y_test, y_pred)\n",
    "\n",
    "print(f'Mean Squared Error of SVR: {mse:.2f}')"
   ]
  },
  {
   "cell_type": "markdown",
   "metadata": {},
   "source": [
    "# 4. SVM Classifier with Polynomial Kernel and Visualization"
   ]
  },
  {
   "cell_type": "code",
   "execution_count": 1,
   "metadata": {},
   "outputs": [
    {
     "name": "stderr",
     "output_type": "stream",
     "text": [
      "C:\\Users\\swamy\\AppData\\Local\\Temp\\ipykernel_20944\\1437251564.py:29: UserWarning: You passed a edgecolor/edgecolors ('k') for an unfilled marker ('x').  Matplotlib is ignoring the edgecolor in favor of the facecolor.  This behavior may change in the future.\n",
      "  plt.scatter(X_test[:, 0], X_test[:, 1], c=y_test, edgecolors='k', marker='x', label='Test')\n"
     ]
    },
    {
     "data": {
      "image/png": "[encoded data removed]",
      "text/plain": [
       "<Figure size 1000x600 with 1 Axes>"
      ]
     },
     "metadata": {},
     "output_type": "display_data"
    }
   ],
   "source": [
    "import numpy as np\n",
    "import matplotlib.pyplot as plt\n",
    "from sklearn import datasets\n",
    "from sklearn.model_selection import train_test_split\n",
    "from sklearn.svm import SVC\n",
    "\n",
    "# Load the Iris dataset\n",
    "iris = datasets.load_iris()\n",
    "X = iris.data[:, :2]  # Use only the first two features for visualization\n",
    "y = iris.target\n",
    "\n",
    "# Split the dataset into training and testing sets\n",
    "X_train, X_test, y_train, y_test = train_test_split(X, y, test_size=0.2, random_state=42)\n",
    "\n",
    "# Train SVM Classifier with Polynomial Kernel\n",
    "model_poly = SVC(kernel='poly', degree=3)\n",
    "model_poly.fit(X_train, y_train)\n",
    "\n",
    "# Visualize decision boundary\n",
    "x_min, x_max = X[:, 0].min() - 1, X[:, 0].max() + 1\n",
    "y_min, y_max = X[:, 1].min() - 1, X[:, 1].max() + 1\n",
    "xx, yy = np.meshgrid(np.arange(x_min, x_max, 0.01), np.arange(y_min, y_max, 0.01))\n",
    "Z = model_poly.predict(np.c_[xx.ravel(), yy.ravel()])\n",
    "Z = Z.reshape(xx.shape)\n",
    "\n",
    "plt.figure(figsize=(10, 6))\n",
    "plt.contourf(xx, yy, Z, alpha=0.8)\n",
    "plt.scatter(X_train[:, 0], X_train[:, 1], c=y_train, edgecolors='k', marker='o', label='Train')\n",
    "plt.scatter(X_test[:, 0], X_test[:, 1], c=y_test, edgecolors='k', marker='x', label='Test')\n",
    "plt.xlabel('Feature 1')\n",
    "plt.ylabel('Feature 2')\n",
    "plt.title('SVM with Polynomial Kernel Decision Boundary')\n",
    "plt.legend()\n",
    "plt.show()"
   ]
  },
  {
   "cell_type": "markdown",
   "metadata": {},
   "source": [
    "# 5. Train a Gaussian Naïve Bayes Classifier on the Breast Cancer Dataset"
   ]
  },
  {
   "cell_type": "code",
   "execution_count": 2,
   "metadata": {},
   "outputs": [
    {
     "name": "stdout",
     "output_type": "stream",
     "text": [
      "Accuracy of Gaussian Naïve Bayes Classifier on Breast Cancer dataset: 0.97\n"
     ]
    }
   ],
   "source": [
    "import numpy as np\n",
    "from sklearn import datasets\n",
    "from sklearn.model_selection import train_test_split\n",
    "from sklearn.naive_bayes import GaussianNB\n",
    "from sklearn.metrics import accuracy_score\n",
    "\n",
    "# Load Breast Cancer dataset\n",
    "breast_cancer = datasets.load_breast_cancer()\n",
    "X = breast_cancer.data\n",
    "y = breast_cancer.target\n",
    "\n",
    "# Split the dataset into training and testing sets\n",
    "X_train, X_test, y_train, y_test = train_test_split(X, y, test_size=0.2, random_state=42)\n",
    "\n",
    "# Train Gaussian Naïve Bayes classifier\n",
    "gnb_model = GaussianNB()\n",
    "gnb_model.fit(X_train, y_train)\n",
    "\n",
    "# Predict and evaluate accuracy\n",
    "y_pred = gnb_model.predict(X_test)\n",
    "accuracy = accuracy_score(y_test, y_pred)\n",
    "\n",
    "print(f'Accuracy of Gaussian Naïve Bayes Classifier on Breast Cancer dataset: {accuracy:.2f}')\n"
   ]
  },
  {
   "cell_type": "markdown",
   "metadata": {},
   "source": [
    "# 6. Train a Multinomial Naïve Bayes Classifier for Text Classification Using the 20 Newsgroups Dataset"
   ]
  },
  {
   "cell_type": "code",
   "execution_count": 1,
   "metadata": {},
   "outputs": [
    {
     "name": "stdout",
     "output_type": "stream",
     "text": [
      "Accuracy of Multinomial Naïve Bayes Classifier on 20 Newsgroups dataset: 0.85\n"
     ]
    }
   ],
   "source": [
    "from sklearn.datasets import fetch_20newsgroups\n",
    "from sklearn.feature_extraction.text import CountVectorizer\n",
    "from sklearn.model_selection import train_test_split\n",
    "from sklearn.naive_bayes import MultinomialNB\n",
    "from sklearn.metrics import accuracy_score\n",
    "\n",
    "# Load the 20 Newsgroups dataset\n",
    "newsgroups = fetch_20newsgroups(subset='all')\n",
    "X = newsgroups.data\n",
    "y = newsgroups.target\n",
    "\n",
    "# Convert text documents to a matrix of token counts\n",
    "vectorizer = CountVectorizer()\n",
    "X_vectorized = vectorizer.fit_transform(X)\n",
    "\n",
    "# Split the dataset into training and testing sets\n",
    "X_train, X_test, y_train, y_test = train_test_split(X_vectorized, y, test_size=0.2, random_state=42)\n",
    "\n",
    "# Train Multinomial Naïve Bayes classifier\n",
    "mnb_model = MultinomialNB()\n",
    "mnb_model.fit(X_train, y_train)\n",
    "\n",
    "# Predict and evaluate accuracy\n",
    "y_pred = mnb_model.predict(X_test)\n",
    "accuracy = accuracy_score(y_test, y_pred)\n",
    "\n",
    "print(f'Accuracy of Multinomial Naïve Bayes Classifier on 20 Newsgroups dataset: {accuracy:.2f}')"
   ]
  },
  {
   "cell_type": "markdown",
   "metadata": {},
   "source": [
    "# 7 SVM Classifier with Different C Values"
   ]
  },
  {
   "cell_type": "code",
   "execution_count": 2,
   "metadata": {},
   "outputs": [
    {
     "data": {
      "image/png": "[encoded data removed]",
      "text/plain": [
       "<Figure size 1500x500 with 3 Axes>"
      ]
     },
     "metadata": {},
     "output_type": "display_data"
    }
   ],
   "source": [
    "import numpy as np\n",
    "import matplotlib.pyplot as plt\n",
    "from sklearn import datasets\n",
    "from sklearn import svm\n",
    "from sklearn.model_selection import train_test_split\n",
    "\n",
    "# Load a dataset\n",
    "X, y = datasets.make_moons(n_samples=100, noise=0.1, random_state=42)\n",
    "\n",
    "# Split the dataset\n",
    "X_train, X_test, y_train, y_test = train_test_split(X, y, test_size=0.3, random_state=42)\n",
    "\n",
    "# Different C values\n",
    "C_values = [0.1, 1, 10]\n",
    "plt.figure(figsize=(15, 5))\n",
    "\n",
    "for i, C in enumerate(C_values):\n",
    "    model = svm.SVC(C=C, kernel='rbf', gamma='scale')\n",
    "    model.fit(X_train, y_train)\n",
    "\n",
    "    plt.subplot(1, len(C_values), i + 1)\n",
    "    plt.scatter(X[:, 0], X[:, 1], c=y, s=30, cmap=plt.cm.Paired)\n",
    "    \n",
    "    # Create grid points\n",
    "    xlim = plt.xlim()\n",
    "    ylim = plt.ylim()\n",
    "    xx, yy = np.meshgrid(np.linspace(xlim[0], xlim[1], 100), np.linspace(ylim[0], ylim[1], 100))\n",
    "    Z = model.decision_function(np.c_[xx.ravel(), yy.ravel()])\n",
    "    Z = Z.reshape(xx.shape)\n",
    "    plt.contour(xx, yy, Z, colors='k', levels=[0], alpha=0.5)\n",
    "\n",
    "    plt.title(f'SVM with C={C}')\n",
    "    plt.xlim(xlim)\n",
    "    plt.ylim(ylim)\n",
    "\n",
    "plt.tight_layout()\n",
    "plt.show()"
   ]
  },
  {
   "cell_type": "markdown",
   "metadata": {},
   "source": [
    "# 8 Bernoulli Naïve Bayes Classifier"
   ]
  },
  {
   "cell_type": "code",
   "execution_count": 3,
   "metadata": {},
   "outputs": [
    {
     "name": "stdout",
     "output_type": "stream",
     "text": [
      "Accuracy: 0.5\n"
     ]
    }
   ],
   "source": [
    "import numpy as np\n",
    "import pandas as pd\n",
    "from sklearn.naive_bayes import BernoulliNB\n",
    "from sklearn.model_selection import train_test_split\n",
    "from sklearn.metrics import accuracy_score\n",
    "\n",
    "# Generate sample binary features\n",
    "X = np.random.randint(0, 2, (100, 5))\n",
    "y = np.random.randint(0, 2, 100)\n",
    "\n",
    "# Train-test split\n",
    "X_train, X_test, y_train, y_test = train_test_split(X, y, test_size=0.3, random_state=42)\n",
    "\n",
    "# Train a Bernoulli Naïve Bayes classifier\n",
    "model = BernoulliNB()\n",
    "model.fit(X_train, y_train)\n",
    "\n",
    "# Make predictions\n",
    "y_pred = model.predict(X_test)\n",
    "\n",
    "print(f'Accuracy: {accuracy_score(y_test, y_pred)}')"
   ]
  },
  {
   "cell_type": "markdown",
   "metadata": {},
   "source": [
    "# 9. Feature Scaling before Training SVM"
   ]
  },
  {
   "cell_type": "code",
   "execution_count": 4,
   "metadata": {},
   "outputs": [
    {
     "name": "stdout",
     "output_type": "stream",
     "text": [
      "Accuracy without scaling: 1.0\n",
      "Accuracy with scaling: 1.0\n"
     ]
    }
   ],
   "source": [
    "from sklearn.preprocessing import StandardScaler\n",
    "from sklearn.svm import SVC\n",
    "from sklearn.metrics import accuracy_score\n",
    "\n",
    "# Load dataset\n",
    "X, y = datasets.load_iris(return_X_y=True)\n",
    "\n",
    "# Split dataset\n",
    "X_train, X_test, y_train, y_test = train_test_split(X, y, test_size=0.3, random_state=42)\n",
    "\n",
    "# Without scaling\n",
    "model_unscaled = SVC()\n",
    "model_unscaled.fit(X_train, y_train)\n",
    "unscaled_pred = model_unscaled.predict(X_test)\n",
    "print(f'Accuracy without scaling: {accuracy_score(y_test, unscaled_pred)}')\n",
    "\n",
    "# With scaling\n",
    "scaler = StandardScaler()\n",
    "X_train_scaled = scaler.fit_transform(X_train)\n",
    "X_test_scaled = scaler.transform(X_test)\n",
    "\n",
    "model_scaled = SVC()\n",
    "model_scaled.fit(X_train_scaled, y_train)\n",
    "scaled_pred = model_scaled.predict(X_test_scaled)\n",
    "print(f'Accuracy with scaling: {accuracy_score(y_test, scaled_pred)}')"
   ]
  },
  {
   "cell_type": "markdown",
   "metadata": {},
   "source": [
    "# 10 Gaussian Naïve Bayes Model with Laplace Smoothing"
   ]
  },
  {
   "cell_type": "code",
   "execution_count": 5,
   "metadata": {},
   "outputs": [
    {
     "name": "stdout",
     "output_type": "stream",
     "text": [
      "Accuracy without smoothing: 0.9777777777777777\n",
      "Accuracy with smoothing: 0.9777777777777777\n"
     ]
    }
   ],
   "source": [
    "from sklearn.naive_bayes import GaussianNB\n",
    "from sklearn.metrics import accuracy_score\n",
    "\n",
    "# Load dataset\n",
    "X, y = datasets.load_iris(return_X_y=True)\n",
    "\n",
    "# Train-test split\n",
    "X_train, X_test, y_train, y_test = train_test_split(X, y, test_size=0.3, random_state=42)\n",
    "\n",
    "# Train without smoothing\n",
    "model_no_smoothing = GaussianNB()\n",
    "model_no_smoothing.fit(X_train, y_train)\n",
    "pred_no_smoothing = model_no_smoothing.predict(X_test)\n",
    "\n",
    "# Train with Laplace smoothing (default is alpha=1)\n",
    "model_with_smoothing = GaussianNB(var_smoothing=1)\n",
    "model_with_smoothing.fit(X_train, y_train)\n",
    "pred_with_smoothing = model_with_smoothing.predict(X_test)\n",
    "\n",
    "print(f'Accuracy without smoothing: {accuracy_score(y_test, pred_no_smoothing)}')\n",
    "print(f'Accuracy with smoothing: {accuracy_score(y_test, pred_with_smoothing)}')"
   ]
  },
  {
   "cell_type": "markdown",
   "metadata": {},
   "source": [
    "# 11 Hyperparameter Tuning with GridSearchCV"
   ]
  },
  {
   "cell_type": "code",
   "execution_count": 6,
   "metadata": {},
   "outputs": [
    {
     "name": "stdout",
     "output_type": "stream",
     "text": [
      "Best parameters: {'C': 1, 'gamma': 0.01, 'kernel': 'linear'}\n",
      "Best accuracy: 0.9619047619047618\n"
     ]
    }
   ],
   "source": [
    "from sklearn.model_selection import GridSearchCV\n",
    "\n",
    "# Load dataset\n",
    "X, y = datasets.load_iris(return_X_y=True)\n",
    "\n",
    "# Split dataset\n",
    "X_train, X_test, y_train, y_test = train_test_split(X, y, test_size=0.3, random_state=42)\n",
    "\n",
    "param_grid = {'C': [0.1, 1, 10], 'gamma': [0.01, 0.1, 1], 'kernel': ['linear', 'rbf']}\n",
    "grid_search = GridSearchCV(SVC(), param_grid, cv=5)\n",
    "grid_search.fit(X_train, y_train)\n",
    "\n",
    "print(f'Best parameters: {grid_search.best_params_}')\n",
    "print(f'Best accuracy: {grid_search.best_score_}')"
   ]
  },
  {
   "cell_type": "markdown",
   "metadata": {},
   "source": [
    "# 12 SVM on Imbalanced Dataset with Class Weighting"
   ]
  },
  {
   "cell_type": "code",
   "execution_count": 7,
   "metadata": {},
   "outputs": [
    {
     "name": "stdout",
     "output_type": "stream",
     "text": [
      "Accuracy with class weighting: 0.9333333333333333\n"
     ]
    }
   ],
   "source": [
    "from sklearn.datasets import make_classification\n",
    "\n",
    "# Generate imbalanced dataset\n",
    "X, y = make_classification(n_classes=2, n_features=20, n_informative=2, n_redundant=10, weights=[0.9, 0.1], flip_y=0, random_state=42)\n",
    "\n",
    "# Split dataset\n",
    "X_train, X_test, y_train, y_test = train_test_split(X, y, test_size=0.3, random_state=42)\n",
    "\n",
    "# Train SVM with class weight\n",
    "model = SVC(class_weight='balanced')\n",
    "model.fit(X_train, y_train)\n",
    "pred = model.predict(X_test)\n",
    "\n",
    "print(f'Accuracy with class weighting: {accuracy_score(y_test, pred)}')"
   ]
  },
  {
   "cell_type": "markdown",
   "metadata": {},
   "source": [
    "# 13. Naïve Bayes Classifier for Spam Detection"
   ]
  },
  {
   "cell_type": "code",
   "execution_count": 10,
   "metadata": {},
   "outputs": [
    {
     "name": "stdout",
     "output_type": "stream",
     "text": [
      "Accuracy: 0.0\n"
     ]
    }
   ],
   "source": [
    "import pandas as pd\n",
    "from sklearn.model_selection import train_test_split\n",
    "from sklearn.feature_extraction.text import CountVectorizer\n",
    "from sklearn.naive_bayes import MultinomialNB\n",
    "from sklearn.metrics import accuracy_score\n",
    "\n",
    "# Example Email data (for simplicity, you can replace this with your dataset)\n",
    "data = {'email': ['Win a free iPhone!', 'Hello, how are you?', 'Free money now!', 'Let’s catch up soon'],\n",
    "        'label': ['spam', 'ham', 'spam', 'ham']}\n",
    "df = pd.DataFrame(data)\n",
    "\n",
    "# Split into features and labels\n",
    "X = df['email']\n",
    "y = df['label']\n",
    "\n",
    "# Convert text to feature vectors\n",
    "vectorizer = CountVectorizer()\n",
    "X_vectorized = vectorizer.fit_transform(X)\n",
    "\n",
    "# Split dataset into train and test\n",
    "X_train, X_test, y_train, y_test = train_test_split(X_vectorized, y, test_size=0.25, random_state=42)\n",
    "\n",
    "# Train Naïve Bayes classifier\n",
    "nb_model = MultinomialNB()\n",
    "nb_model.fit(X_train, y_train)\n",
    "\n",
    "# Make predictions and calculate accuracy\n",
    "y_pred = nb_model.predict(X_test)\n",
    "accuracy = accuracy_score(y_test, y_pred)\n",
    "print(f'Accuracy: {accuracy}')\n"
   ]
  },
  {
   "cell_type": "markdown",
   "metadata": {},
   "source": [
    "# 14. Compare SVM Classifier and Naïve Bayes Classifier"
   ]
  },
  {
   "cell_type": "code",
   "execution_count": 11,
   "metadata": {},
   "outputs": [
    {
     "name": "stdout",
     "output_type": "stream",
     "text": [
      "Naïve Bayes Accuracy: 0.0\n",
      "SVM Accuracy: 0.0\n"
     ]
    }
   ],
   "source": [
    "from sklearn.svm import SVC\n",
    "from sklearn.naive_bayes import MultinomialNB\n",
    "from sklearn.metrics import accuracy_score\n",
    "\n",
    "# Train Naïve Bayes\n",
    "nb_model = MultinomialNB()\n",
    "nb_model.fit(X_train, y_train)\n",
    "nb_y_pred = nb_model.predict(X_test)\n",
    "\n",
    "# Train SVM\n",
    "svm_model = SVC(kernel='linear')\n",
    "svm_model.fit(X_train, y_train)\n",
    "svm_y_pred = svm_model.predict(X_test)\n",
    "\n",
    "# Accuracy comparison\n",
    "nb_accuracy = accuracy_score(y_test, nb_y_pred)\n",
    "svm_accuracy = accuracy_score(y_test, svm_y_pred)\n",
    "print(f'Naïve Bayes Accuracy: {nb_accuracy}')\n",
    "print(f'SVM Accuracy: {svm_accuracy}')\n"
   ]
  },
  {
   "cell_type": "markdown",
   "metadata": {},
   "source": [
    "# 15 Perform Feature Selection Before Training a Naïve Bayes Classifier"
   ]
  },
  {
   "cell_type": "code",
   "execution_count": 12,
   "metadata": {},
   "outputs": [
    {
     "name": "stdout",
     "output_type": "stream",
     "text": [
      "Accuracy with feature selection: 1.0\n"
     ]
    }
   ],
   "source": [
    "from sklearn.feature_selection import SelectKBest, chi2\n",
    "\n",
    "# Feature selection\n",
    "selector = SelectKBest(chi2, k=2)  # Select top 2 features based on chi-square test\n",
    "X_selected = selector.fit_transform(X_vectorized, y)\n",
    "\n",
    "# Train Naïve Bayes classifier with selected features\n",
    "nb_model.fit(X_selected, y)\n",
    "X_test_selected = selector.transform(X_test)\n",
    "y_pred = nb_model.predict(X_test_selected)\n",
    "\n",
    "# Accuracy comparison\n",
    "accuracy = accuracy_score(y_test, y_pred)\n",
    "print(f'Accuracy with feature selection: {accuracy}')\n"
   ]
  },
  {
   "cell_type": "markdown",
   "metadata": {},
   "source": [
    "# 16  Train SVM Classifier Using OvR and OvO Strategies and Compare Accuracy on Wine Dataset"
   ]
  },
  {
   "cell_type": "code",
   "execution_count": 13,
   "metadata": {},
   "outputs": [
    {
     "name": "stdout",
     "output_type": "stream",
     "text": [
      "One-vs-Rest Accuracy: 0.9814814814814815\n",
      "One-vs-One Accuracy: 0.9814814814814815\n"
     ]
    }
   ],
   "source": [
    "from sklearn.datasets import load_wine\n",
    "from sklearn.svm import SVC\n",
    "from sklearn.multiclass import OneVsRestClassifier, OneVsOneClassifier\n",
    "from sklearn.model_selection import train_test_split\n",
    "from sklearn.metrics import accuracy_score\n",
    "\n",
    "# Load Wine dataset\n",
    "wine = load_wine()\n",
    "X, y = wine.data, wine.target\n",
    "\n",
    "# Split dataset\n",
    "X_train, X_test, y_train, y_test = train_test_split(X, y, test_size=0.3, random_state=42)\n",
    "\n",
    "# One-vs-Rest\n",
    "ovr_svm = OneVsRestClassifier(SVC(kernel='linear'))\n",
    "ovr_svm.fit(X_train, y_train)\n",
    "ovr_y_pred = ovr_svm.predict(X_test)\n",
    "ovr_accuracy = accuracy_score(y_test, ovr_y_pred)\n",
    "\n",
    "# One-vs-One\n",
    "ovo_svm = OneVsOneClassifier(SVC(kernel='linear'))\n",
    "ovo_svm.fit(X_train, y_train)\n",
    "ovo_y_pred = ovo_svm.predict(X_test)\n",
    "ovo_accuracy = accuracy_score(y_test, ovo_y_pred)\n",
    "\n",
    "# Compare accuracies\n",
    "print(f'One-vs-Rest Accuracy: {ovr_accuracy}')\n",
    "print(f'One-vs-One Accuracy: {ovo_accuracy}')\n"
   ]
  },
  {
   "cell_type": "markdown",
   "metadata": {},
   "source": [
    "# 17 Train SVM Classifier Using Linear, Polynomial, and RBF Kernels on the Breast Cancer Dataset"
   ]
  },
  {
   "cell_type": "code",
   "execution_count": 14,
   "metadata": {},
   "outputs": [
    {
     "name": "stdout",
     "output_type": "stream",
     "text": [
      "Linear SVM Accuracy: 0.9649122807017544\n",
      "Polynomial SVM Accuracy: 0.9415204678362573\n",
      "RBF SVM Accuracy: 0.935672514619883\n"
     ]
    }
   ],
   "source": [
    "from sklearn.datasets import load_breast_cancer\n",
    "from sklearn.svm import SVC\n",
    "from sklearn.model_selection import train_test_split\n",
    "from sklearn.metrics import accuracy_score\n",
    "\n",
    "# Load Breast Cancer dataset\n",
    "cancer = load_breast_cancer()\n",
    "X, y = cancer.data, cancer.target\n",
    "\n",
    "# Split dataset\n",
    "X_train, X_test, y_train, y_test = train_test_split(X, y, test_size=0.3, random_state=42)\n",
    "\n",
    "# Train with Linear Kernel\n",
    "linear_svm = SVC(kernel='linear')\n",
    "linear_svm.fit(X_train, y_train)\n",
    "linear_y_pred = linear_svm.predict(X_test)\n",
    "linear_accuracy = accuracy_score(y_test, linear_y_pred)\n",
    "\n",
    "# Train with Polynomial Kernel\n",
    "poly_svm = SVC(kernel='poly', degree=3)\n",
    "poly_svm.fit(X_train, y_train)\n",
    "poly_y_pred = poly_svm.predict(X_test)\n",
    "poly_accuracy = accuracy_score(y_test, poly_y_pred)\n",
    "\n",
    "# Train with RBF Kernel\n",
    "rbf_svm = SVC(kernel='rbf')\n",
    "rbf_svm.fit(X_train, y_train)\n",
    "rbf_y_pred = rbf_svm.predict(X_test)\n",
    "rbf_accuracy = accuracy_score(y_test, rbf_y_pred)\n",
    "\n",
    "# Compare accuracies\n",
    "print(f'Linear SVM Accuracy: {linear_accuracy}')\n",
    "print(f'Polynomial SVM Accuracy: {poly_accuracy}')\n",
    "print(f'RBF SVM Accuracy: {rbf_accuracy}')\n"
   ]
  },
  {
   "cell_type": "markdown",
   "metadata": {},
   "source": [
    "# 18 Train SVM Classifier Using Stratified K-Fold Cross-Validation and Compute Average Accuracy"
   ]
  },
  {
   "cell_type": "code",
   "execution_count": 15,
   "metadata": {},
   "outputs": [
    {
     "name": "stdout",
     "output_type": "stream",
     "text": [
      "Average Accuracy: 0.9455364073901569\n"
     ]
    }
   ],
   "source": [
    "from sklearn.model_selection import StratifiedKFold, cross_val_score\n",
    "\n",
    "# Stratified K-Fold cross-validation\n",
    "svm = SVC(kernel='linear')\n",
    "cv = StratifiedKFold(n_splits=5)\n",
    "\n",
    "# Compute average accuracy\n",
    "scores = cross_val_score(svm, X, y, cv=cv, scoring='accuracy')\n",
    "print(f'Average Accuracy: {scores.mean()}')\n"
   ]
  },
  {
   "cell_type": "markdown",
   "metadata": {},
   "source": [
    "# 19 Train Naïve Bayes Classifier with Different Prior Probabilities and Compare Performance"
   ]
  },
  {
   "cell_type": "code",
   "execution_count": 16,
   "metadata": {},
   "outputs": [
    {
     "name": "stdout",
     "output_type": "stream",
     "text": [
      "Default Naïve Bayes Accuracy: 0.9122807017543859\n",
      "Custom Naïve Bayes Accuracy: 0.9122807017543859\n"
     ]
    }
   ],
   "source": [
    "from sklearn.naive_bayes import MultinomialNB\n",
    "\n",
    "# Train with default priors\n",
    "nb_default = MultinomialNB()\n",
    "nb_default.fit(X_train, y_train)\n",
    "y_pred_default = nb_default.predict(X_test)\n",
    "default_accuracy = accuracy_score(y_test, y_pred_default)\n",
    "\n",
    "# Train with custom priors (example: giving more weight to 'ham')\n",
    "nb_custom = MultinomialNB(class_prior=[0.1, 0.9])\n",
    "nb_custom.fit(X_train, y_train)\n",
    "y_pred_custom = nb_custom.predict(X_test)\n",
    "custom_accuracy = accuracy_score(y_test, y_pred_custom)\n",
    "\n",
    "print(f'Default Naïve Bayes Accuracy: {default_accuracy}')\n",
    "print(f'Custom Naïve Bayes Accuracy: {custom_accuracy}')\n"
   ]
  },
  {
   "cell_type": "markdown",
   "metadata": {},
   "source": [
    "# 20  Perform Recursive Feature Elimination (RFE) Before Training an SVM Classifier"
   ]
  },
  {
   "cell_type": "code",
   "execution_count": 17,
   "metadata": {},
   "outputs": [
    {
     "name": "stdout",
     "output_type": "stream",
     "text": [
      "Accuracy with RFE: 0.8713450292397661\n"
     ]
    }
   ],
   "source": [
    "from sklearn.feature_selection import RFE\n",
    "from sklearn.svm import SVC\n",
    "\n",
    "# Perform RFE\n",
    "svm_rfe = SVC(kernel='linear')\n",
    "rfe = RFE(svm_rfe, n_features_to_select=5)\n",
    "X_rfe = rfe.fit_transform(X, y)\n",
    "\n",
    "# Train SVM on selected features\n",
    "svm_rfe.fit(X_rfe, y)\n",
    "X_test_rfe = rfe.transform(X_test)\n",
    "y_pred_rfe = svm_rfe.predict(X_test_rfe)\n",
    "\n",
    "# Accuracy comparison\n",
    "rfe_accuracy = accuracy_score(y_test, y_pred_rfe)\n",
    "print(f'Accuracy with RFE: {rfe_accuracy}')\n"
   ]
  },
  {
   "cell_type": "markdown",
   "metadata": {},
   "source": [
    "# 21 Train SVM Classifier and Evaluate Using Precision, Recall, and F1-Score"
   ]
  },
  {
   "cell_type": "code",
   "execution_count": 18,
   "metadata": {},
   "outputs": [
    {
     "name": "stdout",
     "output_type": "stream",
     "text": [
      "Precision: 0.965424739195231\n",
      "Recall: 0.9589947089947091\n",
      "F1-Score: 0.962044983722995\n"
     ]
    }
   ],
   "source": [
    "from sklearn.metrics import precision_score, recall_score, f1_score\n",
    "\n",
    "# Train SVM\n",
    "svm_model = SVC(kernel='linear')\n",
    "svm_model.fit(X_train, y_train)\n",
    "y_pred = svm_model.predict(X_test)\n",
    "\n",
    "# Compute Precision, Recall, F1-Score\n",
    "precision = precision_score(y_test, y_pred, average='macro')\n",
    "recall = recall_score(y_test, y_pred, average='macro')\n",
    "f1 = f1_score(y_test, y_pred, average='macro')\n",
    "\n",
    "print(f'Precision: {precision}')\n",
    "print(f'Recall: {recall}')\n",
    "print(f'F1-Score: {f1}')\n"
   ]
  },
  {
   "cell_type": "markdown",
   "metadata": {},
   "source": [
    "# 22  Train Naïve Bayes Classifier and Evaluate Using Log Loss"
   ]
  },
  {
   "cell_type": "code",
   "execution_count": 19,
   "metadata": {},
   "outputs": [
    {
     "name": "stdout",
     "output_type": "stream",
     "text": [
      "Log Loss: 0.9716276151927562\n"
     ]
    }
   ],
   "source": [
    "from sklearn.metrics import log_loss\n",
    "\n",
    "# Train Naïve Bayes\n",
    "nb_model = MultinomialNB()\n",
    "nb_model.fit(X_train, y_train)\n",
    "y_prob = nb_model.predict_proba(X_test)\n",
    "\n",
    "# Compute Log Loss\n",
    "log_loss_value = log_loss(y_test, y_prob)\n",
    "print(f'Log Loss: {log_loss_value}')\n"
   ]
  },
  {
   "cell_type": "markdown",
   "metadata": {},
   "source": [
    "# 23 Train SVM Classifier and Visualize Confusion Matrix Using Seaborn"
   ]
  },
  {
   "cell_type": "code",
   "execution_count": 20,
   "metadata": {},
   "outputs": [
    {
     "data": {
      "image/png": "[encoded data removed]",
      "text/plain": [
       "<Figure size 640x480 with 2 Axes>"
      ]
     },
     "metadata": {},
     "output_type": "display_data"
    }
   ],
   "source": [
    "import seaborn as sns\n",
    "import matplotlib.pyplot as plt\n",
    "from sklearn.metrics import confusion_matrix\n",
    "\n",
    "# Train SVM\n",
    "svm_model = SVC(kernel='linear')\n",
    "svm_model.fit(X_train, y_train)\n",
    "y_pred = svm_model.predict(X_test)\n",
    "\n",
    "# Confusion Matrix\n",
    "cm = confusion_matrix(y_test, y_pred)\n",
    "\n",
    "# Visualize with seaborn\n",
    "sns.heatmap(cm, annot=True, fmt='d', cmap='Blues', xticklabels=['Class 0', 'Class 1'], yticklabels=['Class 0', 'Class 1'])\n",
    "plt.xlabel('Predicted')\n",
    "plt.ylabel('True')\n",
    "plt.title('Confusion Matrix')\n",
    "plt.show()\n",
    "\n"
   ]
  },
  {
   "cell_type": "markdown",
   "metadata": {},
   "source": [
    "# 24 Train SVM Regressor (SVR) and Evaluate Using Mean Absolute Error"
   ]
  },
  {
   "cell_type": "code",
   "execution_count": 21,
   "metadata": {},
   "outputs": [
    {
     "name": "stdout",
     "output_type": "stream",
     "text": [
      "Mean Absolute Error: 0.060000000000000143\n"
     ]
    }
   ],
   "source": [
    "from sklearn.svm import SVR\n",
    "from sklearn.metrics import mean_absolute_error\n",
    "\n",
    "# Example regression data (you can replace this with your dataset)\n",
    "X_reg = [[1], [2], [3], [4], [5]]\n",
    "y_reg = [1.5, 2.5, 3.5, 4.5, 5.5]\n",
    "\n",
    "# Train SVR\n",
    "svr = SVR(kernel='linear')\n",
    "svr.fit(X_reg, y_reg)\n",
    "y_pred_reg = svr.predict(X_reg)\n",
    "\n",
    "# Evaluate with Mean Absolute Error\n",
    "mae = mean_absolute_error(y_reg, y_pred_reg)\n",
    "print(f'Mean Absolute Error: {mae}')\n"
   ]
  },
  {
   "cell_type": "markdown",
   "metadata": {},
   "source": [
    "# 25 Train Naïve Bayes Classifier and Evaluate Using ROC-AUC"
   ]
  },
  {
   "cell_type": "code",
   "execution_count": 22,
   "metadata": {},
   "outputs": [
    {
     "name": "stdout",
     "output_type": "stream",
     "text": [
      "ROC-AUC: 0.9698706643151087\n"
     ]
    }
   ],
   "source": [
    "from sklearn.metrics import roc_auc_score\n",
    "\n",
    "# Train Naïve Bayes\n",
    "nb_model = MultinomialNB()\n",
    "nb_model.fit(X_train, y_train)\n",
    "y_prob = nb_model.predict_proba(X_test)[:, 1]\n",
    "\n",
    "# ROC-AUC\n",
    "roc_auc = roc_auc_score(y_test, y_prob)\n",
    "print(f'ROC-AUC: {roc_auc}')\n"
   ]
  },
  {
   "cell_type": "markdown",
   "metadata": {},
   "source": [
    "# 26 Train SVM Classifier and Visualize Precision-Recall Curve"
   ]
  },
  {
   "cell_type": "code",
   "execution_count": 23,
   "metadata": {},
   "outputs": [
    {
     "data": {
      "image/png": "[encoded data removed]",
      "text/plain": [
       "<Figure size 640x480 with 1 Axes>"
      ]
     },
     "metadata": {},
     "output_type": "display_data"
    }
   ],
   "source": [
    "from sklearn.metrics import precision_recall_curve\n",
    "import matplotlib.pyplot as plt\n",
    "\n",
    "# Train SVM\n",
    "svm_model = SVC(kernel='linear', probability=True)\n",
    "svm_model.fit(X_train, y_train)\n",
    "y_prob = svm_model.predict_proba(X_test)[:, 1]\n",
    "\n",
    "# Precision-Recall curve\n",
    "precision, recall, _ = precision_recall_curve(y_test, y_prob)\n",
    "\n",
    "# Visualize\n",
    "plt.plot(recall, precision)\n",
    "plt.xlabel('Recall')\n",
    "plt.ylabel('Precision')\n",
    "plt.title('Precision-Recall Curve')\n",
    "plt.show()\n"
   ]
  },
  {
   "cell_type": "markdown",
   "metadata": {},
   "source": []
  }
 ],
 "metadata": {
  "kernelspec": {
   "display_name": "Python 3",
   "language": "python",
   "name": "python3"
  },
  "language_info": {
   "codemirror_mode": {
    "name": "ipython",
    "version": 3
   },
   "file_extension": ".py",
   "mimetype": "text/x-python",
   "name": "python",
   "nbconvert_exporter": "python",
   "pygments_lexer": "ipython3",
   "version": "3.13.2"
  }
 },
 "nbformat": 4,
 "nbformat_minor": 2
}
