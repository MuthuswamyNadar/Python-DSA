{
 "cells": [
  {
   "cell_type": "markdown",
   "metadata": {},
   "source": [
    "# 1. Creating the Employees Table"
   ]
  },
  {
   "cell_type": "code",
   "execution_count": null,
   "metadata": {},
   "outputs": [],
   "source": [
    "CREATE TABLE employees (\n",
    "    emp_id INTEGER NOT NULL PRIMARY KEY,\n",
    "    emp_name TEXT NOT NULL,\n",
    "    age INTEGER CHECK (age >= 18),\n",
    "    email TEXT UNIQUE,\n",
    "    salary DECIMAL DEFAULT 30000\n",
    ");"
   ]
  },
  {
   "cell_type": "markdown",
   "metadata": {},
   "source": [
    "# 2. Purpose of Constraints and Data Integrity"
   ]
  },
  {
   "cell_type": "markdown",
   "metadata": {},
   "source": [
    "Constraints enforce rules on data columns to maintain accuracy and reliability in a database. They prevent invalid data entry and help preserve relationships between tables.\n",
    "\n",
    "Common Constraint Types:\n",
    "NOT NULL - Ensures a column cannot have NULL values\n",
    "\n",
    "UNIQUE - Guarantees all values in a column are different\n",
    "\n",
    "PRIMARY KEY - Uniquely identifies each record (NOT NULL + UNIQUE)\n",
    "\n",
    "FOREIGN KEY - Maintains referential integrity between tables\n",
    "\n",
    "CHECK - Validates that values meet specific conditions\n",
    "\n",
    "DEFAULT - Sets a default value when none is specified\n",
    "\n",
    "Example: A CHECK constraint on age (age >= 18) prevents hiring underage employees."
   ]
  },
  {
   "cell_type": "markdown",
   "metadata": {},
   "source": [
    "# 3.NOT NULL Constraint and Primary Keys "
   ]
  },
  {
   "cell_type": "markdown",
   "metadata": {},
   "source": [
    "NOT NULL ensures a column must always contain a value, preventing missing data. This is essential for critical fields like employee IDs or names.\n",
    "\n",
    "Primary keys cannot contain NULL values because:\n",
    "\n",
    "They must uniquely identify each record\n",
    "\n",
    "NULL represents unknown/undefined data which violates uniqueness\n",
    "\n",
    "Database engines enforce this automatically (PRIMARY KEY implies NOT NULL)"
   ]
  },
  {
   "cell_type": "markdown",
   "metadata": {},
   "source": [
    "# 4. Adding/Removing Constraints"
   ]
  },
  {
   "cell_type": "code",
   "execution_count": null,
   "metadata": {},
   "outputs": [],
   "source": [
    "ALTER TABLE products\n",
    "ADD CONSTRAINT pk_product PRIMARY KEY (product_id);\n",
    "\n",
    "ALTER TABLE products\n",
    "ALTER COLUMN price SET DEFAULT 50.00;"
   ]
  },
  {
   "cell_type": "code",
   "execution_count": null,
   "metadata": {},
   "outputs": [],
   "source": [
    "# removing constraints\n",
    "ALTER TABLE products\n",
    "DROP CONSTRAINT pk_product;\n",
    "\n",
    "ALTER TABLE products\n",
    "ALTER COLUMN price DROP DEFAULT;"
   ]
  },
  {
   "cell_type": "markdown",
   "metadata": {},
   "source": [
    "# 5. Constraint Violation Consequences"
   ]
  },
  {
   "cell_type": "markdown",
   "metadata": {},
   "source": [
    "Attempting to violate constraints results in errors that abort the operation:\n",
    "\n",
    "Example Violations:\n",
    "\n",
    "Inserting NULL into a NOT NULL column\n",
    "\n",
    "Duplicating a PRIMARY KEY value\n",
    "\n",
    "Violating a CHECK constraint\n",
    "\n",
    "Example Error:\n",
    "\n",
    "ERROR: duplicate key value violates unique constraint \"employees_email_key\"\n",
    "\n",
    "DETAIL: Key (email)=(john@example.com) already exists.\n"
   ]
  },
  {
   "cell_type": "markdown",
   "metadata": {},
   "source": [
    "# 6. Adding Constraints to Products Table"
   ]
  },
  {
   "cell_type": "code",
   "execution_count": null,
   "metadata": {},
   "outputs": [],
   "source": [
    "-- Add primary key constraint\n",
    "ALTER TABLE products\n",
    "ADD CONSTRAINT pk_product PRIMARY KEY (product_id);\n",
    "\n",
    "-- Add default value for price\n",
    "ALTER TABLE products\n",
    "ALTER COLUMN price SET DEFAULT 50.00;"
   ]
  },
  {
   "cell_type": "markdown",
   "metadata": {},
   "source": [
    "# 7. You have two tables"
   ]
  },
  {
   "cell_type": "code",
   "execution_count": null,
   "metadata": {},
   "outputs": [],
   "source": [
    "SELECT \n",
    "    s.student_name,\n",
    "    c.class_name\n",
    "FROM \n",
    "    student_class s\n",
    "INNER JOIN \n",
    "    classes c ON s.class_id = c.class_id;"
   ]
  },
  {
   "cell_type": "markdown",
   "metadata": {},
   "source": [
    "# 8. You have three tables"
   ]
  },
  {
   "cell_type": "code",
   "execution_count": null,
   "metadata": {},
   "outputs": [],
   "source": [
    "SELECT \n",
    "    o.order_id,\n",
    "    c.customer_name,\n",
    "    p.product_name\n",
    "FROM \n",
    "    products p\n",
    "LEFT JOIN \n",
    "    order_details od ON p.product_id = od.product_id\n",
    "LEFT JOIN \n",
    "    orders o ON od.order_id = o.order_id\n",
    "LEFT JOIN \n",
    "    customers c ON o.customer_id = c.customer_id;"
   ]
  },
  {
   "cell_type": "markdown",
   "metadata": {},
   "source": [
    "# 9 Given the following tables:"
   ]
  },
  {
   "cell_type": "markdown",
   "metadata": {},
   "source": [
    "SELECT \n",
    "    p.product_id,\n",
    "    p.product_name,\n",
    "    SUM(s.amount) AS total_sales_amount\n",
    "FROM \n",
    "    products p\n",
    "INNER JOIN \n",
    "    sales s ON p.product_id = s.product_id\n",
    "GROUP BY \n",
    "    p.product_id, p.product_name\n",
    "ORDER BY \n",
    "    total_sales_amount DESC;"
   ]
  },
  {
   "cell_type": "markdown",
   "metadata": {},
   "source": [
    "# 11. Write a query to display the order_id, customer_name, and the quantity of products ordered by each customer using an INNER JOIN between all three tables.\n",
    "\n"
   ]
  },
  {
   "cell_type": "code",
   "execution_count": null,
   "metadata": {},
   "outputs": [],
   "source": [
    "SELECT \n",
    "    o.order_id,\n",
    "    c.customer_name,\n",
    "    SUM(od.quantity) AS total_products_ordered\n",
    "FROM \n",
    "    orders o\n",
    "INNER JOIN \n",
    "    customers c ON o.customer_id = c.customer_id\n",
    "INNER JOIN \n",
    "    order_details od ON o.order_id = od.order_id\n",
    "GROUP BY \n",
    "    o.order_id, c.customer_name\n",
    "ORDER BY \n",
    "    o.order_id;"
   ]
  }
 ],
 "metadata": {
  "language_info": {
   "name": "python"
  }
 },
 "nbformat": 4,
 "nbformat_minor": 2
}
