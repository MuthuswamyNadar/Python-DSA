{
 "cells": [
  {
   "cell_type": "markdown",
   "metadata": {},
   "source": [
    "# 1. Creating the Employees Table"
   ]
  },
  {
   "cell_type": "code",
   "execution_count": null,
   "metadata": {},
   "outputs": [],
   "source": [
    "CREATE TABLE employees (\n",
    "    emp_id INTEGER NOT NULL PRIMARY KEY,\n",
    "    emp_name TEXT NOT NULL,\n",
    "    age INTEGER CHECK (age >= 18),\n",
    "    email TEXT UNIQUE,\n",
    "    salary DECIMAL DEFAULT 30000\n",
    ");"
   ]
  },
  {
   "cell_type": "markdown",
   "metadata": {},
   "source": [
    "# 2. Purpose of Constraints and Data Integrity"
   ]
  },
  {
   "cell_type": "markdown",
   "metadata": {},
   "source": [
    "Constraints enforce rules on data columns to maintain accuracy and reliability in a database. They prevent invalid data entry and help preserve relationships between tables.\n",
    "\n",
    "Common Constraint Types:\n",
    "NOT NULL - Ensures a column cannot have NULL values\n",
    "\n",
    "UNIQUE - Guarantees all values in a column are different\n",
    "\n",
    "PRIMARY KEY - Uniquely identifies each record (NOT NULL + UNIQUE)\n",
    "\n",
    "FOREIGN KEY - Maintains referential integrity between tables\n",
    "\n",
    "CHECK - Validates that values meet specific conditions\n",
    "\n",
    "DEFAULT - Sets a default value when none is specified\n",
    "\n",
    "Example: A CHECK constraint on age (age >= 18) prevents hiring underage employees."
   ]
  },
  {
   "cell_type": "markdown",
   "metadata": {},
   "source": [
    "# 3.NOT NULL Constraint and Primary Keys "
   ]
  },
  {
   "cell_type": "markdown",
   "metadata": {},
   "source": [
    "NOT NULL ensures a column must always contain a value, preventing missing data. This is essential for critical fields like employee IDs or names.\n",
    "\n",
    "Primary keys cannot contain NULL values because:\n",
    "\n",
    "They must uniquely identify each record\n",
    "\n",
    "NULL represents unknown/undefined data which violates uniqueness\n",
    "\n",
    "Database engines enforce this automatically (PRIMARY KEY implies NOT NULL)"
   ]
  },
  {
   "cell_type": "markdown",
   "metadata": {},
   "source": [
    "# 4. Adding/Removing Constraints"
   ]
  },
  {
   "cell_type": "code",
   "execution_count": null,
   "metadata": {},
   "outputs": [],
   "source": [
    "ALTER TABLE products\n",
    "ADD CONSTRAINT pk_product PRIMARY KEY (product_id);\n",
    "\n",
    "ALTER TABLE products\n",
    "ALTER COLUMN price SET DEFAULT 50.00;"
   ]
  },
  {
   "cell_type": "code",
   "execution_count": null,
   "metadata": {},
   "outputs": [],
   "source": [
    "# removing constraints\n",
    "ALTER TABLE products\n",
    "DROP CONSTRAINT pk_product;\n",
    "\n",
    "ALTER TABLE products\n",
    "ALTER COLUMN price DROP DEFAULT;"
   ]
  },
  {
   "cell_type": "markdown",
   "metadata": {},
   "source": [
    "# 5. Constraint Violation Consequences"
   ]
  },
  {
   "cell_type": "markdown",
   "metadata": {},
   "source": [
    "Attempting to violate constraints results in errors that abort the operation:\n",
    "\n",
    "Example Violations:\n",
    "\n",
    "Inserting NULL into a NOT NULL column\n",
    "\n",
    "Duplicating a PRIMARY KEY value\n",
    "\n",
    "Violating a CHECK constraint\n",
    "\n",
    "Example Error:\n",
    "\n",
    "ERROR: duplicate key value violates unique constraint \"employees_email_key\"\n",
    "\n",
    "DETAIL: Key (email)=(john@example.com) already exists.\n"
   ]
  },
  {
   "cell_type": "markdown",
   "metadata": {},
   "source": [
    "# 6. Adding Constraints to Products Table"
   ]
  },
  {
   "cell_type": "code",
   "execution_count": null,
   "metadata": {},
   "outputs": [],
   "source": [
    "-- Add primary key constraint\n",
    "ALTER TABLE products\n",
    "ADD CONSTRAINT pk_product PRIMARY KEY (product_id);\n",
    "\n",
    "-- Add default value for price\n",
    "ALTER TABLE products\n",
    "ALTER COLUMN price SET DEFAULT 50.00;"
   ]
  },
  {
   "cell_type": "markdown",
   "metadata": {},
   "source": [
    "# 7. You have two tables"
   ]
  },
  {
   "cell_type": "code",
   "execution_count": null,
   "metadata": {},
   "outputs": [],
   "source": [
    "SELECT \n",
    "    s.student_name,\n",
    "    c.class_name\n",
    "FROM \n",
    "    student_class s\n",
    "INNER JOIN \n",
    "    classes c ON s.class_id = c.class_id;"
   ]
  },
  {
   "cell_type": "markdown",
   "metadata": {},
   "source": [
    "# 8. You have three tables"
   ]
  },
  {
   "cell_type": "code",
   "execution_count": null,
   "metadata": {},
   "outputs": [],
   "source": [
    "SELECT \n",
    "    o.order_id,\n",
    "    c.customer_name,\n",
    "    p.product_name\n",
    "FROM \n",
    "    products p\n",
    "LEFT JOIN \n",
    "    order_details od ON p.product_id = od.product_id\n",
    "LEFT JOIN \n",
    "    orders o ON od.order_id = o.order_id\n",
    "LEFT JOIN \n",
    "    customers c ON o.customer_id = c.customer_id;"
   ]
  },
  {
   "cell_type": "markdown",
   "metadata": {},
   "source": [
    "# 9 Given the following tables:"
   ]
  },
  {
   "cell_type": "code",
   "execution_count": null,
   "metadata": {},
   "outputs": [],
   "source": [
    "SELECT \n",
    "    p.product_id,\n",
    "    p.product_name,\n",
    "    SUM(s.amount) AS total_sales_amount\n",
    "FROM \n",
    "    products p\n",
    "INNER JOIN \n",
    "    sales s ON p.product_id = s.product_id\n",
    "GROUP BY \n",
    "    p.product_id, p.product_name\n",
    "ORDER BY \n",
    "    total_sales_amount DESC;"
   ]
  },
  {
   "cell_type": "markdown",
   "metadata": {},
   "source": [
    "# 10. Write a query to display the order_id, customer_name, and the quantity of products ordered by each customer using an INNER JOIN between all three tables.\n",
    "\n"
   ]
  },
  {
   "cell_type": "code",
   "execution_count": null,
   "metadata": {},
   "outputs": [],
   "source": [
    "SELECT \n",
    "    o.order_id,\n",
    "    c.customer_name,\n",
    "    SUM(od.quantity) AS total_products_ordered\n",
    "FROM \n",
    "    orders o\n",
    "INNER JOIN \n",
    "    customers c ON o.customer_id = c.customer_id\n",
    "INNER JOIN \n",
    "    order_details od ON o.order_id = od.order_id\n",
    "GROUP BY \n",
    "    o.order_id, c.customer_name\n",
    "ORDER BY \n",
    "    o.order_id;"
   ]
  },
  {
   "cell_type": "markdown",
   "metadata": {},
   "source": [
    "# SQL Commands"
   ]
  },
  {
   "cell_type": "markdown",
   "metadata": {},
   "source": [
    "# 1. Primary Keys and Foreign Keys\n"
   ]
  },
  {
   "cell_type": "markdown",
   "metadata": {},
   "source": [
    "Primary Keys: These are unique identifiers for each record in a table. For example, in common movie databases, you might have:\n",
    "\n",
    "customer_id in the Customers table\n",
    "\n",
    "actor_id in the Actors table\n",
    "\n",
    "film_id in the Films table\n",
    "\n",
    "Foreign Keys: These reference primary keys in another table and are used to establish relationships between tables. For example:\n",
    "\n",
    "customer_id in the Rentals table (refers to the Customers table)\n",
    "film_id in the Rentals table (refers to the Films table)\n"
   ]
  },
  {
   "cell_type": "markdown",
   "metadata": {},
   "source": [
    "# 2. List all details of actors"
   ]
  },
  {
   "cell_type": "code",
   "execution_count": null,
   "metadata": {},
   "outputs": [],
   "source": [
    "SELECT * FROM actors;"
   ]
  },
  {
   "cell_type": "markdown",
   "metadata": {},
   "source": [
    "# 3. List all customer information from DB"
   ]
  },
  {
   "cell_type": "code",
   "execution_count": null,
   "metadata": {},
   "outputs": [],
   "source": [
    "SELECT * FROM customers;"
   ]
  },
  {
   "cell_type": "markdown",
   "metadata": {},
   "source": [
    "# 4. List different countries"
   ]
  },
  {
   "cell_type": "code",
   "execution_count": null,
   "metadata": {},
   "outputs": [],
   "source": [
    "SELECT DISTINCT country FROM customers;  -- Assuming customers table has a country field"
   ]
  },
  {
   "cell_type": "markdown",
   "metadata": {},
   "source": [
    "# 5. Display all active customers"
   ]
  },
  {
   "cell_type": "code",
   "execution_count": null,
   "metadata": {},
   "outputs": [],
   "source": [
    "SELECT * FROM customers WHERE status = 'active';  -- Assuming there is a status field"
   ]
  },
  {
   "cell_type": "markdown",
   "metadata": {},
   "source": [
    "# 6. List all rental IDs for customer with ID 1"
   ]
  },
  {
   "cell_type": "code",
   "execution_count": null,
   "metadata": {},
   "outputs": [],
   "source": [
    "SELECT rental_id FROM rentals WHERE customer_id = 1;"
   ]
  },
  {
   "cell_type": "markdown",
   "metadata": {},
   "source": [
    "# 7. Display all the films whose rental duration is greater than 5"
   ]
  },
  {
   "cell_type": "code",
   "execution_count": null,
   "metadata": {},
   "outputs": [],
   "source": [
    "SELECT * FROM films WHERE rental_duration > 5;"
   ]
  },
  {
   "cell_type": "markdown",
   "metadata": {},
   "source": [
    "# 8. List the total number of films whose replacement cost is greater than $15 and less than $20"
   ]
  },
  {
   "cell_type": "code",
   "execution_count": null,
   "metadata": {},
   "outputs": [],
   "source": [
    "SELECT COUNT(*) FROM films WHERE replacement_cost > 15 AND replacement_cost < 20;"
   ]
  },
  {
   "cell_type": "markdown",
   "metadata": {},
   "source": [
    "# 9. Display the count of unique first names of actors"
   ]
  },
  {
   "cell_type": "code",
   "execution_count": null,
   "metadata": {},
   "outputs": [],
   "source": [
    "SELECT COUNT(DISTINCT first_name) FROM actors;"
   ]
  },
  {
   "cell_type": "markdown",
   "metadata": {},
   "source": [
    "# 10. Display the first 10 records from the customer table"
   ]
  },
  {
   "cell_type": "code",
   "execution_count": null,
   "metadata": {},
   "outputs": [],
   "source": [
    "SELECT * FROM customers LIMIT 10;"
   ]
  },
  {
   "cell_type": "markdown",
   "metadata": {},
   "source": [
    "# 11. Display the first 3 records from the customer table whose first name starts with ‘b’"
   ]
  },
  {
   "cell_type": "code",
   "execution_count": null,
   "metadata": {},
   "outputs": [],
   "source": [
    "SELECT * FROM customers WHERE first_name LIKE 'b%' LIMIT 3;"
   ]
  },
  {
   "cell_type": "markdown",
   "metadata": {},
   "source": [
    "# 12. Display the names of the first 5 movies which are rated as ‘G’"
   ]
  },
  {
   "cell_type": "code",
   "execution_count": null,
   "metadata": {},
   "outputs": [],
   "source": [
    "SELECT title FROM films WHERE rating = 'G' LIMIT 5;"
   ]
  },
  {
   "cell_type": "markdown",
   "metadata": {},
   "source": [
    "# 13. Find all customers whose first name starts with \"a\""
   ]
  },
  {
   "cell_type": "code",
   "execution_count": null,
   "metadata": {},
   "outputs": [],
   "source": [
    "SELECT * FROM customers WHERE first_name LIKE 'a%';"
   ]
  },
  {
   "cell_type": "markdown",
   "metadata": {},
   "source": [
    "# 14. Find all customers whose first name ends with \"a\""
   ]
  },
  {
   "cell_type": "code",
   "execution_count": null,
   "metadata": {},
   "outputs": [],
   "source": [
    "SELECT * FROM customers WHERE first_name LIKE '%a';"
   ]
  },
  {
   "cell_type": "markdown",
   "metadata": {},
   "source": [
    "# 15. Display the list of first 4 cities which start and end with ‘a’"
   ]
  },
  {
   "cell_type": "code",
   "execution_count": null,
   "metadata": {},
   "outputs": [],
   "source": [
    "SELECT DISTINCT city FROM customers WHERE city LIKE 'a%' AND city LIKE '%a' LIMIT 4;"
   ]
  },
  {
   "cell_type": "markdown",
   "metadata": {},
   "source": [
    "# 16. Find all customers whose first name has \"NI\" in any position"
   ]
  },
  {
   "cell_type": "code",
   "execution_count": null,
   "metadata": {},
   "outputs": [],
   "source": [
    "SELECT * FROM customers WHERE first_name LIKE '%NI%';"
   ]
  },
  {
   "cell_type": "markdown",
   "metadata": {},
   "source": [
    "# 17. Find all customers whose first name has \"r\" in the second position"
   ]
  },
  {
   "cell_type": "code",
   "execution_count": null,
   "metadata": {},
   "outputs": [],
   "source": [
    "SELECT * FROM customers WHERE first_name LIKE '_r%';"
   ]
  },
  {
   "cell_type": "markdown",
   "metadata": {},
   "source": [
    "# 18. Find all customers whose first name starts with \"a\" and are at least 5 characters in length"
   ]
  },
  {
   "cell_type": "code",
   "execution_count": null,
   "metadata": {},
   "outputs": [],
   "source": [
    "SELECT * FROM customers WHERE first_name LIKE 'a%' AND LENGTH(first_name) >= 5;"
   ]
  },
  {
   "cell_type": "markdown",
   "metadata": {},
   "source": [
    "# 19. Find all customers whose first name starts with \"a\" and ends with \"o\""
   ]
  },
  {
   "cell_type": "code",
   "execution_count": null,
   "metadata": {},
   "outputs": [],
   "source": [
    "SELECT * FROM customers WHERE first_name LIKE 'a%o';"
   ]
  },
  {
   "cell_type": "markdown",
   "metadata": {},
   "source": [
    "# 20. Get the films with pg and pg-13 rating using IN operator"
   ]
  },
  {
   "cell_type": "code",
   "execution_count": null,
   "metadata": {},
   "outputs": [],
   "source": [
    "SELECT * FROM films WHERE rating IN ('PG', 'PG-13');"
   ]
  },
  {
   "cell_type": "markdown",
   "metadata": {},
   "source": [
    "# 21. Get the films with length between 50 to 100 using BETWEEN operator"
   ]
  },
  {
   "cell_type": "code",
   "execution_count": null,
   "metadata": {},
   "outputs": [],
   "source": [
    "SELECT * FROM films WHERE length BETWEEN 50 AND 100;"
   ]
  },
  {
   "cell_type": "markdown",
   "metadata": {},
   "source": [
    "# 22. Get the top 50 actors using LIMIT operator"
   ]
  },
  {
   "cell_type": "code",
   "execution_count": null,
   "metadata": {},
   "outputs": [],
   "source": [
    "SELECT * FROM actors LIMIT 50;"
   ]
  },
  {
   "cell_type": "markdown",
   "metadata": {},
   "source": [
    "# 23. Get the distinct film ids from inventory table"
   ]
  },
  {
   "cell_type": "code",
   "execution_count": null,
   "metadata": {},
   "outputs": [],
   "source": [
    "SELECT DISTINCT film_id FROM inventory;"
   ]
  },
  {
   "cell_type": "markdown",
   "metadata": {},
   "source": [
    "# Functions"
   ]
  },
  {
   "cell_type": "markdown",
   "metadata": {},
   "source": [
    "# Basic Aggregate Functions:"
   ]
  },
  {
   "cell_type": "markdown",
   "metadata": {},
   "source": [
    "# Question 1: Retrieve the total number of rentals made in the Sakila database."
   ]
  },
  {
   "cell_type": "code",
   "execution_count": null,
   "metadata": {},
   "outputs": [],
   "source": [
    "SELECT COUNT(*) AS total_rentals FROM rental;"
   ]
  },
  {
   "cell_type": "markdown",
   "metadata": {},
   "source": [
    "# Question 2: Find the average rental duration (in days) of movies rented from the Sakila database."
   ]
  },
  {
   "cell_type": "code",
   "execution_count": null,
   "metadata": {},
   "outputs": [],
   "source": [
    "SELECT AVG(rental_duration) AS average_rental_duration FROM film;"
   ]
  },
  {
   "cell_type": "markdown",
   "metadata": {},
   "source": [
    "# Question 3: Display the first name and last name of customers in uppercase."
   ]
  },
  {
   "cell_type": "code",
   "execution_count": null,
   "metadata": {},
   "outputs": [],
   "source": [
    "SELECT UPPER(first_name) AS first_name, UPPER(last_name) AS last_name FROM customer;"
   ]
  },
  {
   "cell_type": "markdown",
   "metadata": {},
   "source": [
    "# Question 4: Extract the month from the rental date and display it alongside the rental ID."
   ]
  },
  {
   "cell_type": "code",
   "execution_count": null,
   "metadata": {},
   "outputs": [],
   "source": [
    "SELECT rental_id, MONTH(rental_date) AS rental_month FROM rental;"
   ]
  },
  {
   "cell_type": "markdown",
   "metadata": {},
   "source": [
    "# Question 5: Retrieve the count of rentals for each customer (display customer ID and the count of rentals)."
   ]
  },
  {
   "cell_type": "code",
   "execution_count": null,
   "metadata": {},
   "outputs": [],
   "source": [
    "SELECT customer_id, COUNT(rental_id) AS rental_count \n",
    "FROM rental \n",
    "GROUP BY customer_id;"
   ]
  },
  {
   "cell_type": "markdown",
   "metadata": {},
   "source": [
    "# Question 6: Find the total revenue generated by each store."
   ]
  },
  {
   "cell_type": "code",
   "execution_count": null,
   "metadata": {},
   "outputs": [],
   "source": [
    "SELECT store_id, SUM(amount) AS total_revenue \n",
    "FROM payment \n",
    "GROUP BY store_id;"
   ]
  },
  {
   "cell_type": "markdown",
   "metadata": {},
   "source": [
    "# Question 7: Determine the total number of rentals for each category of movies."
   ]
  },
  {
   "cell_type": "code",
   "execution_count": null,
   "metadata": {},
   "outputs": [],
   "source": [
    "SELECT c.category_id, COUNT(r.rental_id) AS rental_count\n",
    "FROM rental r\n",
    "JOIN inventory i ON r.inventory_id = i.inventory_id\n",
    "JOIN film_category fc ON i.film_id = fc.film_id\n",
    "JOIN category c ON fc.category_id = c.category_id\n",
    "GROUP BY c.category_id;"
   ]
  },
  {
   "cell_type": "markdown",
   "metadata": {},
   "source": [
    "# Question 8: Find the average rental rate of movies in each language."
   ]
  },
  {
   "cell_type": "code",
   "execution_count": null,
   "metadata": {},
   "outputs": [],
   "source": [
    "SELECT l.language_id, AVG(f.rental_rate) AS average_rental_rate\n",
    "FROM film f\n",
    "JOIN language l ON f.language_id = l.language_id\n",
    "GROUP BY l.language_id;"
   ]
  },
  {
   "cell_type": "markdown",
   "metadata": {},
   "source": [
    "# Question 9: Display the title of the movie, customer's first name, and last name who rented it."
   ]
  },
  {
   "cell_type": "code",
   "execution_count": null,
   "metadata": {},
   "outputs": [],
   "source": [
    "SELECT f.title, c.first_name, c.last_name\n",
    "FROM film f\n",
    "JOIN inventory i ON f.film_id = i.film_id\n",
    "JOIN rental r ON i.inventory_id = r.inventory_id\n",
    "JOIN customer c ON r.customer_id = c.customer_id;"
   ]
  },
  {
   "cell_type": "markdown",
   "metadata": {},
   "source": [
    "# Question 10: Retrieve the names of all actors who have appeared in the film \"Gone with the Wind.\""
   ]
  },
  {
   "cell_type": "code",
   "execution_count": null,
   "metadata": {},
   "outputs": [],
   "source": [
    "SELECT a.first_name, a.last_name\n",
    "FROM actor a\n",
    "JOIN film_actor fa ON a.actor_id = fa.actor_id\n",
    "JOIN film f ON fa.film_id = f.film_id\n",
    "WHERE f.title = 'Gone with the Wind';"
   ]
  },
  {
   "cell_type": "markdown",
   "metadata": {},
   "source": [
    "# Question 11: Retrieve the customer names along with the total amount they've spent on rentals."
   ]
  },
  {
   "cell_type": "code",
   "execution_count": null,
   "metadata": {},
   "outputs": [],
   "source": [
    "SELECT c.first_name, c.last_name, SUM(p.amount) AS total_spent\n",
    "FROM customer c\n",
    "JOIN payment p ON c.customer_id = p.customer_id\n",
    "JOIN rental r ON p.rental_id = r.rental_id\n",
    "GROUP BY c.customer_id;"
   ]
  },
  {
   "cell_type": "markdown",
   "metadata": {},
   "source": [
    "# Question 12: List the titles of movies rented by each customer in a particular city (e.g., 'London')."
   ]
  },
  {
   "cell_type": "code",
   "execution_count": null,
   "metadata": {},
   "outputs": [],
   "source": [
    "SELECT c.first_name, c.last_name, f.title\n",
    "FROM customer c\n",
    "JOIN address a ON c.address_id = a.address_id\n",
    "JOIN city ci ON a.city_id = ci.city_id\n",
    "JOIN rental r ON c.customer_id = r.customer_id\n",
    "JOIN inventory i ON r.inventory_id = i.inventory_id\n",
    "JOIN film f ON i.film_id = f.film_id\n",
    "WHERE ci.city = 'London';  -- You can change 'London' to any desired city."
   ]
  },
  {
   "cell_type": "markdown",
   "metadata": {},
   "source": [
    "# Advanced Joins and GROUP BY:"
   ]
  },
  {
   "cell_type": "markdown",
   "metadata": {},
   "source": [
    "# Question 13:\n",
    "\n",
    "# Display the top 5 rented movies along with the number of times they've been rented.\n",
    "\n"
   ]
  },
  {
   "cell_type": "code",
   "execution_count": null,
   "metadata": {},
   "outputs": [],
   "source": [
    "SELECT f.title, COUNT(r.rental_id) AS rental_count\n",
    "FROM film f\n",
    "JOIN inventory i ON f.film_id = i.film_id\n",
    "JOIN rental r ON i.inventory_id = r.inventory_id\n",
    "GROUP BY f.film_id, f.title\n",
    "ORDER BY rental_count DESC\n",
    "LIMIT 5;"
   ]
  },
  {
   "cell_type": "markdown",
   "metadata": {},
   "source": [
    "# Question 14: Determine the customers who have rented movies from both stores (store ID 1 and store ID 2)."
   ]
  },
  {
   "cell_type": "code",
   "execution_count": null,
   "metadata": {},
   "outputs": [],
   "source": [
    "SELECT c.customer_id, c.first_name, c.last_name\n",
    "FROM customer c\n",
    "JOIN rental r ON c.customer_id = r.customer_id\n",
    "JOIN inventory i ON r.inventory_id = i.inventory_id\n",
    "WHERE i.store_id IN (1, 2)\n",
    "GROUP BY c.customer_id, c.first_name, c.last_name\n",
    "HAVING COUNT(DISTINCT i.store_id) = 2;  -- Counts distinct store IDs rented from"
   ]
  },
  {
   "cell_type": "markdown",
   "metadata": {},
   "source": [
    "# Windows Function:"
   ]
  },
  {
   "cell_type": "markdown",
   "metadata": {},
   "source": [
    "# 1. Rank the customers based on the total amount they've spent on rentals."
   ]
  },
  {
   "cell_type": "code",
   "execution_count": null,
   "metadata": {},
   "outputs": [],
   "source": [
    "SELECT c.customer_id, c.first_name, c.last_name, \n",
    "       SUM(p.amount) AS total_spent,\n",
    "       RANK() OVER (ORDER BY SUM(p.amount) DESC) AS rank\n",
    "FROM customer c\n",
    "JOIN payment p ON c.customer_id = p.customer_id\n",
    "GROUP BY c.customer_id\n",
    "ORDER BY rank;"
   ]
  },
  {
   "cell_type": "markdown",
   "metadata": {},
   "source": [
    "# 2. Calculate the cumulative revenue generated by each film over time."
   ]
  },
  {
   "cell_type": "code",
   "execution_count": null,
   "metadata": {},
   "outputs": [],
   "source": [
    "SELECT f.film_id, f.title,\n",
    "       SUM(p.amount) OVER (PARTITION BY f.film_id ORDER BY r.rental_date ROWS BETWEEN UNBOUNDED PRECEDING AND CURRENT ROW) AS cumulative_revenue\n",
    "FROM film f\n",
    "JOIN inventory i ON f.film_id = i.film_id\n",
    "JOIN rental r ON i.inventory_id = r.inventory_id\n",
    "JOIN payment p ON r.rental_id = p.rental_id;"
   ]
  },
  {
   "cell_type": "markdown",
   "metadata": {},
   "source": [
    "# 3. Determine the average rental duration for each film, considering films with similar lengths."
   ]
  },
  {
   "cell_type": "code",
   "execution_count": null,
   "metadata": {},
   "outputs": [],
   "source": [
    "SELECT f.film_id, f.title,\n",
    "       AVG(f.rental_duration) AS average_rental_duration\n",
    "FROM film f\n",
    "GROUP BY f.film_id\n",
    "ORDER BY average_rental_duration;"
   ]
  },
  {
   "cell_type": "markdown",
   "metadata": {},
   "source": [
    "# 4. Identify the top 3 films in each category based on their rental counts."
   ]
  },
  {
   "cell_type": "code",
   "execution_count": null,
   "metadata": {},
   "outputs": [],
   "source": [
    "WITH RankedFilms AS (\n",
    "    SELECT f.film_id, f.title, c.category_id, \n",
    "           COUNT(r.rental_id) AS rental_count,\n",
    "           RANK() OVER (PARTITION BY c.category_id ORDER BY COUNT(r.rental_id) DESC) AS rank\n",
    "    FROM film f\n",
    "    JOIN inventory i ON f.film_id = i.film_id\n",
    "    JOIN rental r ON i.inventory_id = r.inventory_id\n",
    "    JOIN film_category fc ON f.film_id = fc.film_id\n",
    "    JOIN category c ON fc.category_id = c.category_id\n",
    "    GROUP BY f.film_id, c.category_id\n",
    ")\n",
    "SELECT film_id, title, category_id, rental_count\n",
    "FROM RankedFilms\n",
    "WHERE rank <= 3;"
   ]
  },
  {
   "cell_type": "markdown",
   "metadata": {},
   "source": [
    "# 5. Calculate the difference in rental counts between each customer's total rentals and the average rentals across all customers using window function."
   ]
  },
  {
   "cell_type": "code",
   "execution_count": null,
   "metadata": {},
   "outputs": [],
   "source": [
    "WITH CustomerRentals AS (\n",
    "    SELECT c.customer_id, COUNT(r.rental_id) AS total_rentals\n",
    "    FROM customer c\n",
    "    JOIN rental r ON c.customer_id = r.customer_id\n",
    "    GROUP BY c.customer_id\n",
    "),\n",
    "AverageRentals AS (\n",
    "    SELECT AVG(total_rentals) AS avg_rentals\n",
    "    FROM CustomerRentals\n",
    ")\n",
    "SELECT cr.customer_id, cr.total_rentals,\n",
    "       cr.total_rentals - ar.avg_rentals AS rental_difference\n",
    "FROM CustomerRentals cr\n",
    "CROSS JOIN AverageRentals ar;"
   ]
  },
  {
   "cell_type": "markdown",
   "metadata": {},
   "source": [
    "# 6. Find the monthly revenue trend for the entire rental store over time."
   ]
  },
  {
   "cell_type": "code",
   "execution_count": null,
   "metadata": {},
   "outputs": [],
   "source": [
    "SELECT DATE_FORMAT(p.payment_date, '%Y-%m') AS month, \n",
    "       SUM(p.amount) AS monthly_revenue\n",
    "FROM payment p\n",
    "GROUP BY month\n",
    "ORDER BY month;"
   ]
  },
  {
   "cell_type": "markdown",
   "metadata": {},
   "source": [
    "# 7. Identify the customers whose total spending on rentals falls within the top 20% of all customers."
   ]
  },
  {
   "cell_type": "code",
   "execution_count": null,
   "metadata": {},
   "outputs": [],
   "source": [
    "WITH CustomerSpending AS (\n",
    "    SELECT c.customer_id, SUM(p.amount) AS total_spent\n",
    "    FROM customer c\n",
    "    JOIN payment p ON c.customer_id = p.customer_id\n",
    "    GROUP BY c.customer_id\n",
    "),\n",
    "SpendingThreshold AS (\n",
    "    SELECT PERCENTILE_CONT(0.8) WITHIN GROUP (ORDER BY total_spent) AS threshold\n",
    "    FROM CustomerSpending\n",
    ")\n",
    "SELECT cs.customer_id, cs.total_spent\n",
    "FROM CustomerSpending cs\n",
    "JOIN SpendingThreshold st ON cs.total_spent >= st.threshold;"
   ]
  },
  {
   "cell_type": "markdown",
   "metadata": {},
   "source": [
    "# 8. Calculate the running total of rentals per category, ordered by rental count."
   ]
  },
  {
   "cell_type": "code",
   "execution_count": null,
   "metadata": {},
   "outputs": [],
   "source": [
    "SELECT c.category_id, COUNT(r.rental_id) AS rental_count,\n",
    "       SUM(COUNT(r.rental_id)) OVER (PARTITION BY c.category_id ORDER BY COUNT(r.rental_id) ROWS BETWEEN UNBOUNDED PRECEDING AND CURRENT ROW) AS running_total\n",
    "FROM rental r\n",
    "JOIN inventory i ON r.inventory_id = i.inventory_id\n",
    "JOIN film_category fc ON i.film_id = fc.film_id\n",
    "JOIN category c ON fc.category_id = c.category_id\n",
    "GROUP BY c.category_id\n",
    "ORDER BY rental_count DESC;"
   ]
  },
  {
   "cell_type": "markdown",
   "metadata": {},
   "source": [
    "# 9. Find the films that have been rented less than the average rental count for their respective categories."
   ]
  },
  {
   "cell_type": "code",
   "execution_count": null,
   "metadata": {},
   "outputs": [],
   "source": [
    "WITH CategoryRentalCounts AS (\n",
    "    SELECT c.category_id, f.film_id, COUNT(r.rental_id) AS rental_count\n",
    "    FROM film f\n",
    "    JOIN inventory i ON f.film_id = i.film_id\n",
    "    JOIN rental r ON i.inventory_id = r.inventory_id\n",
    "    JOIN film_category fc ON f.film_id = fc.film_id\n",
    "    JOIN category c ON fc.category_id = c.category_id\n",
    "    GROUP BY c.category_id, f.film_id\n",
    "),\n",
    "AverageRentalCounts AS (\n",
    "    SELECT category_id, AVG(rental_count) AS avg_rental_count\n",
    "    FROM CategoryRentalCounts\n",
    "    GROUP BY category_id\n",
    ")\n",
    "SELECT crc.film_id\n",
    "FROM CategoryRentalCounts crc\n",
    "JOIN AverageRentalCounts arc ON crc.category_id = arc.category_id\n",
    "WHERE crc.rental_count < arc.avg_rental_count;"
   ]
  },
  {
   "cell_type": "markdown",
   "metadata": {},
   "source": [
    "# 10. Identify the top 5 months with the highest revenue and display the revenue generated in each month."
   ]
  },
  {
   "cell_type": "code",
   "execution_count": null,
   "metadata": {},
   "outputs": [],
   "source": [
    "SELECT DATE_FORMAT(p.payment_date, '%Y-%m') AS month, \n",
    "       SUM(p.amount) AS total_revenue\n",
    "FROM payment p\n",
    "GROUP BY month\n",
    "ORDER BY total_revenue DESC\n",
    "LIMIT 5;"
   ]
  },
  {
   "cell_type": "markdown",
   "metadata": {},
   "source": [
    "# Normalisation & CTE"
   ]
  },
  {
   "cell_type": "markdown",
   "metadata": {},
   "source": [
    "# 1. First Normal Form (1NF):\n",
    "\n",
    " # a. Identify a table in the Sakila database that violates 1NF. Explain how you\n",
    "\n",
    " # would normalize it to achieve 1NF."
   ]
  },
  {
   "cell_type": "code",
   "execution_count": null,
   "metadata": {},
   "outputs": [],
   "source": [
    "A table that can violate 1NF is the film table if, for example, it contains a list of actors as a single field instead of having a separate row for each actor.\n",
    "\n",
    "To achieve 1NF:\n",
    "\n",
    "Normalization Steps:\n",
    "\n",
    "Separate multi-valued fields into separate rows. Each field should contain atomic values.\n",
    "\n",
    "Example: If film_id 1 has a field value of \"Actor A, Actor B, Actor C\", it should be represented in multiple rows:\n",
    "\n",
    "\n",
    "film_id | actor_name\n",
    "\n",
    "---------|-----------\n",
    "\n",
    "1       | Actor A\n",
    "\n",
    "1       | Actor B\n",
    "\n",
    "1       | Actor C"
   ]
  },
  {
   "cell_type": "markdown",
   "metadata": {},
   "source": [
    "# 2. Second Normal Form (2NF):a. Choose a table in Sakila and describe how you would determine whether it is in 2NF. If it violates 2NF, explain the steps to normalize it."
   ]
  },
  {
   "cell_type": "code",
   "execution_count": null,
   "metadata": {},
   "outputs": [],
   "source": [
    "Table: film_actor\n",
    "\n",
    "This table typically connects film and actor with film_id and actor_id.\n",
    "To determine if film_actor is in 2NF:\n",
    "\n",
    "Check for partial dependencies — if a non-prime attribute relies only on part of a composite primary key. If film_actor has just film_id and actor_id as the composite key, then there shouldn’t be any other attributes in the table based on either film_id or actor_id.\n",
    "If there are attributes dependent only on film_id (e.g., film_title), then it violates 2NF.\n",
    "\n",
    "To normalize:\n",
    "\n",
    "Create separate tables to eliminate partial dependencies:\n",
    "Keep film_actor for relationships and move any attributes dependent only on film_id or actor_id to film or actor tables, respectively."
   ]
  },
  {
   "cell_type": "markdown",
   "metadata": {},
   "source": [
    "# 3. Third Normal Form (3NF): a. Identify a table in Sakila that violates 3NF. Describe the transitive dependencies present and outline the steps to normalize the table to 3NF."
   ]
  },
  {
   "cell_type": "code",
   "execution_count": null,
   "metadata": {},
   "outputs": [],
   "source": [
    "Table: customer\n",
    "\n",
    "Suppose it contains customer_id, address_id, city, and country.\n",
    "Transitive dependencies:\n",
    "\n",
    "If city and country are non-key attributes that depend on address_id, which in turn depends on customer_id, then city and country create transitive dependencies.\n",
    "To normalize to 3NF:\n",
    "\n",
    "Remove transitive dependencies.\n",
    "Create a separate address table:\n",
    "Fields: address_id, city, country.\n",
    "Keep customer to only have attributes directly related to the customer, linking to address by address_id."
   ]
  },
  {
   "cell_type": "markdown",
   "metadata": {},
   "source": [
    "# 4. Normalization Process: a. Take a specific table in Sakila and guide through the process of normalizing it from the initial unnormalized form up to at least 2NF."
   ]
  },
  {
   "cell_type": "code",
   "execution_count": null,
   "metadata": {},
   "outputs": [],
   "source": [
    "Table: rental\n",
    "Initial Unnormalized Form (example):\n",
    "\n",
    "Copy\n",
    "rental_id | rental_date | customer_name | film_title | actor_names\n",
    "---------- | ------------| --------------| -----------| -------------\n",
    "1          | 2023-01-01 | John Doe      | Movie1     | Actor A, Actor B\n",
    "Steps to Normalize to 1NF:\n",
    "\n",
    "Separate actor_names into multiple rows:\n",
    "Copy\n",
    "rental_id | rental_date | customer_name | film_title | actor_name\n",
    "---------- | ------------| --------------| -----------| -------------\n",
    "1          | 2023-01-01 | John Doe      | Movie1     | Actor A\n",
    "1          | 2023-01-01 | John Doe      | Movie1     | Actor B\n",
    "Steps to Normalize to 2NF:\n",
    "\n",
    "Identify partial dependencies. If you have film_title depending on rental_id, you should create a film table.\n",
    "Extract film-related fields into a separate table:\n",
    "Copy\n",
    "film_id | film_title\n",
    "---------|-----------\n",
    "1       | Movie1\n",
    "The rental table will later only have rental_id, rental_date, customer_name, film_id."
   ]
  },
  {
   "cell_type": "markdown",
   "metadata": {},
   "source": [
    "# 5. CTE Basics: a. Write a query using a CTE to retrieve the distinct list of actor names and the number of films they have acted in from the actor and film_actor tables."
   ]
  },
  {
   "cell_type": "code",
   "execution_count": null,
   "metadata": {},
   "outputs": [],
   "source": [
    "WITH ActorFilmCount AS (\n",
    "    SELECT a.first_name, a.last_name, COUNT(fa.film_id) AS film_count\n",
    "    FROM actor a\n",
    "    JOIN film_actor fa ON a.actor_id = fa.actor_id\n",
    "    GROUP BY a.first_name, a.last_name\n",
    ")\n",
    "SELECT DISTINCT first_name, last_name, film_count\n",
    "FROM ActorFilmCount;"
   ]
  },
  {
   "cell_type": "markdown",
   "metadata": {},
   "source": [
    "# 6. CTE with Joins: a. Create a CTE that combines information from the film and language tables to display the film title, language name, and rental rate."
   ]
  },
  {
   "cell_type": "code",
   "execution_count": null,
   "metadata": {},
   "outputs": [],
   "source": [
    "WITH FilmLanguage AS (\n",
    "    SELECT f.title, l.name AS language_name, f.rental_rate\n",
    "    FROM film f\n",
    "    JOIN language l ON f.language_id = l.language_id\n",
    ")\n",
    "SELECT * FROM FilmLanguage;"
   ]
  },
  {
   "cell_type": "markdown",
   "metadata": {},
   "source": [
    "# 7. CTE for Aggregation: a. Write a query using a CTE to find the total revenue generated by each customer (sum of payments) from the customer and payment tables."
   ]
  },
  {
   "cell_type": "code",
   "execution_count": null,
   "metadata": {},
   "outputs": [],
   "source": [
    "WITH CustomerRevenue AS (\n",
    "    SELECT c.customer_id, c.first_name, c.last_name, SUM(p.amount) AS total_revenue\n",
    "    FROM customer c\n",
    "    JOIN payment p ON c.customer_id = p.customer_id\n",
    "    GROUP BY c.customer_id, c.first_name, c.last_name\n",
    ")\n",
    "SELECT * FROM CustomerRevenue;"
   ]
  },
  {
   "cell_type": "markdown",
   "metadata": {},
   "source": [
    "# 8. CTE with Window Functions: a. Utilize a CTE with a window function to rank films based on their rental duration from the film table."
   ]
  },
  {
   "cell_type": "code",
   "execution_count": null,
   "metadata": {},
   "outputs": [],
   "source": [
    "WITH FilmRanks AS (\n",
    "    SELECT f.film_id, f.title, f.rental_duration,\n",
    "           RANK() OVER (ORDER BY f.rental_duration DESC) AS rental_rank\n",
    "    FROM film f\n",
    ")\n",
    "SELECT * FROM FilmRanks;"
   ]
  },
  {
   "cell_type": "markdown",
   "metadata": {},
   "source": [
    "# 9. CTE and Filtering: a. Create a CTE to list customers who have made more than two rentals, and then join this CTE with the customer table to retrieve additional customer details."
   ]
  },
  {
   "cell_type": "code",
   "execution_count": null,
   "metadata": {},
   "outputs": [],
   "source": [
    "WITH FrequentCustomers AS (\n",
    "    SELECT c.customer_id, c.first_name, c.last_name, COUNT(r.rental_id) AS rental_count\n",
    "    FROM customer c\n",
    "    JOIN rental r ON c.customer_id = r.customer_id\n",
    "    GROUP BY c.customer_id, c.first_name, c.last_name\n",
    "    HAVING COUNT(r.rental_id) > 2\n",
    ")\n",
    "SELECT fc.customer_id, fc.first_name, fc.last_name\n",
    "FROM FrequentCustomers fc;"
   ]
  },
  {
   "cell_type": "markdown",
   "metadata": {},
   "source": [
    "# 10. CTE for Date Calculations:  a. Write a query using a CTE to find the total number of rentals made each month, considering the rental_date from the rental table. "
   ]
  },
  {
   "cell_type": "code",
   "execution_count": null,
   "metadata": {},
   "outputs": [],
   "source": [
    "WITH MonthlyRentals AS (\n",
    "    SELECT DATE_FORMAT(rental_date, '%Y-%m') AS rental_month, COUNT(*) AS total_rentals\n",
    "    FROM rental\n",
    "    GROUP BY rental_month\n",
    ")\n",
    "SELECT rental_month, total_rentals\n",
    "FROM MonthlyRentals\n",
    "ORDER BY rental_month;"
   ]
  },
  {
   "cell_type": "markdown",
   "metadata": {},
   "source": [
    "# 11. CTE and Self-Join: a. Create a CTE to generate a report showing pairs of actors who have appeared in the same film together using the film_actor table."
   ]
  },
  {
   "cell_type": "code",
   "execution_count": null,
   "metadata": {},
   "outputs": [],
   "source": [
    "WITH ActorPairs AS (\n",
    "    SELECT fa1.actor_id AS actor1_id, fa2.actor_id AS actor2_id, f.title\n",
    "    FROM film_actor fa1\n",
    "    JOIN film_actor fa2 ON fa1.film_id = fa2.film_id AND fa1.actor_id < fa2.actor_id\n",
    "    JOIN film f ON fa1.film_id = f.film_id\n",
    ")\n",
    "SELECT a1.first_name AS actor1_first_name, a1.last_name AS actor1_last_name,\n",
    "       a2.first_name AS actor2_first_name, a2.last_name AS actor2_last_name,\n",
    "       p.title\n",
    "FROM ActorPairs p\n",
    "JOIN actor a1 ON p.actor1_id = a1.actor_id\n",
    "JOIN actor a2 ON p.actor2_id = a2.actor_id\n",
    "ORDER BY p.title, a1.first_name, a2.first_name;"
   ]
  },
  {
   "cell_type": "markdown",
   "metadata": {},
   "source": [
    "# 12. CTE for Recursive Search : a. Implement a recursive CTE to find all employees in the staff table who report to a specific manager, considering the reports_to column."
   ]
  },
  {
   "cell_type": "code",
   "execution_count": null,
   "metadata": {},
   "outputs": [],
   "source": [
    "WITH RECURSIVE EmployeeHierarchy AS (\n",
    "    SELECT staff_id, first_name, last_name, reports_to\n",
    "    FROM staff\n",
    "    WHERE reports_to = 1  -- Starting point (specific manager)\n",
    "\n",
    "    UNION ALL\n",
    "\n",
    "    SELECT s.staff_id, s.first_name, s.last_name, s.reports_to\n",
    "    FROM staff s\n",
    "    JOIN EmployeeHierarchy eh ON s.reports_to = eh.staff_id\n",
    ")\n",
    "SELECT staff_id, first_name, last_name\n",
    "FROM EmployeeHierarchy;"
   ]
  },
  {
   "cell_type": "markdown",
   "metadata": {},
   "source": []
  }
 ],
 "metadata": {
  "language_info": {
   "name": "python"
  }
 },
 "nbformat": 4,
 "nbformat_minor": 2
}
