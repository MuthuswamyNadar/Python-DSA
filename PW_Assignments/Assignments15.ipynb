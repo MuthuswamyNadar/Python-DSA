{
 "cells": [
  {
   "cell_type": "markdown",
   "metadata": {},
   "source": [
    "# 1. Creating the Employees Table"
   ]
  },
  {
   "cell_type": "code",
   "execution_count": null,
   "metadata": {},
   "outputs": [],
   "source": [
    "CREATE TABLE employees (\n",
    "    emp_id INTEGER NOT NULL PRIMARY KEY,\n",
    "    emp_name TEXT NOT NULL,\n",
    "    age INTEGER CHECK (age >= 18),\n",
    "    email TEXT UNIQUE,\n",
    "    salary DECIMAL DEFAULT 30000\n",
    ");"
   ]
  },
  {
   "cell_type": "markdown",
   "metadata": {},
   "source": [
    "# 2. Purpose of Constraints and Data Integrity"
   ]
  },
  {
   "cell_type": "markdown",
   "metadata": {},
   "source": [
    "Constraints enforce rules on data columns to maintain accuracy and reliability in a database. They prevent invalid data entry and help preserve relationships between tables.\n",
    "\n",
    "Common Constraint Types:\n",
    "NOT NULL - Ensures a column cannot have NULL values\n",
    "\n",
    "UNIQUE - Guarantees all values in a column are different\n",
    "\n",
    "PRIMARY KEY - Uniquely identifies each record (NOT NULL + UNIQUE)\n",
    "\n",
    "FOREIGN KEY - Maintains referential integrity between tables\n",
    "\n",
    "CHECK - Validates that values meet specific conditions\n",
    "\n",
    "DEFAULT - Sets a default value when none is specified\n",
    "\n",
    "Example: A CHECK constraint on age (age >= 18) prevents hiring underage employees."
   ]
  },
  {
   "cell_type": "markdown",
   "metadata": {},
   "source": [
    "# 3.NOT NULL Constraint and Primary Keys "
   ]
  },
  {
   "cell_type": "markdown",
   "metadata": {},
   "source": [
    "NOT NULL ensures a column must always contain a value, preventing missing data. This is essential for critical fields like employee IDs or names.\n",
    "\n",
    "Primary keys cannot contain NULL values because:\n",
    "\n",
    "They must uniquely identify each record\n",
    "\n",
    "NULL represents unknown/undefined data which violates uniqueness\n",
    "\n",
    "Database engines enforce this automatically (PRIMARY KEY implies NOT NULL)"
   ]
  },
  {
   "cell_type": "markdown",
   "metadata": {},
   "source": [
    "# 4. Adding/Removing Constraints"
   ]
  },
  {
   "cell_type": "code",
   "execution_count": null,
   "metadata": {},
   "outputs": [],
   "source": [
    "ALTER TABLE products\n",
    "ADD CONSTRAINT pk_product PRIMARY KEY (product_id);\n",
    "\n",
    "ALTER TABLE products\n",
    "ALTER COLUMN price SET DEFAULT 50.00;"
   ]
  },
  {
   "cell_type": "code",
   "execution_count": null,
   "metadata": {},
   "outputs": [],
   "source": [
    "# removing constraints\n",
    "ALTER TABLE products\n",
    "DROP CONSTRAINT pk_product;\n",
    "\n",
    "ALTER TABLE products\n",
    "ALTER COLUMN price DROP DEFAULT;"
   ]
  },
  {
   "cell_type": "markdown",
   "metadata": {},
   "source": [
    "# 5. Constraint Violation Consequences"
   ]
  },
  {
   "cell_type": "markdown",
   "metadata": {},
   "source": [
    "Attempting to violate constraints results in errors that abort the operation:\n",
    "\n",
    "Example Violations:\n",
    "\n",
    "Inserting NULL into a NOT NULL column\n",
    "\n",
    "Duplicating a PRIMARY KEY value\n",
    "\n",
    "Violating a CHECK constraint\n",
    "\n",
    "Example Error:\n",
    "\n",
    "ERROR: duplicate key value violates unique constraint \"employees_email_key\"\n",
    "\n",
    "DETAIL: Key (email)=(john@example.com) already exists.\n"
   ]
  },
  {
   "cell_type": "markdown",
   "metadata": {},
   "source": [
    "# 6. Adding Constraints to Products Table"
   ]
  },
  {
   "cell_type": "code",
   "execution_count": null,
   "metadata": {},
   "outputs": [],
   "source": [
    "-- Add primary key constraint\n",
    "ALTER TABLE products\n",
    "ADD CONSTRAINT pk_product PRIMARY KEY (product_id);\n",
    "\n",
    "-- Add default value for price\n",
    "ALTER TABLE products\n",
    "ALTER COLUMN price SET DEFAULT 50.00;"
   ]
  },
  {
   "cell_type": "markdown",
   "metadata": {},
   "source": [
    "# 7. You have two tables"
   ]
  },
  {
   "cell_type": "code",
   "execution_count": null,
   "metadata": {},
   "outputs": [],
   "source": [
    "SELECT \n",
    "    s.student_name,\n",
    "    c.class_name\n",
    "FROM \n",
    "    student_class s\n",
    "INNER JOIN \n",
    "    classes c ON s.class_id = c.class_id;"
   ]
  },
  {
   "cell_type": "markdown",
   "metadata": {},
   "source": [
    "# 8. You have three tables"
   ]
  },
  {
   "cell_type": "code",
   "execution_count": null,
   "metadata": {},
   "outputs": [],
   "source": [
    "SELECT \n",
    "    o.order_id,\n",
    "    c.customer_name,\n",
    "    p.product_name\n",
    "FROM \n",
    "    products p\n",
    "LEFT JOIN \n",
    "    order_details od ON p.product_id = od.product_id\n",
    "LEFT JOIN \n",
    "    orders o ON od.order_id = o.order_id\n",
    "LEFT JOIN \n",
    "    customers c ON o.customer_id = c.customer_id;"
   ]
  },
  {
   "cell_type": "markdown",
   "metadata": {},
   "source": [
    "# 9 Given the following tables:"
   ]
  },
  {
   "cell_type": "markdown",
   "metadata": {},
   "source": [
    "SELECT \n",
    "    p.product_id,\n",
    "    p.product_name,\n",
    "    SUM(s.amount) AS total_sales_amount\n",
    "FROM \n",
    "    products p\n",
    "INNER JOIN \n",
    "    sales s ON p.product_id = s.product_id\n",
    "GROUP BY \n",
    "    p.product_id, p.product_name\n",
    "ORDER BY \n",
    "    total_sales_amount DESC;"
   ]
  },
  {
   "cell_type": "markdown",
   "metadata": {},
   "source": [
    "# 10. Write a query to display the order_id, customer_name, and the quantity of products ordered by each customer using an INNER JOIN between all three tables.\n",
    "\n"
   ]
  },
  {
   "cell_type": "code",
   "execution_count": null,
   "metadata": {},
   "outputs": [],
   "source": [
    "SELECT \n",
    "    o.order_id,\n",
    "    c.customer_name,\n",
    "    SUM(od.quantity) AS total_products_ordered\n",
    "FROM \n",
    "    orders o\n",
    "INNER JOIN \n",
    "    customers c ON o.customer_id = c.customer_id\n",
    "INNER JOIN \n",
    "    order_details od ON o.order_id = od.order_id\n",
    "GROUP BY \n",
    "    o.order_id, c.customer_name\n",
    "ORDER BY \n",
    "    o.order_id;"
   ]
  },
  {
   "cell_type": "markdown",
   "metadata": {},
   "source": [
    "# SQL Commands"
   ]
  },
  {
   "cell_type": "markdown",
   "metadata": {},
   "source": [
    "# 1. Primary Keys and Foreign Keys\n"
   ]
  },
  {
   "cell_type": "markdown",
   "metadata": {},
   "source": [
    "Primary Keys: These are unique identifiers for each record in a table. For example, in common movie databases, you might have:\n",
    "\n",
    "customer_id in the Customers table\n",
    "\n",
    "actor_id in the Actors table\n",
    "\n",
    "film_id in the Films table\n",
    "\n",
    "Foreign Keys: These reference primary keys in another table and are used to establish relationships between tables. For example:\n",
    "\n",
    "customer_id in the Rentals table (refers to the Customers table)\n",
    "film_id in the Rentals table (refers to the Films table)\n"
   ]
  },
  {
   "cell_type": "markdown",
   "metadata": {},
   "source": [
    "# 2. List all details of actors"
   ]
  },
  {
   "cell_type": "code",
   "execution_count": null,
   "metadata": {},
   "outputs": [],
   "source": [
    "SELECT * FROM actors;"
   ]
  },
  {
   "cell_type": "markdown",
   "metadata": {},
   "source": [
    "# 3. List all customer information from DB"
   ]
  },
  {
   "cell_type": "code",
   "execution_count": null,
   "metadata": {},
   "outputs": [],
   "source": [
    "SELECT * FROM customers;"
   ]
  },
  {
   "cell_type": "markdown",
   "metadata": {},
   "source": [
    "# 4. List different countries"
   ]
  },
  {
   "cell_type": "code",
   "execution_count": null,
   "metadata": {},
   "outputs": [],
   "source": [
    "SELECT DISTINCT country FROM customers;  -- Assuming customers table has a country field"
   ]
  },
  {
   "cell_type": "markdown",
   "metadata": {},
   "source": [
    "# 5. Display all active customers"
   ]
  },
  {
   "cell_type": "code",
   "execution_count": null,
   "metadata": {},
   "outputs": [],
   "source": [
    "SELECT * FROM customers WHERE status = 'active';  -- Assuming there is a status field"
   ]
  },
  {
   "cell_type": "markdown",
   "metadata": {},
   "source": [
    "# 6. List all rental IDs for customer with ID 1"
   ]
  },
  {
   "cell_type": "code",
   "execution_count": null,
   "metadata": {},
   "outputs": [],
   "source": [
    "SELECT rental_id FROM rentals WHERE customer_id = 1;"
   ]
  },
  {
   "cell_type": "markdown",
   "metadata": {},
   "source": [
    "# 7. Display all the films whose rental duration is greater than 5"
   ]
  },
  {
   "cell_type": "code",
   "execution_count": null,
   "metadata": {},
   "outputs": [],
   "source": [
    "SELECT * FROM films WHERE rental_duration > 5;"
   ]
  },
  {
   "cell_type": "markdown",
   "metadata": {},
   "source": [
    "# 8. List the total number of films whose replacement cost is greater than $15 and less than $20"
   ]
  },
  {
   "cell_type": "code",
   "execution_count": null,
   "metadata": {},
   "outputs": [],
   "source": [
    "SELECT COUNT(*) FROM films WHERE replacement_cost > 15 AND replacement_cost < 20;"
   ]
  },
  {
   "cell_type": "markdown",
   "metadata": {},
   "source": [
    "# 9. Display the count of unique first names of actors"
   ]
  },
  {
   "cell_type": "code",
   "execution_count": null,
   "metadata": {},
   "outputs": [],
   "source": [
    "SELECT COUNT(DISTINCT first_name) FROM actors;"
   ]
  },
  {
   "cell_type": "markdown",
   "metadata": {},
   "source": [
    "# 10. Display the first 10 records from the customer table"
   ]
  },
  {
   "cell_type": "code",
   "execution_count": null,
   "metadata": {},
   "outputs": [],
   "source": [
    "SELECT * FROM customers LIMIT 10;"
   ]
  },
  {
   "cell_type": "markdown",
   "metadata": {},
   "source": [
    "# 11. Display the first 3 records from the customer table whose first name starts with ‘b’"
   ]
  },
  {
   "cell_type": "code",
   "execution_count": null,
   "metadata": {},
   "outputs": [],
   "source": [
    "SELECT * FROM customers WHERE first_name LIKE 'b%' LIMIT 3;"
   ]
  },
  {
   "cell_type": "markdown",
   "metadata": {},
   "source": [
    "# 12. Display the names of the first 5 movies which are rated as ‘G’"
   ]
  },
  {
   "cell_type": "code",
   "execution_count": null,
   "metadata": {},
   "outputs": [],
   "source": [
    "SELECT title FROM films WHERE rating = 'G' LIMIT 5;"
   ]
  },
  {
   "cell_type": "markdown",
   "metadata": {},
   "source": [
    "# 13. Find all customers whose first name starts with \"a\""
   ]
  },
  {
   "cell_type": "code",
   "execution_count": null,
   "metadata": {},
   "outputs": [],
   "source": [
    "SELECT * FROM customers WHERE first_name LIKE 'a%';"
   ]
  },
  {
   "cell_type": "markdown",
   "metadata": {},
   "source": [
    "# 14. Find all customers whose first name ends with \"a\""
   ]
  },
  {
   "cell_type": "code",
   "execution_count": null,
   "metadata": {},
   "outputs": [],
   "source": [
    "SELECT * FROM customers WHERE first_name LIKE '%a';"
   ]
  },
  {
   "cell_type": "markdown",
   "metadata": {},
   "source": [
    "# 15. Display the list of first 4 cities which start and end with ‘a’"
   ]
  },
  {
   "cell_type": "code",
   "execution_count": null,
   "metadata": {},
   "outputs": [],
   "source": [
    "SELECT DISTINCT city FROM customers WHERE city LIKE 'a%' AND city LIKE '%a' LIMIT 4;"
   ]
  },
  {
   "cell_type": "markdown",
   "metadata": {},
   "source": [
    "# 16. Find all customers whose first name has \"NI\" in any position"
   ]
  },
  {
   "cell_type": "code",
   "execution_count": null,
   "metadata": {},
   "outputs": [],
   "source": [
    "SELECT * FROM customers WHERE first_name LIKE '%NI%';"
   ]
  },
  {
   "cell_type": "markdown",
   "metadata": {},
   "source": [
    "# 17. Find all customers whose first name has \"r\" in the second position"
   ]
  },
  {
   "cell_type": "code",
   "execution_count": null,
   "metadata": {},
   "outputs": [],
   "source": [
    "SELECT * FROM customers WHERE first_name LIKE '_r%';"
   ]
  },
  {
   "cell_type": "markdown",
   "metadata": {},
   "source": [
    "# 18. Find all customers whose first name starts with \"a\" and are at least 5 characters in length"
   ]
  },
  {
   "cell_type": "code",
   "execution_count": null,
   "metadata": {},
   "outputs": [],
   "source": [
    "SELECT * FROM customers WHERE first_name LIKE 'a%' AND LENGTH(first_name) >= 5;"
   ]
  },
  {
   "cell_type": "markdown",
   "metadata": {},
   "source": [
    "# 19. Find all customers whose first name starts with \"a\" and ends with \"o\""
   ]
  },
  {
   "cell_type": "code",
   "execution_count": null,
   "metadata": {},
   "outputs": [],
   "source": [
    "SELECT * FROM customers WHERE first_name LIKE 'a%o';"
   ]
  },
  {
   "cell_type": "markdown",
   "metadata": {},
   "source": [
    "# 20. Get the films with pg and pg-13 rating using IN operator"
   ]
  },
  {
   "cell_type": "code",
   "execution_count": null,
   "metadata": {},
   "outputs": [],
   "source": [
    "SELECT * FROM films WHERE rating IN ('PG', 'PG-13');"
   ]
  },
  {
   "cell_type": "markdown",
   "metadata": {},
   "source": [
    "# 21. Get the films with length between 50 to 100 using BETWEEN operator"
   ]
  },
  {
   "cell_type": "code",
   "execution_count": null,
   "metadata": {},
   "outputs": [],
   "source": [
    "SELECT * FROM films WHERE length BETWEEN 50 AND 100;"
   ]
  },
  {
   "cell_type": "markdown",
   "metadata": {},
   "source": [
    "# 22. Get the top 50 actors using LIMIT operator"
   ]
  },
  {
   "cell_type": "code",
   "execution_count": null,
   "metadata": {},
   "outputs": [],
   "source": [
    "SELECT * FROM actors LIMIT 50;"
   ]
  },
  {
   "cell_type": "markdown",
   "metadata": {},
   "source": [
    "# 23. Get the distinct film ids from inventory table"
   ]
  },
  {
   "cell_type": "code",
   "execution_count": null,
   "metadata": {},
   "outputs": [],
   "source": []
  }
 ],
 "metadata": {
  "language_info": {
   "name": "python"
  }
 },
 "nbformat": 4,
 "nbformat_minor": 2
}
