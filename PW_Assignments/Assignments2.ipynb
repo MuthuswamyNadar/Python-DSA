{
 "cells": [
  {
   "cell_type": "markdown",
   "metadata": {},
   "source": [
    "# 1. Difference between a function and a method in Python\n",
    "\n",
    "A function is a block of code that can be called multiple times from different parts of a program. \n",
    "A method, on the other hand, is a function that belongs to a class or object."
   ]
  },
  {
   "cell_type": "markdown",
   "metadata": {},
   "source": [
    "************************************************************************************************************************"
   ]
  },
  {
   "cell_type": "markdown",
   "metadata": {},
   "source": [
    "# 2. Function arguments and parameters in Python\n",
    "\n",
    "Function parameters are the variables defined in the function definition. \n",
    "Function arguments are the values passed to the function when it's called."
   ]
  },
  {
   "cell_type": "markdown",
   "metadata": {},
   "source": [
    "************************************************************************************************************************"
   ]
  },
  {
   "cell_type": "markdown",
   "metadata": {},
   "source": [
    "# 3. Ways to define and call a function in Python\n",
    "\n",
    "Functions can be defined using the def keyword, and called by typing the function name followed \n",
    "by parentheses containing any required arguments."
   ]
  },
  {
   "cell_type": "markdown",
   "metadata": {},
   "source": [
    "************************************************************************************************************************"
   ]
  },
  {
   "cell_type": "markdown",
   "metadata": {},
   "source": [
    "# 4. Purpose of the return statement in a Python function\n",
    "\n",
    "The return statement is used to exit a function and send a value back to the caller."
   ]
  },
  {
   "cell_type": "markdown",
   "metadata": {},
   "source": [
    "************************************************************************************************************************"
   ]
  },
  {
   "cell_type": "markdown",
   "metadata": {},
   "source": [
    "# 5. Iterators vs iterables in Python\n",
    "Iterables are objects that can be looped over, such as lists or tuples. \n",
    "Iterators are objects that keep track of their position in an iterable."
   ]
  },
  {
   "cell_type": "markdown",
   "metadata": {},
   "source": [
    "************************************************************************************************************************"
   ]
  },
  {
   "cell_type": "markdown",
   "metadata": {},
   "source": [
    "# 6. Generators in Python\n",
    "\n",
    "Generators are special functions that can be paused and resumed, allowing \n",
    "them to generate a sequence of values on-the-fly."
   ]
  },
  {
   "cell_type": "markdown",
   "metadata": {},
   "source": [
    "************************************************************************************************************************************************************************************************************************************************"
   ]
  },
  {
   "cell_type": "markdown",
   "metadata": {},
   "source": [
    "# 7. Advantages of using generators\n",
    "\n",
    "Generators are more memory-efficient than regular functions, as they only generate values as needed."
   ]
  },
  {
   "cell_type": "markdown",
   "metadata": {},
   "source": [
    "************************************************************************************************************************************************************************************************************************************************"
   ]
  },
  {
   "cell_type": "markdown",
   "metadata": {},
   "source": [
    "# 8. Lambda functions in Python\n",
    "Lambda functions are small, anonymous functions that can be defined inline."
   ]
  },
  {
   "cell_type": "markdown",
   "metadata": {},
   "source": [
    "************************************************************************************************************************************************************************************************************************************************"
   ]
  },
  {
   "cell_type": "markdown",
   "metadata": {},
   "source": [
    "# 9. map() function in Python\n",
    "\n",
    "The map() function applies a given function to each item in an iterable."
   ]
  },
  {
   "cell_type": "markdown",
   "metadata": {},
   "source": [
    "************************************************************************************************************************************************************************************************************************************************"
   ]
  },
  {
   "cell_type": "markdown",
   "metadata": {},
   "source": [
    "# 10. Difference between map(), reduce(), and filter()\n",
    "map(): Applies a function to each item in an iterable.\n",
    "reduce(): Applies a function to the first two items in an iterable, then to the result and the next item, and so on.\n",
    "filter(): Returns a new iterable containing only the items for which a given function returns True."
   ]
  },
  {
   "cell_type": "markdown",
   "metadata": {},
   "source": [
    "************************************************************************************************************************"
   ]
  },
  {
   "cell_type": "markdown",
   "metadata": {},
   "source": [
    "# 11. Using pen & Paper write the internal mechanism for sum operation using  reduce function on this given list:[47,11,42,13];\n",
    "\n",
    "\n"
   ]
  },
  {
   "cell_type": "markdown",
   "metadata": {},
   "source": [
    "\n",
    "![alt text](<WhatsApp Image 2024-12-21 at 16.39.57_a34ec7d0.jpg>)"
   ]
  },
  {
   "cell_type": "markdown",
   "metadata": {},
   "source": []
  },
  {
   "cell_type": "markdown",
   "metadata": {},
   "source": [
    "# *** Practical Questions ***"
   ]
  },
  {
   "cell_type": "markdown",
   "metadata": {},
   "source": [
    "# 1. Write a Python function that takes a list of numbers as input and returns the sum of all even numbers in the list."
   ]
  },
  {
   "cell_type": "code",
   "execution_count": 3,
   "metadata": {},
   "outputs": [
    {
     "name": "stdout",
     "output_type": "stream",
     "text": [
      "12\n"
     ]
    }
   ],
   "source": [
    "def sum_even_numbers(numbers):\n",
    "    \"\"\"\n",
    "    This function calculates the sum of all even numbers in a given list.\n",
    "\n",
    "    Args:\n",
    "        numbers (list): A list of integers.\n",
    "\n",
    "    Returns:\n",
    "        int: The sum of all even numbers in the list.\n",
    "    \"\"\"\n",
    "    return sum(num for num in numbers if num % 2 == 0)\n",
    "\n",
    "numbers = [1, 2, 3, 4, 5, 6]\n",
    "print(sum_even_numbers(numbers)) "
   ]
  },
  {
   "cell_type": "markdown",
   "metadata": {},
   "source": [
    "# 2. Create a Python function that accepts a string and returns the reverse of that string."
   ]
  },
  {
   "cell_type": "code",
   "execution_count": 4,
   "metadata": {},
   "outputs": [
    {
     "name": "stdout",
     "output_type": "stream",
     "text": [
      "! ymawS olleH\n"
     ]
    }
   ],
   "source": [
    "def reverse_string(s):\n",
    "    \"\"\"\n",
    "    This function returns the reverse of a given string.\n",
    "\n",
    "    Args:\n",
    "        s (str): The input string.\n",
    "\n",
    "    Returns:\n",
    "        str: The reversed string.\n",
    "    \"\"\"\n",
    "    return s[::-1]\n",
    "\n",
    "# Example usage:\n",
    "s = \"Hello Swamy !\"\n",
    "print(reverse_string(s))  "
   ]
  },
  {
   "cell_type": "markdown",
   "metadata": {},
   "source": [
    "# 3. Implement a Python function that takes a list of integers and returns a new list containing the squares of each number."
   ]
  },
  {
   "cell_type": "code",
   "execution_count": 5,
   "metadata": {},
   "outputs": [
    {
     "name": "stdout",
     "output_type": "stream",
     "text": [
      "[1, 4, 9, 16, 25]\n"
     ]
    }
   ],
   "source": [
    "def squares(numbers):\n",
    "    \n",
    "    \n",
    "    return [num ** 2 for num in numbers]\n",
    "\n",
    "numbers = [1, 2, 3, 4, 5]\n",
    "print(squares(numbers)) "
   ]
  },
  {
   "cell_type": "markdown",
   "metadata": {},
   "source": [
    "# 4. Write a Python function that checks if a given number is prime or not from 1 to 200."
   ]
  },
  {
   "cell_type": "code",
   "execution_count": 6,
   "metadata": {},
   "outputs": [
    {
     "name": "stdout",
     "output_type": "stream",
     "text": [
      "[2, 3, 5, 7, 11, 13, 17, 19, 23, 29, 31, 37, 41, 43, 47, 53, 59, 61, 67, 71, 73, 79, 83, 89, 97, 101, 103, 107, 109, 113, 127, 131, 137, 139, 149, 151, 157, 163, 167, 173, 179, 181, 191, 193, 197, 199]\n"
     ]
    }
   ],
   "source": [
    "def is_prime(n):\n",
    "   \n",
    "    if n <= 1:\n",
    "        return False\n",
    "    if n == 2:\n",
    "        return True\n",
    "    if n % 2 == 0:\n",
    "        return False\n",
    "    max_divisor = int(n**0.5) + 1\n",
    "    for d in range(3, max_divisor, 2):\n",
    "        if n % d == 0:\n",
    "            return False\n",
    "    return True\n",
    "\n",
    "def prime_numbers_up_to_n(n):\n",
    "    \n",
    "    return [i for i in range(1, n+1) if is_prime(i)]\n",
    "\n",
    "\n",
    "print(prime_numbers_up_to_n(200))"
   ]
  },
  {
   "cell_type": "markdown",
   "metadata": {},
   "source": [
    "# 5. Create an iterator class in Python that generates the Fibonacci sequence up to a specified number of terms."
   ]
  },
  {
   "cell_type": "code",
   "execution_count": 7,
   "metadata": {},
   "outputs": [
    {
     "name": "stdout",
     "output_type": "stream",
     "text": [
      "0\n",
      "1\n",
      "1\n",
      "2\n",
      "3\n",
      "5\n",
      "8\n",
      "13\n",
      "21\n",
      "34\n"
     ]
    }
   ],
   "source": [
    "class FibonacciIterator:\n",
    "    \n",
    "\n",
    "    def __init__(self, n):\n",
    "        \n",
    "        self.n = n\n",
    "        self.current = 0\n",
    "        self.a = 0\n",
    "        self.b = 1\n",
    "\n",
    "    def __iter__(self):\n",
    "        \n",
    "        return self\n",
    "\n",
    "    def __next__(self):\n",
    "        \n",
    "        if self.current < self.n:\n",
    "            result = self.a\n",
    "            self.a, self.b = self.b, self.a + self.b\n",
    "            self.current += 1\n",
    "            return result\n",
    "        else:\n",
    "            raise StopIteration\n",
    "\n",
    "fib_iterator = FibonacciIterator(10)\n",
    "for num in fib_iterator:\n",
    "    print(num)"
   ]
  },
  {
   "cell_type": "markdown",
   "metadata": {},
   "source": [
    "# 6. Write a generator function in Python that yields the powers of 2 up to a given exponent."
   ]
  },
  {
   "cell_type": "code",
   "execution_count": 8,
   "metadata": {},
   "outputs": [
    {
     "name": "stdout",
     "output_type": "stream",
     "text": [
      "1\n",
      "2\n",
      "4\n",
      "8\n",
      "16\n",
      "32\n"
     ]
    }
   ],
   "source": [
    "def powers_of_two(exponent):\n",
    "    \n",
    "    for i in range(exponent + 1):\n",
    "        yield 2 ** i\n",
    "\n",
    "for power in powers_of_two(5):\n",
    "    print(power)"
   ]
  },
  {
   "cell_type": "markdown",
   "metadata": {},
   "source": [
    "# 7. Implement a generator function that reads a file line by line and yields each line as a string."
   ]
  },
  {
   "cell_type": "markdown",
   "metadata": {},
   "source": [
    "def read_file_line_by_line(filename):\n",
    "   \n",
    "    with open(filename, 'r') as file:\n",
    "\n",
    "        for line in file:\n",
    "\n",
    "            yield line.strip()\n",
    "\n",
    "\n",
    "filename = 'example.txt'\n",
    "\n",
    "for line in read_file_line_by_line(filename):\n",
    "\n",
    "    print(line)"
   ]
  },
  {
   "cell_type": "markdown",
   "metadata": {},
   "source": [
    "# 8. Use a lambda function in Python to sort a list of tuples based on the second element of each tuple.\n",
    "\n"
   ]
  },
  {
   "cell_type": "code",
   "execution_count": 10,
   "metadata": {},
   "outputs": [
    {
     "name": "stdout",
     "output_type": "stream",
     "text": [
      "[(3, 1), (4, 2), (1, 3)]\n"
     ]
    }
   ],
   "source": [
    "def sort_list_of_tuples(tuples_list):\n",
    "   \n",
    "    return sorted(tuples_list, key=lambda x: x[1])\n",
    "\n",
    "\n",
    "tuples_list = [(1, 3), (4, 2), (3, 1)]\n",
    "print(sort_list_of_tuples(tuples_list)) "
   ]
  },
  {
   "cell_type": "markdown",
   "metadata": {},
   "source": [
    "# 9. Write a Python program that uses `map()` to convert a list of temperatures from Celsius to Fahrenheit."
   ]
  },
  {
   "cell_type": "code",
   "execution_count": 11,
   "metadata": {},
   "outputs": [
    {
     "name": "stdout",
     "output_type": "stream",
     "text": [
      "[32.0, 50.0, 68.0, 86.0, 104.0]\n"
     ]
    }
   ],
   "source": [
    "def convert_t(celsius_list):\n",
    "   \n",
    "    return list(map(lambda x: (x * 9/5) + 32, celsius_list))\n",
    "\n",
    "celsius_list = [0, 10, 20, 30, 40]\n",
    "print(convert_t(celsius_list))"
   ]
  },
  {
   "cell_type": "markdown",
   "metadata": {},
   "source": [
    "# 10. Create a Python program that uses `filter()` to remove all the vowels from a given string."
   ]
  },
  {
   "cell_type": "code",
   "execution_count": 12,
   "metadata": {},
   "outputs": [
    {
     "name": "stdout",
     "output_type": "stream",
     "text": [
      "Hll Wrld!\n"
     ]
    }
   ],
   "source": [
    "def remove_vowels(input_string):\n",
    "   \n",
    "    vowels = 'aeiouAEIOU'\n",
    "    return ''.join(filter(lambda x: x not in vowels, input_string))\n",
    "\n",
    "input_string = \"Hello World!\"\n",
    "print(remove_vowels(input_string)) "
   ]
  },
  {
   "cell_type": "markdown",
   "metadata": {},
   "source": [
    "# 11 Write a Python program, which returns a list with 2-tuples. Each tuple consists of the order number and the\n",
    "# product of the price per item and the quantity. The product should be increased by 10,- € if the value of the\n",
    "# order is smaller than 100,00 €.\n",
    "\n",
    "# Write a Python program using lambda and map."
   ]
  },
  {
   "cell_type": "code",
   "execution_count": 13,
   "metadata": {},
   "outputs": [
    {
     "name": "stdout",
     "output_type": "stream",
     "text": [
      "Order Number: 34587\n",
      "Book Title and Author: Learning Python, Mark Lutz\n",
      "Quantity: 4\n",
      "Price per Item: 40.95\n",
      "Total: 163.8\n",
      "------------------------\n",
      "Order Number: 98762\n",
      "Book Title and Author: Programming Python, Mark Lutz\n",
      "Quantity: 5\n",
      "Price per Item: 56.8\n",
      "Total: 284.0\n",
      "------------------------\n",
      "Order Number: 77226\n",
      "Book Title and Author: Head First Python, Paul Barry\n",
      "Quantity: 3\n",
      "Price per Item: 32.95\n",
      "Total: 108.85000000000001\n",
      "------------------------\n",
      "Order Number: 88112\n",
      "Book Title and Author: Einführung in Python3, Bernd Klein\n",
      "Quantity: 3\n",
      "Price per Item: 24.99\n",
      "Total: 84.97\n",
      "------------------------\n"
     ]
    }
   ],
   "source": [
    "# Define a list of orders with order number, book title and author, quantity, and price per item\n",
    "orders = [\n",
    "    {\"order_number\": 34587, \"book_title_and_author\": \"Learning Python, Mark Lutz\", \"quantity\": 4, \"price_per_item\": 40.95},\n",
    "    {\"order_number\": 98762, \"book_title_and_author\": \"Programming Python, Mark Lutz\", \"quantity\": 5, \"price_per_item\": 56.80},\n",
    "    {\"order_number\": 77226, \"book_title_and_author\": \"Head First Python, Paul Barry\", \"quantity\": 3, \"price_per_item\": 32.95},\n",
    "    {\"order_number\": 88112, \"book_title_and_author\": \"Einführung in Python3, Bernd Klein\", \"quantity\": 3, \"price_per_item\": 24.99},\n",
    "]\n",
    "\n",
    "\n",
    "calculate_order_value = lambda order: (\n",
    "    order[\"order_number\"],\n",
    "    order[\"book_title_and_author\"],\n",
    "    order[\"quantity\"],\n",
    "    order[\"price_per_item\"],\n",
    "    order[\"price_per_item\"] * order[\"quantity\"] + (10 if order[\"price_per_item\"] * order[\"quantity\"] < 100 else 0)\n",
    ")\n",
    "\n",
    "\n",
    "result = list(map(calculate_order_value, orders))\n",
    "\n",
    "for order in result:\n",
    "    print(f\"Order Number: {order[0]}\")\n",
    "    print(f\"Book Title and Author: {order[1]}\")\n",
    "    print(f\"Quantity: {order[2]}\")\n",
    "    print(f\"Price per Item: {order[3]}\")\n",
    "    print(f\"Total: {order[4]}\")\n",
    "    print(\"------------------------\")"
   ]
  }
 ],
 "metadata": {
  "kernelspec": {
   "display_name": "Python 3",
   "language": "python",
   "name": "python3"
  },
  "language_info": {
   "codemirror_mode": {
    "name": "ipython",
    "version": 3
   },
   "file_extension": ".py",
   "mimetype": "text/x-python",
   "name": "python",
   "nbconvert_exporter": "python",
   "pygments_lexer": "ipython3",
   "version": "3.12.8"
  }
 },
 "nbformat": 4,
 "nbformat_minor": 2
}
