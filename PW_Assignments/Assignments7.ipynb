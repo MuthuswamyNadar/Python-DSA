{
 "cells": [
  {
   "cell_type": "markdown",
   "metadata": {},
   "source": [
    "# 1) Difference between Interpreted and Compiled Languages\n",
    "Interpreted languages are executed line-by-line by an interpreter at runtime, whereas compiled languages are converted to machine code beforehand."
   ]
  },
  {
   "cell_type": "markdown",
   "metadata": {},
   "source": [
    "# 2) Exception Handling in Python\n",
    "Exception handling in Python is a mechanism to handle runtime errors or exceptions that occur during the execution of a program."
   ]
  },
  {
   "cell_type": "markdown",
   "metadata": {},
   "source": [
    "# 3) Purpose of the Finally Block\n",
    "The finally block is used to execute code regardless of whether an exception occurred or not."
   ]
  },
  {
   "cell_type": "markdown",
   "metadata": {},
   "source": [
    "# 4) Logging in Python\n",
    "Logging in Python is a mechanism to record events that occur during the execution of a program."
   ]
  },
  {
   "cell_type": "markdown",
   "metadata": {},
   "source": [
    "# 5. Significance of the del Method\n",
    "The __del__ method is a special method that's called when an object is about to be destroyed"
   ]
  },
  {
   "cell_type": "markdown",
   "metadata": {},
   "source": [
    "# 6. Difference between Import and From ... Import\n",
    "Import is used to import an entire module, whereas from ... import is used to import specific functions, classes, or variables from a module."
   ]
  },
  {
   "cell_type": "markdown",
   "metadata": {},
   "source": [
    "# 7. Handling Multiple Exceptions\n",
    "Multiple exceptions can be handled using multiple except blocks or by using a single except block with a tuple of exception types."
   ]
  },
  {
   "cell_type": "markdown",
   "metadata": {},
   "source": [
    "# 8. Purpose of the With Statement\n",
    "The with statement is used to ensure that resources, such as files or connections, are properly closed after use."
   ]
  },
  {
   "cell_type": "markdown",
   "metadata": {},
   "source": [
    "# 9. Difference between Multithreading and Multiprocessing\n",
    "Multithreading refers to the ability of a program to execute multiple threads or flows of execution concurrently, sharing the same memory space. Multiprocessing refers to the ability of a program to execute multiple processes or separate memory spaces concurrently."
   ]
  },
  {
   "cell_type": "markdown",
   "metadata": {},
   "source": [
    "# 10. Advantages of Using Logging\n",
    "\n",
    "The advantages of using logging include:\n",
    "\n",
    "Improving debugging\n",
    "\n",
    "Enhancing monitoring\n",
    "\n",
    "Providing auditing\n",
    "\n",
    "Supporting troubleshooting\n",
    "\n",
    "Optimizing performance"
   ]
  },
  {
   "cell_type": "markdown",
   "metadata": {},
   "source": [
    "# 11. Memory Management in Python\n",
    "Memory management in Python refers to the process of managing the memory allocated to a program. Python uses automatic memory management through its garbage collector."
   ]
  },
  {
   "cell_type": "markdown",
   "metadata": {},
   "source": [
    "# 12. Basic Steps Involved in Exception Handling\n",
    "\n",
    "The basic steps involved in exception handling are:\n",
    "\n",
    "Try: Enclose the code that might raise an exception in a try block.\n",
    "\n",
    "Except: Catch the exception using an except block.\n",
    "\n",
    "Handle: Handle the exception in the except block."
   ]
  },
  {
   "cell_type": "markdown",
   "metadata": {},
   "source": [
    "# 13. Importance of Memory Management\n",
    "Memory management is important because it helps prevent memory-related issues, such as memory leaks, dangling pointers, and segmentation faults."
   ]
  },
  {
   "cell_type": "markdown",
   "metadata": {},
   "source": [
    "# 14. Role of Try and Except\n",
    "The try block is used to enclose code that might raise an exception, while the except block is used to catch and handle exceptions."
   ]
  },
  {
   "cell_type": "markdown",
   "metadata": {},
   "source": [
    "# 15. How Python's Garbage Collection Works\n",
    "Python's garbage collector works by periodically scanning the heap for unreachable objects and freeing their memory."
   ]
  },
  {
   "cell_type": "markdown",
   "metadata": {},
   "source": [
    "# 16. Purpose of the Else Block\n",
    "The else block is used to execute code when no exception occurs in the try block."
   ]
  },
  {
   "cell_type": "markdown",
   "metadata": {},
   "source": [
    "# 17. Common Logging Levels\n",
    "The common logging levels in Python are:\n",
    "\n",
    "DEBUG\n",
    "\n",
    "INFO\n",
    "\n",
    "WARNING\n",
    "\n",
    "ERROR\n",
    "\n",
    "CRITICAL"
   ]
  },
  {
   "cell_type": "markdown",
   "metadata": {},
   "source": [
    "# 18. Difference between os.fork() and Multiprocessing\n",
    "os.fork() is used to create a new process by duplicating an existing one, while the multiprocessing module provides a higher-level interface for parallelism.\n"
   ]
  },
  {
   "cell_type": "markdown",
   "metadata": {},
   "source": [
    "# 19. Importance of Closing a File\n",
    "Closing a file is important because it ensures that the file is properly released and its resources are freed."
   ]
  },
  {
   "cell_type": "markdown",
   "metadata": {},
   "source": [
    "# 20. Difference between file.read() and file.readline()\n",
    "file.read() reads the entire contents of a file as a string, while file.readline() reads a single line from a file."
   ]
  },
  {
   "cell_type": "markdown",
   "metadata": {},
   "source": [
    "# 21. Logging Module in Python\n",
    "The logging module in Python provides a flexible event logging system."
   ]
  },
  {
   "cell_type": "markdown",
   "metadata": {},
   "source": [
    "# 22. OS Module in Python\n",
    "The os module in Python provides a way of using operating system dependent functionality."
   ]
  },
  {
   "cell_type": "markdown",
   "metadata": {},
   "source": [
    "# 23. Challenges Associated with Memory Management\n",
    "The challenges associated with memory management include memory leaks, dangling pointers, and segmentation faults."
   ]
  },
  {
   "cell_type": "markdown",
   "metadata": {},
   "source": [
    "# 24. Raising an Exception Manually\n",
    "You can raise an exception manually using the raise keyword."
   ]
  },
  {
   "cell_type": "markdown",
   "metadata": {},
   "source": [
    "# 25. Importance of Multithreading\n",
    "Multithreading is important because it allows a program to execute multiple tasks concurrently, improving responsiveness and throughput. It's particularly useful in applications that require concurrent execution of multiple tasks, such as web servers, GUI applications, and real-time systems."
   ]
  },
  {
   "cell_type": "code",
   "execution_count": 1,
   "metadata": {},
   "outputs": [
    {
     "name": "stdout",
     "output_type": "stream",
     "text": [
      "0\n",
      "1\n",
      "2\n",
      "3\n",
      "4\n",
      "5\n",
      "6\n",
      "7\n",
      "8\n",
      "9\n",
      "a\n",
      "b\n",
      "c\n",
      "d\n",
      "e\n",
      "f\n",
      "g\n",
      "h\n",
      "i\n",
      "j\n"
     ]
    }
   ],
   "source": [
    "import threading\n",
    "\n",
    "def print_numbers():\n",
    "    for i in range(10):\n",
    "        print(i)\n",
    "\n",
    "def print_letters():\n",
    "    for letter in 'abcdefghij':\n",
    "        print(letter)\n",
    "\n",
    "# Create threads\n",
    "thread1 = threading.Thread(target=print_numbers)\n",
    "thread2 = threading.Thread(target=print_letters)\n",
    "\n",
    "# Start threads\n",
    "thread1.start()\n",
    "thread2.start()\n",
    "\n",
    "# Wait for threads to finish\n",
    "thread1.join()\n",
    "thread2.join()"
   ]
  },
  {
   "cell_type": "markdown",
   "metadata": {},
   "source": [
    "# Practical Questions\n"
   ]
  },
  {
   "cell_type": "markdown",
   "metadata": {},
   "source": [
    "# 1. Opening a File for Writing and Writing a String\n",
    "You can open a file for writing in Python using the open() function with the 'w' mode. Here's an example:"
   ]
  },
  {
   "cell_type": "code",
   "execution_count": 3,
   "metadata": {},
   "outputs": [],
   "source": [
    "with open('file.txt', 'w') as f:\n",
    "    f.write('Hello, world!')"
   ]
  },
  {
   "cell_type": "markdown",
   "metadata": {},
   "source": [
    "# 2. Reading a File and Printing Each Line\n",
    "You can read a file and print each line in Python using the open() function with the 'r' mode and a for loop. Here's an example:"
   ]
  },
  {
   "cell_type": "code",
   "execution_count": 4,
   "metadata": {},
   "outputs": [
    {
     "name": "stdout",
     "output_type": "stream",
     "text": [
      "Hello, world!\n"
     ]
    }
   ],
   "source": [
    "with open('file.txt', 'r') as f:\n",
    "    for line in f:\n",
    "        print(line.strip())"
   ]
  },
  {
   "cell_type": "markdown",
   "metadata": {},
   "source": [
    "# 3. Handling a Non-Existent File\n",
    "You can handle a non-existent file in Python by using a try-except block with the FileNotFoundError exception. Here's an example:"
   ]
  },
  {
   "cell_type": "code",
   "execution_count": 5,
   "metadata": {},
   "outputs": [
    {
     "name": "stdout",
     "output_type": "stream",
     "text": [
      "File not found.\n"
     ]
    }
   ],
   "source": [
    "try:\n",
    "    with open('non_existent_file.txt', 'r') as f:\n",
    "        print(f.read())\n",
    "except FileNotFoundError:\n",
    "    print('File not found.')"
   ]
  },
  {
   "cell_type": "markdown",
   "metadata": {},
   "source": [
    "# 4. Reading from One File and Writing to Another\n",
    "You can read from one file and write to another in Python using the open() function with the 'r' and 'w' modes. Here's an example:"
   ]
  },
  {
   "cell_type": "code",
   "execution_count": null,
   "metadata": {},
   "outputs": [],
   "source": [
    "with open('input.txt', 'r') as input_file:\n",
    "    with open('output.txt', 'w') as output_file:\n",
    "        output_file.write(input_file.read())"
   ]
  },
  {
   "cell_type": "markdown",
   "metadata": {},
   "source": [
    "# 5. Catching and Handling Division by Zero Error\n",
    "You can catch and handle division by zero error in Python by using a try-except block with the ZeroDivisionError exception. Here's an example:"
   ]
  },
  {
   "cell_type": "code",
   "execution_count": 8,
   "metadata": {},
   "outputs": [
    {
     "name": "stdout",
     "output_type": "stream",
     "text": [
      "Cannot divide by zero.\n"
     ]
    }
   ],
   "source": [
    "try:\n",
    "    x = 5 / 0\n",
    "except ZeroDivisionError:\n",
    "    print('Cannot divide by zero.')"
   ]
  },
  {
   "cell_type": "markdown",
   "metadata": {},
   "source": [
    "# 6. Logging an Error Message to a Log File\n",
    "You can log an error message to a log file in Python using the logging module. Here's an example:"
   ]
  },
  {
   "cell_type": "code",
   "execution_count": 9,
   "metadata": {},
   "outputs": [],
   "source": [
    "import logging\n",
    "\n",
    "logging.basicConfig(filename='error.log', level=logging.ERROR)\n",
    "\n",
    "try:\n",
    "    x = 5 / 0\n",
    "except ZeroDivisionError:\n",
    "    logging.error('Cannot divide by zero.')"
   ]
  },
  {
   "cell_type": "markdown",
   "metadata": {},
   "source": [
    "# 7. Logging Information at Different Levels\n",
    "You can log information at different levels in Python using the logging module. Here's an example:"
   ]
  },
  {
   "cell_type": "code",
   "execution_count": 10,
   "metadata": {},
   "outputs": [],
   "source": [
    "import logging\n",
    "\n",
    "logging.basicConfig(filename='log.log', level=logging.DEBUG)\n",
    "\n",
    "logging.debug('Debug message')\n",
    "logging.info('Info message')\n",
    "logging.warning('Warning message')\n",
    "logging.error('Error message')\n",
    "logging.critical('Critical message')"
   ]
  },
  {
   "cell_type": "markdown",
   "metadata": {},
   "source": [
    "# 8. Handling a File Opening Error\n",
    "You can handle a file opening error in Python by using a try-except block with the IOError exception. Here's an example:"
   ]
  },
  {
   "cell_type": "code",
   "execution_count": 11,
   "metadata": {},
   "outputs": [
    {
     "name": "stdout",
     "output_type": "stream",
     "text": [
      "Error opening file.\n"
     ]
    }
   ],
   "source": [
    "try:\n",
    "    with open('non_existent_file.txt', 'r') as f:\n",
    "        print(f.read())\n",
    "except IOError:\n",
    "    print('Error opening file.')"
   ]
  },
  {
   "cell_type": "markdown",
   "metadata": {},
   "source": [
    "# 9. Reading a File Line by Line and Storing its Content in a List\n",
    "You can read a file line by line and store its content in a list in Python using a for loop. Here's an example:"
   ]
  },
  {
   "cell_type": "code",
   "execution_count": 12,
   "metadata": {},
   "outputs": [],
   "source": [
    "with open('file.txt', 'r') as f:\n",
    "    lines = [line.strip() for line in f]"
   ]
  },
  {
   "cell_type": "markdown",
   "metadata": {},
   "source": [
    "# 10. Appending Data to an Existing File\n",
    "You can append data to an existing file in Python using the open() function with the 'a' mode. Here's an example:"
   ]
  },
  {
   "cell_type": "code",
   "execution_count": 13,
   "metadata": {},
   "outputs": [],
   "source": [
    "with open('file.txt', 'a') as f:\n",
    "    f.write('New data\\n')"
   ]
  },
  {
   "cell_type": "markdown",
   "metadata": {},
   "source": [
    "# 11. Handling a Dictionary Key Error\n",
    "You can handle a dictionary key error in Python by using a try-except block with the KeyError exception. Here's an example:"
   ]
  },
  {
   "cell_type": "code",
   "execution_count": 14,
   "metadata": {},
   "outputs": [
    {
     "name": "stdout",
     "output_type": "stream",
     "text": [
      "Key not found.\n"
     ]
    }
   ],
   "source": [
    "d = {'a': 1, 'b': 2}\n",
    "\n",
    "try:\n",
    "    print(d['c'])\n",
    "except KeyError:\n",
    "    print('Key not found.')"
   ]
  },
  {
   "cell_type": "markdown",
   "metadata": {},
   "source": [
    "# 12. Handling Multiple Exceptions\n",
    "You can handle multiple exceptions in Python by using multiple except blocks. Here's an example:"
   ]
  },
  {
   "cell_type": "code",
   "execution_count": 15,
   "metadata": {},
   "outputs": [
    {
     "name": "stdout",
     "output_type": "stream",
     "text": [
      "Cannot divide by zero.\n"
     ]
    }
   ],
   "source": [
    "try:\n",
    "    x = 5 / 0\n",
    "except ZeroDivisionError:\n",
    "    print('Cannot divide by zero.')\n",
    "except TypeError:\n",
    "    print('Invalid type.')"
   ]
  },
  {
   "cell_type": "markdown",
   "metadata": {},
   "source": [
    "# 13. Checking if a File Exists\n",
    "You can check if a file exists in Python using the os.path.exists() function. Here's an example:"
   ]
  },
  {
   "cell_type": "code",
   "execution_count": 16,
   "metadata": {},
   "outputs": [
    {
     "name": "stdout",
     "output_type": "stream",
     "text": [
      "File exists.\n"
     ]
    }
   ],
   "source": [
    "import os\n",
    "\n",
    "if os.path.exists('file.txt'):\n",
    "    print('File exists.')\n",
    "else:\n",
    "    print('File does not exist.')"
   ]
  },
  {
   "cell_type": "markdown",
   "metadata": {},
   "source": [
    "# 14. Logging Informational and Error Messages\n",
    "You can log informational and error messages in Python using the logging module. Here's an example:"
   ]
  },
  {
   "cell_type": "code",
   "execution_count": 17,
   "metadata": {},
   "outputs": [],
   "source": [
    "import logging\n",
    "\n",
    "logging.basicConfig(filename='log.log', level=logging.INFO)\n",
    "\n",
    "logging.info('This is an informational message.')\n",
    "logging.error('This is an error message.')"
   ]
  },
  {
   "cell_type": "markdown",
   "metadata": {},
   "source": [
    "# 15. Printing the Content of a File and Handling an Empty File\n",
    "You can print the content of a file and handle an empty file in Python by checking if the file is empty before reading its content. Here's an example:"
   ]
  },
  {
   "cell_type": "code",
   "execution_count": 18,
   "metadata": {},
   "outputs": [
    {
     "name": "stdout",
     "output_type": "stream",
     "text": [
      "Hello, world!New data\n",
      "\n"
     ]
    }
   ],
   "source": [
    "with open('file.txt', 'r') as f:\n",
    "    if f.read().strip() == '':\n",
    "        print('File is empty.')\n",
    "    else:\n",
    "        f.seek(0)\n",
    "        print(f.read())"
   ]
  },
  {
   "cell_type": "markdown",
   "metadata": {},
   "source": [
    "# 16. Memory Profiling\n",
    "You can use memory profiling in Python to check the memory usage of a program. Here's an example using the memory_profiler module:"
   ]
  },
  {
   "cell_type": "code",
   "execution_count": null,
   "metadata": {},
   "outputs": [],
   "source": [
    "from memory_profiler import profile\n",
    "\n",
    "@profile\n",
    "def my_function():\n",
    "    # Code to profile\n",
    "\n",
    "my_function()"
   ]
  },
  {
   "cell_type": "markdown",
   "metadata": {},
   "source": [
    "# 17. Creating and Writing a List of Numbers to a File\n",
    "You can create and write a list of numbers to a file in Python using a for loop. Here's an example:"
   ]
  },
  {
   "cell_type": "code",
   "execution_count": 20,
   "metadata": {},
   "outputs": [],
   "source": [
    "numbers = [1, 2, 3, 4, 5]\n",
    "\n",
    "with open('numbers.txt', 'w') as f:\n",
    "    for number in numbers:\n",
    "        f.write(str(number) + '\\n')"
   ]
  },
  {
   "cell_type": "markdown",
   "metadata": {},
   "source": [
    "# 18. Implementing a Basic Logging Setup with Rotation\n",
    "You can implement a basic logging setup with rotation in Python using the logging module and the RotatingFileHandler class. Here's an example:"
   ]
  },
  {
   "cell_type": "code",
   "execution_count": 21,
   "metadata": {},
   "outputs": [],
   "source": [
    "import logging\n",
    "from logging.handlers import RotatingFileHandler\n",
    "\n",
    "logger = logging.getLogger()\n",
    "logger.setLevel(logging.INFO)\n",
    "\n",
    "handler = RotatingFileHandler('log.log', maxBytes=1000000, backupCount=1)\n",
    "logger.addHandler(handler)\n",
    "\n",
    "logger.info('This is an informational message.')"
   ]
  },
  {
   "cell_type": "markdown",
   "metadata": {},
   "source": [
    "# 19. Handling IndexError and KeyError\n",
    "You can handle IndexError and KeyError in Python by using a try-except block. Here's an example:"
   ]
  },
  {
   "cell_type": "code",
   "execution_count": 22,
   "metadata": {},
   "outputs": [
    {
     "name": "stdout",
     "output_type": "stream",
     "text": [
      "Index out of range.\n",
      "Key not found.\n"
     ]
    }
   ],
   "source": [
    "try:\n",
    "    my_list = [1, 2, 3]\n",
    "    print(my_list[5])\n",
    "except IndexError:\n",
    "    print('Index out of range.')\n",
    "\n",
    "try:\n",
    "    my_dict = {'a': 1, 'b': 2}\n",
    "    print(my_dict['c'])\n",
    "except KeyError:\n",
    "    print('Key not found.')"
   ]
  },
  {
   "cell_type": "markdown",
   "metadata": {},
   "source": [
    "# 20. Opening a File and Reading its Contents using a Context Manager\n",
    "You can open a file and read its contents using a context manager in Python. Here's an example:"
   ]
  },
  {
   "cell_type": "code",
   "execution_count": 23,
   "metadata": {},
   "outputs": [
    {
     "name": "stdout",
     "output_type": "stream",
     "text": [
      "Hello, world!New data\n",
      "\n"
     ]
    }
   ],
   "source": [
    "with open('file.txt', 'r') as f:\n",
    "    print(f.read())"
   ]
  },
  {
   "cell_type": "markdown",
   "metadata": {},
   "source": [
    "# 21. Reading a File and Printing the Number of Occurrences of a Specific Word\n",
    "You can read a file and print the number of occurrences of a specific word in Python using a for loop. Here's an example:"
   ]
  },
  {
   "cell_type": "code",
   "execution_count": 24,
   "metadata": {},
   "outputs": [
    {
     "name": "stdout",
     "output_type": "stream",
     "text": [
      "0\n"
     ]
    }
   ],
   "source": [
    "with open('file.txt', 'r') as f:\n",
    "    word_count = 0\n",
    "    for line in f:\n",
    "        words = line.split()\n",
    "        for word in words:\n",
    "            if word.lower() == 'specific_word':\n",
    "                word_count += 1\n",
    "    print(word_count)"
   ]
  },
  {
   "cell_type": "markdown",
   "metadata": {},
   "source": [
    "# 22. Checking if a File is Empty\n",
    "You can check if a file is empty in Python by checking the file size. Here's an example:"
   ]
  },
  {
   "cell_type": "code",
   "execution_count": 25,
   "metadata": {},
   "outputs": [
    {
     "name": "stdout",
     "output_type": "stream",
     "text": [
      "File is not empty.\n"
     ]
    }
   ],
   "source": [
    "import os\n",
    "\n",
    "if os.path.getsize('file.txt') == 0:\n",
    "    print('File is empty.')\n",
    "else:\n",
    "    print('File is not empty.')"
   ]
  },
  {
   "cell_type": "markdown",
   "metadata": {},
   "source": [
    "# 23. Writing to a Log File when an Error Occurs during File Handling\n",
    "You can write to a log file when an error occurs during file handling in Python using the logging module. Here's an example:"
   ]
  },
  {
   "cell_type": "code",
   "execution_count": null,
   "metadata": {},
   "outputs": [],
   "source": []
  }
 ],
 "metadata": {
  "kernelspec": {
   "display_name": "Python 3",
   "language": "python",
   "name": "python3"
  },
  "language_info": {
   "codemirror_mode": {
    "name": "ipython",
    "version": 3
   },
   "file_extension": ".py",
   "mimetype": "text/x-python",
   "name": "python",
   "nbconvert_exporter": "python",
   "pygments_lexer": "ipython3",
   "version": "3.13.1"
  }
 },
 "nbformat": 4,
 "nbformat_minor": 2
}
