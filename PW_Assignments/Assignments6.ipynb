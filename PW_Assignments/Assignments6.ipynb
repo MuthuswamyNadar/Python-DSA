{
 "cells": [
  {
   "cell_type": "markdown",
   "metadata": {},
   "source": [
    "# 1. Difference between Interpreted and Compiled Languages\n",
    "Interpreted languages (e.g., Python, JavaScript) are executed line-by-line by an interpreter at runtime.\n",
    "Compiled languages (e.g., C, C++, Java) are converted into machine code beforehand."
   ]
  }
 ],
 "metadata": {
  "language_info": {
   "name": "python"
  }
 },
 "nbformat": 4,
 "nbformat_minor": 2
}
