{
 "cells": [
  {
   "cell_type": "markdown",
   "metadata": {},
   "source": [
    "# What is hypothesis testing in statistics ?\n",
    "\n",
    "Hypothesis testing is a statistical method used to make inferences about a population based on a sample of data. It involves testing a null hypothesis against an alternative hypothesis."
   ]
  },
  {
   "cell_type": "markdown",
   "metadata": {},
   "source": [
    "# What is the null hypothesis, and how does it differ from the alternative hypothesis ?\n",
    "Null Hypothesis (H0): A statement of no effect or no difference. It is a hypothesis that is tested for possible rejection under the assumption that it is true.\n",
    "\n",
    "\n",
    "Alternative Hypothesis (H1 or Ha): A statement of an effect or difference. It is the hypothesis that is accepted if the null hypothesis is rejected."
   ]
  },
  {
   "cell_type": "markdown",
   "metadata": {},
   "source": [
    "# What is the significance level in hypothesis testing, and why is it important\n",
    "\n",
    "The significance level (α) is the probability of rejecting the null hypothesis when it is true. It is a threshold for deciding whether the observed effect is statistically significant. Common significance levels include 0.05 and 0.01.\n"
   ]
  },
  {
   "cell_type": "markdown",
   "metadata": {},
   "source": [
    "# What does a P-value represent in hypothesis testing\n",
    "\n",
    "The P-value represents the probability of observing an effect as extreme or more extreme than the one observed, assuming the null hypothesis is true. A small P-value (less than the significance level) indicates strong evidence against the null hypothesis."
   ]
  },
  {
   "cell_type": "markdown",
   "metadata": {},
   "source": [
    "# How do you interpret the P-value in hypothesis testing\n",
    "\n",
    "If the P-value is less than the significance level (α), the null hypothesis is rejected, indicating a statistically significant result. Otherwise, the null hypothesis is not rejected."
   ]
  },
  {
   "cell_type": "markdown",
   "metadata": {},
   "source": [
    "# What are Type 1 and Type 2 errors in hypothesis testing\n",
    "Type 1 Error: Rejecting the null hypothesis when it is true (false positive).\n",
    "\n",
    "Type 2 Error: Failing to reject the null hypothesis when it is false (false negative)."
   ]
  },
  {
   "cell_type": "markdown",
   "metadata": {},
   "source": [
    "# What is the difference between a one-tailed and a two-tailed test in hypothesis testing\n",
    "One-Tailed Test: Tests for an effect in one direction (e.g., an increase).\n",
    "\n",
    "Two-Tailed Test: Tests for an effect in both directions (e.g., an increase or decrease)."
   ]
  },
  {
   "cell_type": "markdown",
   "metadata": {},
   "source": [
    "# What is the Z-test, and when is it used in hypothesis testing\n",
    "\n",
    "The Z-test is a statistical test used to compare the mean of a sample to a known population mean or to compare the means of two samples. It assumes normality and equal variances."
   ]
  },
  {
   "cell_type": "markdown",
   "metadata": {},
   "source": [
    "# How do you calculate the Z-score, and what does it represent in hypothesis testing\n",
    "\n",
    "The Z-score is calculated as (X - μ) / σ, where X is the sample mean, μ is the population mean, and σ is the population standard deviation."
   ]
  },
  {
   "cell_type": "markdown",
   "metadata": {},
   "source": [
    "# What is the T-distribution, and when should it be used instead of the normal distribution\n",
    "The T-distribution is a probability distribution used when the sample size is small or the population variance is unknown. It is similar to the normal distribution but has fatter tails."
   ]
  },
  {
   "cell_type": "markdown",
   "metadata": {},
   "source": [
    "# What is the T-test, and how is it used in hypothesis testing\n",
    "The T-test is a statistical test used to compare the mean of a sample to a known population mean or to compare the means of two samples. It assumes normality but not equal variances."
   ]
  },
  {
   "cell_type": "markdown",
   "metadata": {},
   "source": [
    "# What is the relationship between Z-test and T-test in hypothesis testing\n",
    "The Z-test and T-test are both used for hypothesis testing, but the Z-test assumes known population variance, while the T-test does not. The T-test is more robust and commonly used"
   ]
  },
  {
   "cell_type": "markdown",
   "metadata": {},
   "source": [
    "# What is a confidence interval, and how is it used to interpret statistical results\n",
    "A confidence interval is a range of values within which a population parameter is likely to lie. It provides a measure of the uncertainty associated with a sample estimate."
   ]
  },
  {
   "cell_type": "markdown",
   "metadata": {},
   "source": [
    "# What is the margin of error, and how does it affect the confidence interval\n",
    "The margin of error is the maximum amount by which the sample estimate may differ from the true population parameter. It depends on the sample size, confidence level, and variability of the data."
   ]
  },
  {
   "cell_type": "markdown",
   "metadata": {},
   "source": [
    "# How is Bayes' Theorem used in statistics, and what is its significance\n",
    "Bayes' Theorem is a mathematical formula for updating the probability of a hypothesis based on new evidence. It is used in Bayesian inference to combine prior knowledge with new data."
   ]
  },
  {
   "cell_type": "markdown",
   "metadata": {},
   "source": [
    "# What is the Chi-square distribution, and when is it used\n",
    "The Chi-square distribution is a probability distribution used for hypothesis testing and confidence intervals for categorical data. It is commonly used for goodness-of-fit tests and independence tests."
   ]
  },
  {
   "cell_type": "markdown",
   "metadata": {},
   "source": [
    "# What is the Chi-square goodness of fit test, and how is it applied\n",
    "The Chi-square goodness of fit test is used to determine whether observed frequencies differ significantly from expected frequencies. It is commonly used to test for independence between categorical variables."
   ]
  },
  {
   "cell_type": "markdown",
   "metadata": {},
   "source": [
    "# What is the F-distribution, and when is it used in hypothesis testing\n",
    "The F-distribution is a probability distribution used for hypothesis testing and confidence intervals for comparing variances. It is commonly used in ANOVA and regression analysis."
   ]
  },
  {
   "cell_type": "markdown",
   "metadata": {},
   "source": [
    "# What is an ANOVA test, and what are its assumptions\n",
    "The ANOVA (Analysis of Variance) test is used to compare means among three or more groups. It assumes normality, equal variances, and independence of observations."
   ]
  },
  {
   "cell_type": "markdown",
   "metadata": {},
   "source": [
    "# What are the different types of ANOVA tests\n",
    "\n",
    "There are several types of ANOVA tests, including:\n",
    "\n",
    "\n",
    "One-Way ANOVA: Compares means among three or more groups.\n",
    "\n",
    "\n",
    "Two-Way ANOVA: Compares means among groups while controlling for the effect of a second variable.\n",
    "\n",
    "\n",
    "Repeated Measures ANOVA: Compares means among groups when the same subjects are used for each treatment."
   ]
  },
  {
   "cell_type": "markdown",
   "metadata": {},
   "source": [
    "# What is the F-test, and how does it relate to hypothesis testing?\n",
    "\n",
    "The F-test is a statistical test used to compare variances between two groups or to test for significance in regression analysis. It assumes normality and equal variances."
   ]
  },
  {
   "cell_type": "markdown",
   "metadata": {},
   "source": [
    "# ---------------------------------------------------------------------"
   ]
  },
  {
   "cell_type": "markdown",
   "metadata": {},
   "source": [
    "# Write a Python program to perform a Z-test for comparing a sample mean to a known population mean and interpret the results"
   ]
  },
  {
   "cell_type": "code",
   "execution_count": 6,
   "metadata": {},
   "outputs": [
    {
     "name": "stdout",
     "output_type": "stream",
     "text": [
      "Z-score: 0.5980801553448511\n",
      "P-value: 0.549786450862416\n",
      "Fail to reject the null hypothesis. The sample mean is not significantly different from the population mean.\n"
     ]
    }
   ],
   "source": [
    "import numpy as np\n",
    "from scipy import stats\n",
    "\n",
    "# Known population mean and standard deviation\n",
    "population_mean = 10\n",
    "population_std = 2\n",
    "\n",
    "# Sample size\n",
    "sample_size = 100\n",
    "\n",
    "# Generate random sample data\n",
    "np.random.seed(0)\n",
    "sample_data = np.random.normal(loc=population_mean, scale=population_std, size=sample_size)\n",
    "\n",
    "# Calculate sample mean and standard deviation\n",
    "sample_mean = np.mean(sample_data)\n",
    "sample_std = np.std(sample_data)\n",
    "\n",
    "# Perform Z-test\n",
    "z_score = (sample_mean - population_mean) / (population_std / np.sqrt(sample_size))\n",
    "p_value = 2 * (1 - stats.norm.cdf(abs(z_score)))\n",
    "\n",
    "print(\"Z-score:\", z_score)\n",
    "print(\"P-value:\", p_value)\n",
    "\n",
    "if p_value < 0.05:\n",
    "    print(\"Reject the null hypothesis. The sample mean is significantly different from the population mean.\")\n",
    "else:\n",
    "    print(\"Fail to reject the null hypothesis. The sample mean is not significantly different from the population mean.\")"
   ]
  },
  {
   "cell_type": "markdown",
   "metadata": {},
   "source": [
    "# Simulate random data to perform hypothesis testing and calculate the corresponding P-value using Python"
   ]
  },
  {
   "cell_type": "code",
   "execution_count": 8,
   "metadata": {},
   "outputs": [
    {
     "data": {
      "image/png": "[encoded data removed]",
      "text/plain": [
       "<Figure size 640x480 with 1 Axes>"
      ]
     },
     "metadata": {},
     "output_type": "display_data"
    }
   ],
   "source": [
    "import numpy as np\n",
    "from scipy import stats\n",
    "import matplotlib.pyplot as plt\n",
    "\n",
    "# Set seed for reproducibility\n",
    "np.random.seed(0)\n",
    "\n",
    "# Number of simulations\n",
    "num_simulations = 10000\n",
    "\n",
    "# Sample size\n",
    "sample_size = 100\n",
    "\n",
    "# Known population mean and standard deviation\n",
    "population_mean = 10\n",
    "population_std = 2\n",
    "\n",
    "# Simulate random data and calculate P-values\n",
    "p_values = []\n",
    "for _ in range(num_simulations):\n",
    "    sample_data = np.random.normal(loc=population_mean, scale=population_std, size=sample_size)\n",
    "    sample_mean = np.mean(sample_data)\n",
    "    z_score = (sample_mean - population_mean) / (population_std / np.sqrt(sample_size))\n",
    "    p_value = 2 * (1 - stats.norm.cdf(abs(z_score)))\n",
    "    p_values.append(p_value)\n",
    "\n",
    "# Plot histogram of P-values\n",
    "plt.hist(p_values, bins=30, alpha=0.7, color='blue', edgecolor='black')\n",
    "plt.xlabel('P-value')\n",
    "plt.ylabel('Frequency')\n",
    "plt.title('Histogram of P-values')\n",
    "plt.show()"
   ]
  },
  {
   "cell_type": "markdown",
   "metadata": {},
   "source": [
    "# Implement a one-sample Z-test using Python to compare the sample mean with the population mean"
   ]
  },
  {
   "cell_type": "code",
   "execution_count": 9,
   "metadata": {},
   "outputs": [
    {
     "name": "stdout",
     "output_type": "stream",
     "text": [
      "Z-score: 0.5059644256269412\n",
      "P-value: 0.6128816234132359\n",
      "Fail to reject the null hypothesis. The sample mean is not significantly different from the population mean.\n"
     ]
    }
   ],
   "source": [
    "import numpy as np\n",
    "from scipy import stats\n",
    "\n",
    "# Sample data\n",
    "sample_data = np.array([23, 11, 19, 24, 17, 22, 20, 25, 21, 26])\n",
    "\n",
    "# Known population mean\n",
    "population_mean = 20\n",
    "\n",
    "# Population standard deviation\n",
    "population_std = 5\n",
    "\n",
    "# Calculate sample mean\n",
    "sample_mean = np.mean(sample_data)\n",
    "\n",
    "# Perform Z-test\n",
    "z_score = (sample_mean - population_mean) / (population_std / np.sqrt(len(sample_data)))\n",
    "p_value = 2 * (1 - stats.norm.cdf(abs(z_score)))\n",
    "\n",
    "print(\"Z-score:\", z_score)\n",
    "print(\"P-value:\", p_value)\n",
    "\n",
    "if p_value < 0.05:\n",
    "    print(\"Reject the null hypothesis. The sample mean is significantly different from the population mean.\")\n",
    "else:\n",
    "    print(\"Fail to reject the null hypothesis. The sample mean is not significantly different from the population mean.\")"
   ]
  },
  {
   "cell_type": "markdown",
   "metadata": {},
   "source": [
    "# Perform a two-tailed Z-test using Python and visualize the decision region on a plot\n"
   ]
  },
  {
   "cell_type": "code",
   "execution_count": 11,
   "metadata": {},
   "outputs": [
    {
     "name": "stdout",
     "output_type": "stream",
     "text": [
      "Z-score: 0.5980801553448499\n",
      "P-value: 0.5497864508624168\n"
     ]
    },
    {
     "data": {
      "image/png": "[encoded data removed]",
      "text/plain": [
       "<Figure size 640x480 with 1 Axes>"
      ]
     },
     "metadata": {},
     "output_type": "display_data"
    }
   ],
   "source": [
    "import numpy as np\n",
    "from scipy import stats\n",
    "import matplotlib.pyplot as plt\n",
    "\n",
    "# Known population mean and standard deviation\n",
    "population_mean = 0\n",
    "population_std = 1\n",
    "\n",
    "# Sample size\n",
    "sample_size = 100\n",
    "\n",
    "# Generate random sample data\n",
    "np.random.seed(0)\n",
    "sample_data = np.random.normal(loc=population_mean, scale=population_std, size=sample_size)\n",
    "\n",
    "# Calculate sample mean\n",
    "sample_mean = np.mean(sample_data)\n",
    "\n",
    "# Perform Z-test\n",
    "z_score = (sample_mean - population_mean) / (population_std / np.sqrt(sample_size))\n",
    "p_value = 2 * (1 - stats.norm.cdf(abs(z_score)))\n",
    "\n",
    "print(\"Z-score:\", z_score)\n",
    "print(\"P-value:\", p_value)\n",
    "\n",
    "# Create a plot\n",
    "x = np.linspace(-3, 3, 100)\n",
    "y = stats.norm.pdf(x, loc=population_mean, scale=population_std)\n",
    "\n",
    "plt.plot(x, y, color='blue')\n",
    "plt.fill_between(x, y, where=(x >= -z_score) & (x <= z_score), color='blue', alpha=0.3)\n",
    "plt.fill_between(x, y, where=(x < -z_score) | (x > z_score), color='red', alpha=0.3)\n",
    "plt.xlabel('Z-score')\n",
    "plt.ylabel('Probability Density')\n",
    "plt.title('Two-Tailed Z-Test')\n",
    "plt.show()"
   ]
  },
  {
   "cell_type": "markdown",
   "metadata": {},
   "source": [
    "# Create a Python function that calculates and visualizes Type 1 and Type 2 errors during hypothesis testing\n"
   ]
  },
  {
   "cell_type": "code",
   "execution_count": 12,
   "metadata": {},
   "outputs": [
    {
     "name": "stdout",
     "output_type": "stream",
     "text": [
      "Type 1 error rate: 0.0479\n",
      "Type 2 error rate: 0.0006\n"
     ]
    },
    {
     "data": {
      "image/png": "[encoded data removed]",
      "text/plain": [
       "<Figure size 640x480 with 1 Axes>"
      ]
     },
     "metadata": {},
     "output_type": "display_data"
    }
   ],
   "source": [
    "import numpy as np\n",
    "import matplotlib.pyplot as plt\n",
    "\n",
    "# Set seed for reproducibility\n",
    "np.random.seed(0)\n",
    "\n",
    "# Number of simulations\n",
    "num_simulations = 10000\n",
    "\n",
    "# Sample size\n",
    "sample_size = 100\n",
    "\n",
    "# Known population mean and standard deviation\n",
    "population_mean = 10\n",
    "population_std = 2\n",
    "\n",
    "# Null hypothesis mean\n",
    "null_hypothesis_mean = 10\n",
    "\n",
    "# Alternative hypothesis mean\n",
    "alternative_hypothesis_mean = 11\n",
    "\n",
    "# Significance level\n",
    "significance_level = 0.05\n",
    "\n",
    "# Simulate Type 1 errors\n",
    "type_1_errors = 0\n",
    "for _ in range(num_simulations):\n",
    "    sample_data = np.random.normal(loc=null_hypothesis_mean, scale=population_std, size=sample_size)\n",
    "    sample_mean = np.mean(sample_data)\n",
    "    z_score = (sample_mean - null_hypothesis_mean) / (population_std / np.sqrt(sample_size))\n",
    "    if abs(z_score) > stats.norm.ppf(1 - significance_level / 2):\n",
    "        type_1_errors += 1\n",
    "\n",
    "print(\"Type 1 error rate:\", type_1_errors / num_simulations)\n",
    "\n",
    "# Simulate Type 2 errors\n",
    "type_2_errors = 0\n",
    "for _ in range(num_simulations):\n",
    "    sample_data = np.random.normal(loc=alternative_hypothesis_mean, scale=population_std, size=sample_size)\n",
    "    sample_mean = np.mean(sample_data)\n",
    "    z_score = (sample_mean - null_hypothesis_mean) / (population_std / np.sqrt(sample_size))\n",
    "    if abs(z_score) < stats.norm.ppf(1 - significance_level / 2):\n",
    "        type_2_errors += 1\n",
    "\n",
    "print(\"Type 2 error rate:\", type_2_errors / num_simulations)\n",
    "\n",
    "# Plot the decision region\n",
    "x = np.linspace(null_hypothesis_mean - 3 * population_std, null_hypothesis_mean + 3 * population_std, 100)\n",
    "y = stats.norm.pdf(x, loc=null_hypothesis_mean, scale=population_std)\n",
    "\n",
    "plt.plot(x, y, color='blue')\n",
    "plt.fill_between(x, y, where=(x < null_hypothesis_mean - stats.norm.ppf(1 - significance_level / 2) * population_std / np.sqrt(sample_size)) | (x > null_hypothesis_mean + stats.norm.ppf(1 - significance_level / 2) * population_std / np.sqrt(sample_size)), color='red', alpha=0.3)\n",
    "plt.xlabel('Sample Mean')\n",
    "plt.ylabel('Probability Density')\n",
    "plt.title('Decision Region')\n",
    "plt.show()"
   ]
  },
  {
   "cell_type": "markdown",
   "metadata": {},
   "source": [
    "# Write a Python program to perform an independent T-test and interpret the results"
   ]
  },
  {
   "cell_type": "code",
   "execution_count": 13,
   "metadata": {},
   "outputs": [
    {
     "name": "stdout",
     "output_type": "stream",
     "text": [
      "T-statistic: -1.0038669904531687\n",
      "P-value: 0.3287478532729462\n",
      "Fail to reject the null hypothesis. The means of the two samples are not significantly different.\n"
     ]
    }
   ],
   "source": [
    "import numpy as np\n",
    "from scipy import stats\n",
    "\n",
    "# Sample data\n",
    "sample1 = np.array([23, 11, 19, 24, 17, 22, 20, 25, 21, 26])\n",
    "sample2 = np.array([27, 18, 22, 20, 23, 19, 21, 24, 25, 26])\n",
    "\n",
    "# Perform independent T-test\n",
    "t_stat, p_val = stats.ttest_ind(sample1, sample2)\n",
    "\n",
    "print(\"T-statistic:\", t_stat)\n",
    "print(\"P-value:\", p_val)\n",
    "\n",
    "if p_val < 0.05:\n",
    "    print(\"Reject the null hypothesis. The means of the two samples are significantly different.\")\n",
    "else:\n",
    "    print(\"Fail to reject the null hypothesis. The means of the two samples are not significantly different.\")"
   ]
  },
  {
   "cell_type": "markdown",
   "metadata": {},
   "source": [
    "# Perform a paired sample T-test using Python and visualize the comparison results"
   ]
  },
  {
   "cell_type": "code",
   "execution_count": 14,
   "metadata": {},
   "outputs": [
    {
     "name": "stdout",
     "output_type": "stream",
     "text": [
      "T-statistic: -1.4477190372993316\n",
      "P-value: 0.1816167393016854\n",
      "Fail to reject the null hypothesis. The means of the two samples are not significantly different.\n"
     ]
    }
   ],
   "source": [
    "import numpy as np\n",
    "from scipy import stats\n",
    "\n",
    "# Sample data\n",
    "sample1 = np.array([23, 11, 19, 24, 17, 22, 20, 25, 21, 26])\n",
    "sample2 = np.array([27, 18, 22, 20, 23, 19, 21, 24, 25, 26])\n",
    "\n",
    "# Perform paired sample T-test\n",
    "t_stat, p_val = stats.ttest_rel(sample1, sample2)\n",
    "\n",
    "print(\"T-statistic:\", t_stat)\n",
    "print(\"P-value:\", p_val)\n",
    "\n",
    "if p_val < 0.05:\n",
    "    print(\"Reject the null hypothesis. The means of the two samples are significantly different.\")\n",
    "else:\n",
    "    print(\"Fail to reject the null hypothesis. The means of the two samples are not significantly different.\")"
   ]
  },
  {
   "cell_type": "markdown",
   "metadata": {},
   "source": [
    "# Simulate data and perform both Z-test and T-test, then compare the results using Python"
   ]
  },
  {
   "cell_type": "code",
   "execution_count": 15,
   "metadata": {},
   "outputs": [
    {
     "name": "stdout",
     "output_type": "stream",
     "text": [
      "Z-score: 0.5059644256269412\n",
      "Z-test P-value: 0.6128816234132359\n",
      "T-statistic: 0.5727287518840177\n",
      "T-test P-value: 0.5808524407632515\n",
      "Z-test fails to reject the null hypothesis.\n",
      "T-test fails to reject the null hypothesis.\n"
     ]
    }
   ],
   "source": [
    "import numpy as np\n",
    "from scipy import stats\n",
    "\n",
    "# Sample data\n",
    "sample_data = np.array([23, 11, 19, 24, 17, 22, 20, 25, 21, 26])\n",
    "\n",
    "# Known population mean and standard deviation\n",
    "population_mean = 20\n",
    "population_std = 5\n",
    "\n",
    "# Perform Z-test\n",
    "z_score = (np.mean(sample_data) - population_mean) / (population_std / np.sqrt(len(sample_data)))\n",
    "z_p_value = 2 * (1 - stats.norm.cdf(abs(z_score)))\n",
    "\n",
    "print(\"Z-score:\", z_score)\n",
    "print(\"Z-test P-value:\", z_p_value)\n",
    "\n",
    "# Perform T-test\n",
    "t_stat, t_p_value = stats.ttest_1samp(sample_data, population_mean)\n",
    "\n",
    "print(\"T-statistic:\", t_stat)\n",
    "print(\"T-test P-value:\", t_p_value)\n",
    "\n",
    "if z_p_value < 0.05:\n",
    "    print(\"Z-test rejects the null hypothesis.\")\n",
    "else:\n",
    "    print(\"Z-test fails to reject the null hypothesis.\")\n",
    "\n",
    "if t_p_value < 0.05:\n",
    "    print(\"T-test rejects the null hypothesis.\")\n",
    "else:\n",
    "    print(\"T-test fails to reject the null hypothesis.\")"
   ]
  },
  {
   "cell_type": "markdown",
   "metadata": {},
   "source": [
    "# Write a Python function to calculate the confidence interval for a sample mean and explain its significance."
   ]
  },
  {
   "cell_type": "code",
   "execution_count": 16,
   "metadata": {},
   "outputs": [
    {
     "name": "stdout",
     "output_type": "stream",
     "text": [
      "Confidence interval: (np.float64(17.640169584065575), np.float64(23.959830415934427))\n"
     ]
    }
   ],
   "source": [
    "import numpy as np\n",
    "from scipy import stats\n",
    "\n",
    "# Sample data\n",
    "sample_data = np.array([23, 11, 19, 24, 17, 22, 20, 25, 21, 26])\n",
    "\n",
    "# Confidence level\n",
    "confidence_level = 0.95\n",
    "\n",
    "# Calculate sample mean and standard deviation\n",
    "sample_mean = np.mean(sample_data)\n",
    "sample_std = np.std(sample_data, ddof=1)\n",
    "\n",
    "# Calculate standard error\n",
    "standard_error = sample_std / np.sqrt(len(sample_data))\n",
    "\n",
    "# Calculate critical value\n",
    "critical_value = stats.t.ppf(1 - (1 - confidence_level) / 2, len(sample_data) - 1)\n",
    "\n",
    "# Calculate margin of error\n",
    "margin_of_error = critical_value * standard_error\n",
    "\n",
    "# Calculate confidence interval\n",
    "confidence_interval = (sample_mean - margin_of_error, sample_mean + margin_of_error)\n",
    "\n",
    "print(\"Confidence interval:\", confidence_interval)"
   ]
  },
  {
   "cell_type": "markdown",
   "metadata": {},
   "source": [
    "#  Write a Python program to calculate the margin of error for a given confidence level using sample data\n"
   ]
  },
  {
   "cell_type": "code",
   "execution_count": 17,
   "metadata": {},
   "outputs": [
    {
     "name": "stdout",
     "output_type": "stream",
     "text": [
      "Margin of error: 3.159830415934427\n"
     ]
    }
   ],
   "source": [
    "import numpy as np\n",
    "from scipy import stats\n",
    "\n",
    "# Sample data\n",
    "sample_data = np.array([23, 11, 19, 24, 17, 22, 20, 25, 21, 26])\n",
    "\n",
    "# Confidence level\n",
    "confidence_level = 0.95\n",
    "\n",
    "# Calculate sample mean and standard deviation\n",
    "sample_mean = np.mean(sample_data)\n",
    "sample_std = np.std(sample_data, ddof=1)\n",
    "\n",
    "# Calculate standard error\n",
    "standard_error = sample_std / np.sqrt(len(sample_data))\n",
    "\n",
    "# Calculate critical value\n",
    "critical_value = stats.t.ppf(1 - (1 - confidence_level) / 2, len(sample_data) - 1)\n",
    "\n",
    "# Calculate margin of error\n",
    "margin_of_error = critical_value * standard_error\n",
    "\n",
    "print(\"Margin of error:\", margin_of_error)"
   ]
  },
  {
   "cell_type": "markdown",
   "metadata": {},
   "source": [
    "# Implement a Bayesian inference method using Bayes' Theorem in Python and explain the process\n"
   ]
  },
  {
   "cell_type": "code",
   "execution_count": 18,
   "metadata": {},
   "outputs": [
    {
     "name": "stdout",
     "output_type": "stream",
     "text": [
      "Posterior probability of A: 0.6086956521739131\n",
      "Posterior probability of B: 0.391304347826087\n"
     ]
    }
   ],
   "source": [
    "import numpy as np\n",
    "\n",
    "# Prior probabilities\n",
    "prior_prob_A = 0.4\n",
    "prior_prob_B = 0.6\n",
    "\n",
    "# Likelihoods\n",
    "likelihood_A = 0.7\n",
    "likelihood_B = 0.3\n",
    "\n",
    "# Calculate posterior probabilities using Bayes' Theorem\n",
    "posterior_prob_A = (prior_prob_A * likelihood_A) / ((prior_prob_A * likelihood_A) + (prior_prob_B * likelihood_B))\n",
    "posterior_prob_B = (prior_prob_B * likelihood_B) / ((prior_prob_A * likelihood_A) + (prior_prob_B * likelihood_B))\n",
    "\n",
    "print(\"Posterior probability of A:\", posterior_prob_A)\n",
    "print(\"Posterior probability of B:\", posterior_prob_B)"
   ]
  },
  {
   "cell_type": "markdown",
   "metadata": {},
   "source": [
    "#  Perform a Chi-square test for independence between two categorical variables in Python\n"
   ]
  },
  {
   "cell_type": "code",
   "execution_count": 19,
   "metadata": {},
   "outputs": [
    {
     "name": "stdout",
     "output_type": "stream",
     "text": [
      "Chi-square statistic: 20.0\n",
      "P-value: 7.744216431015971e-06\n"
     ]
    }
   ],
   "source": [
    "import numpy as np\n",
    "from scipy import stats\n",
    "\n",
    "# Observed frequencies\n",
    "observed_freqs = np.array([[10, 20], [20, 30]])\n",
    "\n",
    "# Calculate expected frequencies\n",
    "expected_freqs = np.array([[15, 15], [15, 15]])\n",
    "\n",
    "# Calculate Chi-square statistic\n",
    "chi_square_stat = np.sum((observed_freqs - expected_freqs) ** 2 / expected_freqs)\n",
    "\n",
    "# Calculate P-value\n",
    "p_value = 1 - stats.chi2.cdf(chi_square_stat, df=1)\n",
    "\n",
    "print(\"Chi-square statistic:\", chi_square_stat)\n",
    "print(\"P-value:\", p_value)"
   ]
  },
  {
   "cell_type": "markdown",
   "metadata": {},
   "source": [
    "#  Write a Python program to calculate the expected frequencies for a Chi-square test based on observed data"
   ]
  },
  {
   "cell_type": "code",
   "execution_count": 20,
   "metadata": {},
   "outputs": [
    {
     "name": "stdout",
     "output_type": "stream",
     "text": [
      "Chi-square statistic: 20.0\n",
      "P-value: 7.744216431015971e-06\n"
     ]
    }
   ],
   "source": [
    "import numpy as np\n",
    "from scipy import stats\n",
    "\n",
    "# Observed frequencies\n",
    "observed_freqs = np.array([[10, 20], [20, 30]])\n",
    "\n",
    "# Calculate expected frequencies\n",
    "expected_freqs = np.array([[15, 15], [15, 15]])\n",
    "\n",
    "# Calculate Chi-square statistic\n",
    "chi_square_stat = np.sum((observed_freqs - expected_freqs) ** 2 / expected_freqs)\n",
    "\n",
    "# Calculate P-value\n",
    "p_value = 1 - stats.chi2.cdf(chi_square_stat, df=1)\n",
    "\n",
    "print(\"Chi-square statistic:\", chi_square_stat)\n",
    "print(\"P-value:\", p_value)"
   ]
  },
  {
   "cell_type": "markdown",
   "metadata": {},
   "source": [
    "# Perform a goodness-of-fit test using Python to compare the observed data to an expected distribution"
   ]
  },
  {
   "cell_type": "code",
   "execution_count": 21,
   "metadata": {},
   "outputs": [
    {
     "name": "stdout",
     "output_type": "stream",
     "text": [
      "Chi-square statistic: 30.0\n",
      "P-value: 1.3800570313193816e-06\n"
     ]
    }
   ],
   "source": [
    "import numpy as np\n",
    "from scipy import stats\n",
    "\n",
    "# Observed frequencies\n",
    "observed_freqs = np.array([10, 20, 30, 40])\n",
    "\n",
    "# Calculate expected frequencies under the null hypothesis\n",
    "expected_freqs = np.array([20, 20, 20, 20])\n",
    "\n",
    "# Calculate Chi-square statistic\n",
    "chi_square_stat = np.sum((observed_freqs - expected_freqs) ** 2 / expected_freqs)\n",
    "\n",
    "# Calculate P-value\n",
    "p_value = 1 - stats.chi2.cdf(chi_square_stat, df=3)\n",
    "\n",
    "print(\"Chi-square statistic:\", chi_square_stat)\n",
    "print(\"P-value:\", p_value)"
   ]
  },
  {
   "cell_type": "markdown",
   "metadata": {},
   "source": [
    "# Create a Python script to simulate and visualize the Chi-square distribution and discuss its characteristics"
   ]
  },
  {
   "cell_type": "code",
   "execution_count": 23,
   "metadata": {},
   "outputs": [
    {
     "data": {
      "image/png": "[encoded data removed]",
      "text/plain": [
       "<Figure size 640x480 with 1 Axes>"
      ]
     },
     "metadata": {},
     "output_type": "display_data"
    }
   ],
   "source": [
    "import numpy as np\n",
    "import matplotlib.pyplot as plt\n",
    "from scipy import stats\n",
    "\n",
    "# Simulate Chi-square distribution\n",
    "chi_square_sim = np.random.chisquare(df=4, size=1000)\n",
    "\n",
    "# Plot histogram of simulated data\n",
    "plt.hist(chi_square_sim, bins=30, alpha=0.7, color='blue', edgecolor='black')\n",
    "plt.xlabel('Chi-square Value')\n",
    "plt.ylabel('Frequency')\n",
    "plt.title('Chi-square Distribution Simulation')\n",
    "\n",
    "# Plot Chi-square distribution curve\n",
    "x = np.linspace(0, 20, 100)\n",
    "y = stats.chi2.pdf(x, df=4)\n",
    "plt.plot(x, y, color='red')\n",
    "plt.show()"
   ]
  },
  {
   "cell_type": "markdown",
   "metadata": {},
   "source": [
    "#  Implement an F-test using Python to compare the variances of two random samples"
   ]
  },
  {
   "cell_type": "code",
   "execution_count": 24,
   "metadata": {},
   "outputs": [
    {
     "name": "stdout",
     "output_type": "stream",
     "text": [
      "F-statistic: 2.1284848484848484\n",
      "P-value: 0.13789923430954998\n"
     ]
    }
   ],
   "source": [
    "import numpy as np\n",
    "from scipy import stats\n",
    "\n",
    "# Sample data\n",
    "sample1 = np.array([23, 11, 19, 24, 17, 22, 20, 25, 21, 26])\n",
    "sample2 = np.array([27, 18, 22, 20, 23, 19, 21, 24, 25, 26])\n",
    "\n",
    "# Calculate sample variances\n",
    "sample_var1 = np.var(sample1, ddof=1)\n",
    "sample_var2 = np.var(sample2, ddof=1)\n",
    "\n",
    "# Calculate F-statistic\n",
    "f_stat = sample_var1 / sample_var2\n",
    "\n",
    "# Calculate P-value\n",
    "p_value = 1 - stats.f.cdf(f_stat, dfn=len(sample1) - 1, dfd=len(sample2) - 1)\n",
    "\n",
    "print(\"F-statistic:\", f_stat)\n",
    "print(\"P-value:\", p_value)"
   ]
  },
  {
   "cell_type": "markdown",
   "metadata": {},
   "source": [
    "#  Write a Python program to perform an ANOVA test to compare means between multiple groups and interpret the results"
   ]
  },
  {
   "cell_type": "code",
   "execution_count": 25,
   "metadata": {},
   "outputs": [
    {
     "name": "stdout",
     "output_type": "stream",
     "text": [
      "F-statistic: 1.4770992366412214\n",
      "P-value: 0.24616812907378877\n"
     ]
    }
   ],
   "source": [
    "import numpy as np\n",
    "from scipy import stats\n",
    "\n",
    "# Sample data\n",
    "sample1 = np.array([23, 11, 19, 24, 17, 22, 20, 25, 21, 26])\n",
    "sample2 = np.array([27, 18, 22, 20, 23, 19, 21, 24, 25, 26])\n",
    "sample3 = np.array([25, 22, 20, 28, 19, 21, 24, 26, 27, 23])\n",
    "\n",
    "# Perform ANOVA test\n",
    "f_stat, p_value = stats.f_oneway(sample1, sample2, sample3)\n",
    "\n",
    "print(\"F-statistic:\", f_stat)\n",
    "print(\"P-value:\", p_value)"
   ]
  },
  {
   "cell_type": "markdown",
   "metadata": {},
   "source": [
    "# Perform a one-way ANOVA test using Python to compare the means of different groups and plot the results\n"
   ]
  },
  {
   "cell_type": "code",
   "execution_count": 27,
   "metadata": {},
   "outputs": [
    {
     "name": "stdout",
     "output_type": "stream",
     "text": [
      "F-statistic: 1.4770992366412214\n",
      "P-value: 0.24616812907378877\n"
     ]
    },
    {
     "data": {
      "image/png": "[encoded data removed]",
      "text/plain": [
       "<Figure size 640x480 with 1 Axes>"
      ]
     },
     "metadata": {},
     "output_type": "display_data"
    }
   ],
   "source": [
    "import numpy as np\n",
    "from scipy import stats\n",
    "import matplotlib.pyplot as plt\n",
    "\n",
    "# Sample data\n",
    "sample1 = np.array([23, 11, 19, 24, 17, 22, 20, 25, 21, 26])\n",
    "sample2 = np.array([27, 18, 22, 20, 23, 19, 21, 24, 25, 26])\n",
    "sample3 = np.array([25, 22, 20, 28, 19, 21, 24, 26, 27, 23])\n",
    "\n",
    "# Perform one-way ANOVA test\n",
    "f_stat, p_value = stats.f_oneway(sample1, sample2, sample3)\n",
    "\n",
    "print(\"F-statistic:\", f_stat)\n",
    "print(\"P-value:\", p_value)\n",
    "\n",
    "# Plot the data\n",
    "plt.boxplot([sample1, sample2, sample3])\n",
    "plt.xlabel('Group')\n",
    "plt.ylabel('Value')\n",
    "plt.title('One-Way ANOVA Test')\n",
    "plt.show()"
   ]
  },
  {
   "cell_type": "markdown",
   "metadata": {},
   "source": [
    "#  Write a Python function to check the assumptions (normality, independence, and equal variance) for ANOVA\n"
   ]
  },
  {
   "cell_type": "code",
   "execution_count": 29,
   "metadata": {},
   "outputs": [
    {
     "data": {
      "image/png": "[encoded data removed]",
      "text/plain": [
       "<Figure size 640x480 with 1 Axes>"
      ]
     },
     "metadata": {},
     "output_type": "display_data"
    },
    {
     "name": "stdout",
     "output_type": "stream",
     "text": [
      "Levene's test statistic: 0.3734123624047419\n",
      "P-value: 0.6918809784033751\n"
     ]
    }
   ],
   "source": [
    "import numpy as np\n",
    "from scipy import stats\n",
    "import matplotlib.pyplot as plt\n",
    "\n",
    "# Sample data\n",
    "sample1 = np.array([23, 11, 19, 24, 17, 22, 20, 25, 21, 26])\n",
    "sample2 = np.array([27, 18, 22, 20, 23, 19, 21, 24, 25, 26])\n",
    "sample3 = np.array([25, 22, 20, 28, 19, 21, 24, 26, 27, 23])\n",
    "\n",
    "# Check for normality\n",
    "plt.hist(sample1, bins=10, alpha=0.7, color='blue', edgecolor='black')\n",
    "plt.hist(sample2, bins=10, alpha=0.7, color='red', edgecolor='black')\n",
    "plt.hist(sample3, bins=10, alpha=0.7, color='green', edgecolor='black')\n",
    "plt.xlabel('Value')\n",
    "plt.ylabel('Frequency')\n",
    "plt.title('Histograms for Normality Check')\n",
    "plt.show()\n",
    "\n",
    "# Check for equal variances\n",
    "f_stat, p_value = stats.levene(sample1, sample2, sample3)\n",
    "print(\"Levene's test statistic:\", f_stat)\n",
    "print(\"P-value:\", p_value)"
   ]
  },
  {
   "cell_type": "markdown",
   "metadata": {},
   "source": [
    "#  Perform a two-way ANOVA test using Python to study the interaction between two factors and visualize the results"
   ]
  },
  {
   "cell_type": "code",
   "execution_count": 30,
   "metadata": {},
   "outputs": [
    {
     "name": "stdout",
     "output_type": "stream",
     "text": [
      "F-statistic for factor 1: 1.4770992366412214\n",
      "P-value for factor 1: 0.24616812907378877\n",
      "F-statistic for factor 2: 2.9039929536112745\n",
      "P-value for factor 2: 0.0720587335189222\n",
      "F-statistic for interaction: 1.090909090909091\n",
      "P-value for interaction: 0.3502628913097575\n"
     ]
    }
   ],
   "source": [
    "import numpy as np\n",
    "from scipy import stats\n",
    "\n",
    "# Sample data\n",
    "sample1 = np.array([23, 11, 19, 24, 17, 22, 20, 25, 21, 26])\n",
    "sample2 = np.array([27, 18, 22, 20, 23, 19, 21, 24, 25, 26])\n",
    "sample3 = np.array([25, 22, 20, 28, 19, 21, 24, 26, 27, 23])\n",
    "sample4 = np.array([29, 20, 22, 26, 21, 23, 25, 27, 28, 24])\n",
    "\n",
    "# Perform two-way ANOVA test\n",
    "f_stat1, p_value1 = stats.f_oneway(sample1, sample2, sample3)\n",
    "f_stat2, p_value2 = stats.f_oneway(sample1, sample3, sample4)\n",
    "f_stat3, p_value3 = stats.f_oneway(sample2, sample3, sample4)\n",
    "\n",
    "print(\"F-statistic for factor 1:\", f_stat1)\n",
    "print(\"P-value for factor 1:\", p_value1)\n",
    "print(\"F-statistic for factor 2:\", f_stat2)\n",
    "print(\"P-value for factor 2:\", p_value2)\n",
    "print(\"F-statistic for interaction:\", f_stat3)\n",
    "print(\"P-value for interaction:\", p_value3)"
   ]
  },
  {
   "cell_type": "markdown",
   "metadata": {},
   "source": [
    "# Write a Python program to visualize the F-distribution and discuss its use in hypothesis testing"
   ]
  },
  {
   "cell_type": "code",
   "execution_count": 34,
   "metadata": {},
   "outputs": [
    {
     "data": {
      "image/png": "[encoded data removed]",
      "text/plain": [
       "<Figure size 640x480 with 1 Axes>"
      ]
     },
     "metadata": {},
     "output_type": "display_data"
    }
   ],
   "source": [
    "import numpy as np\n",
    "import matplotlib.pyplot as plt\n",
    "from scipy import stats\n",
    "\n",
    "# Set seed for reproducibility\n",
    "np.random.seed(0)\n",
    "\n",
    "# Simulate F-distribution using scipy.stats.f.rvs\n",
    "f_sim = stats.f.rvs(dfn=3, dfd=10, size=1000)\n",
    "\n",
    "# Plot histogram of simulated data\n",
    "plt.hist(f_sim, bins=30, alpha=0.7, color='blue', edgecolor='black')\n",
    "plt.xlabel('F-value')\n",
    "plt.ylabel('Frequency')\n",
    "plt.title('F-Distribution Simulation')\n",
    "\n",
    "# Plot F-distribution curve\n",
    "x = np.linspace(0, 6, 100)\n",
    "y = stats.f.pdf(x, dfn=3, dfd=10)\n",
    "plt.plot(x, y, color='red')\n",
    "plt.show()"
   ]
  },
  {
   "cell_type": "markdown",
   "metadata": {},
   "source": [
    "#  Perform a one-way ANOVA test in Python and visualize the results with boxplots to compare group means"
   ]
  },
  {
   "cell_type": "code",
   "execution_count": 35,
   "metadata": {},
   "outputs": [
    {
     "name": "stdout",
     "output_type": "stream",
     "text": [
      "F-statistic: 88.0011163552077\n",
      "P-value: 9.708427651972416e-31\n"
     ]
    },
    {
     "data": {
      "image/png": "[encoded data removed]",
      "text/plain": [
       "<Figure size 640x480 with 1 Axes>"
      ]
     },
     "metadata": {},
     "output_type": "display_data"
    }
   ],
   "source": [
    "import numpy as np\n",
    "import matplotlib.pyplot as plt\n",
    "from scipy import stats\n",
    "\n",
    "# Simulate random data from normal distributions\n",
    "np.random.seed(0)\n",
    "group1 = np.random.normal(loc=20, scale=5, size=100)\n",
    "group2 = np.random.normal(loc=25, scale=5, size=100)\n",
    "group3 = np.random.normal(loc=30, scale=5, size=100)\n",
    "\n",
    "# Perform one-way ANOVA test\n",
    "f_stat, p_value = stats.f_oneway(group1, group2, group3)\n",
    "\n",
    "print(\"F-statistic:\", f_stat)\n",
    "print(\"P-value:\", p_value)\n",
    "\n",
    "# Create boxplots to compare group means\n",
    "plt.boxplot([group1, group2, group3])\n",
    "plt.xlabel('Group')\n",
    "plt.ylabel('Value')\n",
    "plt.title('One-Way ANOVA Test')\n",
    "plt.show()"
   ]
  },
  {
   "cell_type": "markdown",
   "metadata": {},
   "source": [
    "# Simulate random data from a normal distribution, then perform hypothesis testing to evaluate the means"
   ]
  },
  {
   "cell_type": "code",
   "execution_count": 36,
   "metadata": {},
   "outputs": [
    {
     "name": "stdout",
     "output_type": "stream",
     "text": [
      "T-statistic: 0.5904283402851727\n",
      "P-value: 0.5562489158694655\n",
      "Fail to reject the null hypothesis. The sample mean is not significantly different from the known population mean.\n"
     ]
    }
   ],
   "source": [
    "import numpy as np\n",
    "from scipy import stats\n",
    "\n",
    "# Simulate random data from normal distributions\n",
    "np.random.seed(0)\n",
    "sample_data = np.random.normal(loc=20, scale=5, size=100)\n",
    "\n",
    "# Define null and alternative hypotheses\n",
    "null_hypothesis_mean = 20\n",
    "alternative_hypothesis_mean = 25\n",
    "\n",
    "# Perform hypothesis test\n",
    "t_stat, p_value = stats.ttest_1samp(sample_data, null_hypothesis_mean)\n",
    "\n",
    "print(\"T-statistic:\", t_stat)\n",
    "print(\"P-value:\", p_value)\n",
    "\n",
    "if p_value < 0.05:\n",
    "    print(\"Reject the null hypothesis. The sample mean is significantly different from the known population mean.\")\n",
    "else:\n",
    "    print(\"Fail to reject the null hypothesis. The sample mean is not significantly different from the known population mean.\")"
   ]
  },
  {
   "cell_type": "markdown",
   "metadata": {},
   "source": [
    "#  Perform a hypothesis test for population variance using a Chi-square distribution and interpret the results\n"
   ]
  },
  {
   "cell_type": "code",
   "execution_count": 37,
   "metadata": {},
   "outputs": [
    {
     "name": "stdout",
     "output_type": "stream",
     "text": [
      "Chi-square statistic: 0.454304605638651\n",
      "P-value: 0.7967994182504952\n",
      "Fail to reject the null hypothesis. The sample variance is not significantly different from the known population variance.\n"
     ]
    }
   ],
   "source": [
    "import numpy as np\n",
    "from scipy import stats\n",
    "\n",
    "# Simulate random data from normal distributions\n",
    "np.random.seed(0)\n",
    "sample_data = np.random.normal(loc=20, scale=5, size=100)\n",
    "\n",
    "# Define null and alternative hypotheses\n",
    "null_hypothesis_variance = 25\n",
    "alternative_hypothesis_variance = 36\n",
    "\n",
    "# Perform hypothesis test\n",
    "chi_square_stat, p_value = stats.normaltest(sample_data)\n",
    "\n",
    "print(\"Chi-square statistic:\", chi_square_stat)\n",
    "print(\"P-value:\", p_value)\n",
    "\n",
    "if p_value < 0.05:\n",
    "    print(\"Reject the null hypothesis. The sample variance is significantly different from the known population variance.\")\n",
    "else:\n",
    "    print(\"Fail to reject the null hypothesis. The sample variance is not significantly different from the known population variance.\")"
   ]
  },
  {
   "cell_type": "markdown",
   "metadata": {},
   "source": [
    "#  Write a Python script to perform a Z-test for comparing proportions between two datasets or groups\n"
   ]
  },
  {
   "cell_type": "code",
   "execution_count": 38,
   "metadata": {},
   "outputs": [
    {
     "name": "stdout",
     "output_type": "stream",
     "text": [
      "Z-statistic: 1.4285714285714284\n",
      "P-value: 0.15312745101966962\n",
      "Fail to reject the null hypothesis. The proportions are not significantly different.\n"
     ]
    }
   ],
   "source": [
    "import numpy as np\n",
    "from scipy import stats\n",
    "\n",
    "# Define sample proportions\n",
    "sample_proportion1 = 0.6\n",
    "sample_proportion2 = 0.5\n",
    "\n",
    "# Define sample sizes\n",
    "sample_size1 = 100\n",
    "sample_size2 = 100\n",
    "\n",
    "# Define significance level\n",
    "significance_level = 0.05\n",
    "\n",
    "# Perform Z-test\n",
    "z_stat = (sample_proportion1 - sample_proportion2) / np.sqrt((sample_proportion1 * (1 - sample_proportion1) / sample_size1) + (sample_proportion2 * (1 - sample_proportion2) / sample_size2))\n",
    "\n",
    "p_value = 2 * (1 - stats.norm.cdf(abs(z_stat)))\n",
    "\n",
    "print(\"Z-statistic:\", z_stat)\n",
    "print(\"P-value:\", p_value)\n",
    "\n",
    "if p_value < significance_level:\n",
    "    print(\"Reject the null hypothesis. The proportions are significantly different.\")\n",
    "else:\n",
    "    print(\"Fail to reject the null hypothesis. The proportions are not significantly different.\")"
   ]
  },
  {
   "cell_type": "markdown",
   "metadata": {},
   "source": [
    "#  Implement an F-test for comparing the variances of two datasets, then interpret and visualize the results\n"
   ]
  },
  {
   "cell_type": "code",
   "execution_count": 39,
   "metadata": {},
   "outputs": [
    {
     "name": "stdout",
     "output_type": "stream",
     "text": [
      "F-statistic: 22.784279657023664\n",
      "P-value: 3.5160637129938112e-06\n",
      "Reject the null hypothesis. The variances are significantly different.\n"
     ]
    }
   ],
   "source": [
    "import numpy as np\n",
    "from scipy import stats\n",
    "\n",
    "# Simulate random data from normal distributions\n",
    "np.random.seed(0)\n",
    "sample1 = np.random.normal(loc=20, scale=5, size=100)\n",
    "sample2 = np.random.normal(loc=25, scale=10, size=100)\n",
    "\n",
    "# Perform F-test\n",
    "f_stat, p_value = stats.f_oneway(sample1, sample2)\n",
    "\n",
    "print(\"F-statistic:\", f_stat)\n",
    "print(\"P-value:\", p_value)\n",
    "\n",
    "if p_value < 0.05:\n",
    "    print(\"Reject the null hypothesis. The variances are significantly different.\")\n",
    "else:\n",
    "    print(\"Fail to reject the null hypothesis. The variances are not significantly different.\")"
   ]
  },
  {
   "cell_type": "markdown",
   "metadata": {},
   "source": [
    "#  Perform a Chi-square test for goodness of fit with simulated data and analyze the results."
   ]
  },
  {
   "cell_type": "code",
   "execution_count": 40,
   "metadata": {},
   "outputs": [
    {
     "ename": "ValueError",
     "evalue": "Array shapes are incompatible for broadcasting.",
     "output_type": "error",
     "traceback": [
      "\u001b[1;31m---------------------------------------------------------------------------\u001b[0m",
      "\u001b[1;31mValueError\u001b[0m                                Traceback (most recent call last)",
      "Cell \u001b[1;32mIn[40], line 12\u001b[0m\n\u001b[0;32m      9\u001b[0m expected_frequencies \u001b[38;5;241m=\u001b[39m np\u001b[38;5;241m.\u001b[39marray([\u001b[38;5;241m10\u001b[39m, \u001b[38;5;241m20\u001b[39m, \u001b[38;5;241m30\u001b[39m, \u001b[38;5;241m40\u001b[39m])\n\u001b[0;32m     11\u001b[0m \u001b[38;5;66;03m# Perform Chi-square test\u001b[39;00m\n\u001b[1;32m---> 12\u001b[0m chi_square_stat, p_value \u001b[38;5;241m=\u001b[39m \u001b[43mstats\u001b[49m\u001b[38;5;241;43m.\u001b[39;49m\u001b[43mchisquare\u001b[49m\u001b[43m(\u001b[49m\u001b[43mf_obs\u001b[49m\u001b[38;5;241;43m=\u001b[39;49m\u001b[43msample_data\u001b[49m\u001b[43m,\u001b[49m\u001b[43m \u001b[49m\u001b[43mf_exp\u001b[49m\u001b[38;5;241;43m=\u001b[39;49m\u001b[43mexpected_frequencies\u001b[49m\u001b[43m)\u001b[49m\n\u001b[0;32m     14\u001b[0m \u001b[38;5;28mprint\u001b[39m(\u001b[38;5;124m\"\u001b[39m\u001b[38;5;124mChi-square statistic:\u001b[39m\u001b[38;5;124m\"\u001b[39m, chi_square_stat)\n\u001b[0;32m     15\u001b[0m \u001b[38;5;28mprint\u001b[39m(\u001b[38;5;124m\"\u001b[39m\u001b[38;5;124mP-value:\u001b[39m\u001b[38;5;124m\"\u001b[39m, p_value)\n",
      "File \u001b[1;32mc:\\Users\\swamy\\AppData\\Local\\Programs\\Python\\Python313\\Lib\\site-packages\\scipy\\stats\\_stats_py.py:7505\u001b[0m, in \u001b[0;36mchisquare\u001b[1;34m(f_obs, f_exp, ddof, axis, sum_check)\u001b[0m\n\u001b[0;32m   7361\u001b[0m \u001b[38;5;28;01mdef\u001b[39;00m \u001b[38;5;21mchisquare\u001b[39m(f_obs, f_exp\u001b[38;5;241m=\u001b[39m\u001b[38;5;28;01mNone\u001b[39;00m, ddof\u001b[38;5;241m=\u001b[39m\u001b[38;5;241m0\u001b[39m, axis\u001b[38;5;241m=\u001b[39m\u001b[38;5;241m0\u001b[39m, \u001b[38;5;241m*\u001b[39m, sum_check\u001b[38;5;241m=\u001b[39m\u001b[38;5;28;01mTrue\u001b[39;00m):\n\u001b[0;32m   7362\u001b[0m \u001b[38;5;250m    \u001b[39m\u001b[38;5;124;03m\"\"\"Perform Pearson's chi-squared test.\u001b[39;00m\n\u001b[0;32m   7363\u001b[0m \n\u001b[0;32m   7364\u001b[0m \u001b[38;5;124;03m    Pearson's chi-squared test [1]_ is a goodness-of-fit test for a multinomial\u001b[39;00m\n\u001b[1;32m   (...)\u001b[0m\n\u001b[0;32m   7503\u001b[0m \u001b[38;5;124;03m    For a more detailed example, see :ref:`hypothesis_chisquare`.\u001b[39;00m\n\u001b[0;32m   7504\u001b[0m \u001b[38;5;124;03m    \"\"\"\u001b[39;00m  \u001b[38;5;66;03m# noqa: E501\u001b[39;00m\n\u001b[1;32m-> 7505\u001b[0m     \u001b[38;5;28;01mreturn\u001b[39;00m \u001b[43m_power_divergence\u001b[49m\u001b[43m(\u001b[49m\u001b[43mf_obs\u001b[49m\u001b[43m,\u001b[49m\u001b[43m \u001b[49m\u001b[43mf_exp\u001b[49m\u001b[38;5;241;43m=\u001b[39;49m\u001b[43mf_exp\u001b[49m\u001b[43m,\u001b[49m\u001b[43m \u001b[49m\u001b[43mddof\u001b[49m\u001b[38;5;241;43m=\u001b[39;49m\u001b[43mddof\u001b[49m\u001b[43m,\u001b[49m\u001b[43m \u001b[49m\u001b[43maxis\u001b[49m\u001b[38;5;241;43m=\u001b[39;49m\u001b[43maxis\u001b[49m\u001b[43m,\u001b[49m\n\u001b[0;32m   7506\u001b[0m \u001b[43m                             \u001b[49m\u001b[43mlambda_\u001b[49m\u001b[38;5;241;43m=\u001b[39;49m\u001b[38;5;124;43m\"\u001b[39;49m\u001b[38;5;124;43mpearson\u001b[39;49m\u001b[38;5;124;43m\"\u001b[39;49m\u001b[43m,\u001b[49m\u001b[43m \u001b[49m\u001b[43msum_check\u001b[49m\u001b[38;5;241;43m=\u001b[39;49m\u001b[43msum_check\u001b[49m\u001b[43m)\u001b[49m\n",
      "File \u001b[1;32mc:\\Users\\swamy\\AppData\\Local\\Programs\\Python\\Python313\\Lib\\site-packages\\scipy\\stats\\_stats_py.py:7302\u001b[0m, in \u001b[0;36m_power_divergence\u001b[1;34m(f_obs, f_exp, ddof, axis, lambda_, sum_check)\u001b[0m\n\u001b[0;32m   7298\u001b[0m dtype \u001b[38;5;241m=\u001b[39m default_float \u001b[38;5;28;01mif\u001b[39;00m xp\u001b[38;5;241m.\u001b[39misdtype(f_exp\u001b[38;5;241m.\u001b[39mdtype, \u001b[38;5;124m'\u001b[39m\u001b[38;5;124mintegral\u001b[39m\u001b[38;5;124m'\u001b[39m) \u001b[38;5;28;01melse\u001b[39;00m f_exp\u001b[38;5;241m.\u001b[39mdtype\n\u001b[0;32m   7299\u001b[0m f_exp \u001b[38;5;241m=\u001b[39m (f_exp\u001b[38;5;241m.\u001b[39mastype(dtype) \u001b[38;5;28;01mif\u001b[39;00m np\u001b[38;5;241m.\u001b[39mma\u001b[38;5;241m.\u001b[39misMaskedArray(f_exp)\n\u001b[0;32m   7300\u001b[0m          \u001b[38;5;28;01melse\u001b[39;00m xp\u001b[38;5;241m.\u001b[39masarray(f_exp, dtype\u001b[38;5;241m=\u001b[39mdtype))\n\u001b[1;32m-> 7302\u001b[0m bshape \u001b[38;5;241m=\u001b[39m \u001b[43m_broadcast_shapes\u001b[49m\u001b[43m(\u001b[49m\u001b[43m(\u001b[49m\u001b[43mf_obs_float\u001b[49m\u001b[38;5;241;43m.\u001b[39;49m\u001b[43mshape\u001b[49m\u001b[43m,\u001b[49m\u001b[43m \u001b[49m\u001b[43mf_exp\u001b[49m\u001b[38;5;241;43m.\u001b[39;49m\u001b[43mshape\u001b[49m\u001b[43m)\u001b[49m\u001b[43m)\u001b[49m\n\u001b[0;32m   7303\u001b[0m f_obs_float \u001b[38;5;241m=\u001b[39m _m_broadcast_to(f_obs_float, bshape, xp\u001b[38;5;241m=\u001b[39mxp)\n\u001b[0;32m   7304\u001b[0m f_exp \u001b[38;5;241m=\u001b[39m _m_broadcast_to(f_exp, bshape, xp\u001b[38;5;241m=\u001b[39mxp)\n",
      "File \u001b[1;32mc:\\Users\\swamy\\AppData\\Local\\Programs\\Python\\Python313\\Lib\\site-packages\\scipy\\stats\\_axis_nan_policy.py:109\u001b[0m, in \u001b[0;36m_broadcast_shapes\u001b[1;34m(shapes, axis)\u001b[0m\n\u001b[0;32m    105\u001b[0m \u001b[38;5;66;03m# Among all arrays, there can only be one unique non-1 shape element.\u001b[39;00m\n\u001b[0;32m    106\u001b[0m \u001b[38;5;66;03m# Therefore, if any non-1 shape element does not match what we found\u001b[39;00m\n\u001b[0;32m    107\u001b[0m \u001b[38;5;66;03m# above, the arrays must not be broadcastable after all.\u001b[39;00m\n\u001b[0;32m    108\u001b[0m \u001b[38;5;28;01mif\u001b[39;00m np\u001b[38;5;241m.\u001b[39many(\u001b[38;5;241m~\u001b[39m((new_shapes \u001b[38;5;241m==\u001b[39m \u001b[38;5;241m1\u001b[39m) \u001b[38;5;241m|\u001b[39m (new_shapes \u001b[38;5;241m==\u001b[39m new_shape))):\n\u001b[1;32m--> 109\u001b[0m     \u001b[38;5;28;01mraise\u001b[39;00m \u001b[38;5;167;01mValueError\u001b[39;00m(\u001b[38;5;124m\"\u001b[39m\u001b[38;5;124mArray shapes are incompatible for broadcasting.\u001b[39m\u001b[38;5;124m\"\u001b[39m)\n\u001b[0;32m    111\u001b[0m \u001b[38;5;28;01mif\u001b[39;00m axis \u001b[38;5;129;01mis\u001b[39;00m \u001b[38;5;129;01mnot\u001b[39;00m \u001b[38;5;28;01mNone\u001b[39;00m:\n\u001b[0;32m    112\u001b[0m     \u001b[38;5;66;03m# Add back the shape elements that were ignored\u001b[39;00m\n\u001b[0;32m    113\u001b[0m     new_axis \u001b[38;5;241m=\u001b[39m axis \u001b[38;5;241m-\u001b[39m np\u001b[38;5;241m.\u001b[39marange(\u001b[38;5;28mlen\u001b[39m(axis))\n",
      "\u001b[1;31mValueError\u001b[0m: Array shapes are incompatible for broadcasting."
     ]
    }
   ],
   "source": [
    "import numpy as np\n",
    "from scipy import stats\n",
    "\n",
    "# Simulate random data from a normal distribution\n",
    "np.random.seed(0)\n",
    "sample_data = np.random.normal(loc=20, scale=5, size=100)\n",
    "\n",
    "# Define expected frequencies\n",
    "expected_frequencies = np.array([10, 20, 30, 40])\n",
    "\n",
    "# Perform Chi-square test\n",
    "chi_square_stat, p_value = stats.chisquare(f_obs=sample_data, f_exp=expected_frequencies)\n",
    "\n",
    "print(\"Chi-square statistic:\", chi_square_stat)\n",
    "print(\"P-value:\", p_value)\n",
    "\n",
    "if p_value < 0.05:\n",
    "    print(\"Reject the null hypothesis. The observed frequencies are significantly different from the expected frequencies.\")\n",
    "else:\n",
    "    print(\"Fail to reject the null hypothesis. The observed frequencies are not significantly different from the expected frequencies.\")"
   ]
  }
 ],
 "metadata": {
  "kernelspec": {
   "display_name": "Python 3",
   "language": "python",
   "name": "python3"
  },
  "language_info": {
   "codemirror_mode": {
    "name": "ipython",
    "version": 3
   },
   "file_extension": ".py",
   "mimetype": "text/x-python",
   "name": "python",
   "nbconvert_exporter": "python",
   "pygments_lexer": "ipython3",
   "version": "3.13.1"
  }
 },
 "nbformat": 4,
 "nbformat_minor": 2
}
