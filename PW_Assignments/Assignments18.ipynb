{
 "cells": [
  {
   "cell_type": "markdown",
   "id": "bf70f42d",
   "metadata": {},
   "source": [
    "# 1. What is ensemble learning in machine learning?\n",
    "\n"
   ]
  },
  {
   "cell_type": "markdown",
   "id": "ab1e23bc",
   "metadata": {},
   "source": [
    "Ensemble learning is a technique that combines multiple individual models (often referred to as \"learners\") to produce a more accurate and robust overall model. By aggregating predictions from multiple models, ensemble methods can improve predictive performance and reduce the risk of overfitting to the training data."
   ]
  },
  {
   "cell_type": "markdown",
   "id": "41247c8f",
   "metadata": {},
   "source": [
    "# 2. Explain the key idea behind ensemble techniques."
   ]
  },
  {
   "cell_type": "markdown",
   "id": "8848ecc0",
   "metadata": {},
   "source": [
    "The key idea behind ensemble techniques is that a group of weak learners can be combined to create a strong learner. The diversity among the models can help compensate for individual model errors, reducing variance and improving accuracy. Ensemble methods leverage the principle of 'wisdom of the crowd'—collective predictions yield better results than predictions from individual models."
   ]
  },
  {
   "cell_type": "markdown",
   "id": "8c86d7c3",
   "metadata": {},
   "source": [
    "# 3. What are the main types of ensemble techniques?"
   ]
  },
  {
   "cell_type": "markdown",
   "id": "881975fd",
   "metadata": {},
   "source": [
    "The main types of ensemble techniques are:\n",
    "\n",
    "Bagging (Bootstrap Aggregating): Reduces variance by training multiple models on different random subsets of the data and averaging their predictions (for regression) or taking a majority vote (for classification).\n",
    "\n",
    "Boosting: Sequentially applies weak learners, adjusting weights so that subsequent models focus more on the mistakes of earlier ones. It combines models to improve performance iteratively.\n",
    "\n",
    "Stacking: Combines multiple models via a meta-learner that learns how to best combine the predictions of the base models."
   ]
  },
  {
   "cell_type": "markdown",
   "id": "a7204999",
   "metadata": {},
   "source": [
    "# 4. What is the main advantage of ensemble techniques?"
   ]
  },
  {
   "cell_type": "markdown",
   "id": "cac6c4bd",
   "metadata": {},
   "source": [
    "The main advantage of ensemble techniques is improved prediction accuracy and robustness. By utilizing the strengths of multiple models, ensemble methods can achieve better performance than any individual model, reducing overfitting and increasing generalization to unseen data."
   ]
  },
  {
   "cell_type": "markdown",
   "id": "670df29d",
   "metadata": {},
   "source": [
    "# 5. What is the main challenge of ensemble methods?"
   ]
  },
  {
   "cell_type": "markdown",
   "id": "5ed53cf1",
   "metadata": {},
   "source": [
    "The main challenge of ensemble methods is increased computational complexity. Training multiple models can be resource-intensive in terms of time and memory usage. Ensemble methods can also lead to difficulties in model interpretability, as it may be harder to understand how different models contribute to the final prediction."
   ]
  },
  {
   "cell_type": "markdown",
   "id": "545e86fc",
   "metadata": {},
   "source": [
    "# 6. When should we avoid using ensemble methods?"
   ]
  },
  {
   "cell_type": "markdown",
   "id": "9183fd6e",
   "metadata": {},
   "source": [
    "We should avoid using ensemble methods when:\n",
    "\n",
    "The dataset is very small, as the complexity of ensembles may not be justified.\n",
    "\n",
    "Interpretability is crucial, and simpler, more interpretable models can provide sufficient accuracy.\n",
    "\n",
    "Computational resources are severely limited, as training multiple models can be demanding."
   ]
  },
  {
   "cell_type": "markdown",
   "id": "f79d1fad",
   "metadata": {},
   "source": [
    "# 7. Can we use Bagging for regression problems?"
   ]
  },
  {
   "cell_type": "markdown",
   "id": "1b222164",
   "metadata": {},
   "source": [
    "Yes, Bagging can be used for regression problems. In regression tasks, it works by averaging the predictions of multiple models trained on different bootstrapped samples of the dataset to reduce variance and improve accuracy."
   ]
  },
  {
   "cell_type": "markdown",
   "id": "eb61fd33",
   "metadata": {},
   "source": [
    "# 8. Explain the working principle of a Bagging Classifier."
   ]
  },
  {
   "cell_type": "markdown",
   "id": "5f8f3693",
   "metadata": {},
   "source": [
    "A Bagging Classifier works through the following steps:\n",
    "\n",
    "Multiple bootstrapped subsets of the training data are created (sampling with replacement).\n",
    "\n",
    "A base model (e.g., decision tree) is trained independently on each subset.\n",
    "\n",
    "For classification, predictions from each model are combined through majority voting to produce the final class label."
   ]
  },
  {
   "cell_type": "markdown",
   "id": "858abdda",
   "metadata": {},
   "source": [
    "# 9. How does a Bagging Regressor work?"
   ]
  },
  {
   "cell_type": "markdown",
   "id": "66d29589",
   "metadata": {},
   "source": [
    "A Bagging Regressor follows a similar process to the Bagging Classifier, but predictions from the individual regressors are averaged instead of voting. \n",
    "\n",
    "Here’s the general workflow:\n",
    "\n",
    "Create multiple bootstrapped subsets from the training data.\n",
    "\n",
    "Train a base regress model (e.g., decision tree) on each subset.\n",
    "\n",
    "Combine the predictions by averaging the results to obtain the final predicted value."
   ]
  },
  {
   "cell_type": "markdown",
   "id": "9ea3fc57",
   "metadata": {},
   "source": [
    "# 10. How does Bagging help in reducing overfitting?"
   ]
  },
  {
   "cell_type": "markdown",
   "id": "166fd625",
   "metadata": {},
   "source": [
    "Bagging helps reduce overfitting by training models on various subsets of the data. This leads to a decrease in variance since different training sets emphasize different aspects of the data. By averaging the predictions of several models, Bagging smooths out individual model errors, which helps in generalizing better to unseen data."
   ]
  },
  {
   "cell_type": "markdown",
   "id": "9bff27ab",
   "metadata": {},
   "source": [
    "# 11. What is the role of bootstrap sampling in Bagging?"
   ]
  },
  {
   "cell_type": "markdown",
   "id": "ebb11c3c",
   "metadata": {},
   "source": [
    "Bootstrap sampling is crucial in Bagging as it allows the creation of multiple diverse training subsets from the original dataset. Each subset is formed by sampling data points with replacement. This introduces variability among the models trained on these different subsets, which contributes to reducing overfitting and improving the overall ensemble performance."
   ]
  },
  {
   "cell_type": "markdown",
   "id": "9b7a3204",
   "metadata": {},
   "source": [
    "# 12. How do you evaluate a Bagging Classifier’s performance?"
   ]
  },
  {
   "cell_type": "markdown",
   "id": "b398151c",
   "metadata": {},
   "source": [
    "The performance of a Bagging Classifier can be evaluated using various metrics depending on the nature of the classification task. \n",
    "\n",
    "Common methods include:\n",
    "\n",
    "Accuracy: Proportion of correct predictions.\n",
    "\n",
    "Precision, Recall, F1-score: Suitable for imbalanced datasets.\n",
    "\n",
    "Confusion Matrix: Provides a detailed breakdown of true positives, false positives, etc.\n",
    "\n",
    "ROC-AUC Score: Measures the trade-off between true positive rate and false positive rate."
   ]
  },
  {
   "cell_type": "markdown",
   "id": "5ea6ccd0",
   "metadata": {},
   "source": [
    "# 13. What is a Random Forest Classifier?"
   ]
  },
  {
   "cell_type": "markdown",
   "id": "dbe4310e",
   "metadata": {},
   "source": [
    "A Random Forest Classifier is an ensemble learning method that constructs multiple decision trees during training and outputs the mode of their predictions for classification tasks. It combines the ideas of Bagging and random feature selection to ensure diverse trees and enhance predictive performance."
   ]
  },
  {
   "cell_type": "markdown",
   "id": "d38e05ca",
   "metadata": {},
   "source": [
    "# 14. Explain the concept of feature randomness in Random Forest."
   ]
  },
  {
   "cell_type": "markdown",
   "id": "e42f2e9d",
   "metadata": {},
   "source": [
    "Feature randomness in Random Forest refers to the practice of selecting a random subset of features to consider when splitting a node in a decision tree. \n",
    "\n",
    "This randomness ensures that the trees are diverse, reducing correlation between them and leading to better generalization and robustness in predictions."
   ]
  },
  {
   "cell_type": "markdown",
   "id": "940653ed",
   "metadata": {},
   "source": [
    "# 15. How can you measure the importance of features in a Random Forest model?"
   ]
  },
  {
   "cell_type": "markdown",
   "id": "94ddb8c1",
   "metadata": {},
   "source": [
    "Feature importance in a Random Forest model can be measured using:\n",
    "\n",
    "Mean Decrease Impurity (MDI): Sums up the decrease in node impurity (e.g., Gini impurity) caused by a feature across all trees.\n",
    "\n",
    "Mean Decrease Accuracy (MDA): Evaluates feature importance by measuring how much the accuracy decreases when the feature's values are permuted (i.e., shuffled)."
   ]
  },
  {
   "cell_type": "markdown",
   "id": "f584a2d1",
   "metadata": {},
   "source": [
    "# 16. What is OOB (Out-of-Bag) Score?"
   ]
  },
  {
   "cell_type": "markdown",
   "id": "a3b1df4d",
   "metadata": {},
   "source": [
    "The Out-of-Bag (OOB) Score is an internal validation method used in Random Forests.\n",
    "\n",
    " It calculates the performance of the model using data points that were not included in the bootstrap samples for a given tree. \n",
    "\n",
    "For each data point, its OOB prediction is made using trees that did not train on it. \n",
    "\n",
    "The average of these predictions gives an unbiased estimate of the model’s accuracy."
   ]
  },
  {
   "cell_type": "markdown",
   "id": "944f7e0c",
   "metadata": {},
   "source": [
    "# 17. Why is Random Forest better than a single Decision Tree?"
   ]
  },
  {
   "cell_type": "markdown",
   "id": "617ab744",
   "metadata": {},
   "source": [
    "Random Forest is generally better than a single Decision Tree because:\n",
    "\n",
    "It reduces overfitting by averaging predictions from multiple trees, which increases robustness.\n",
    "\n",
    "It handles larger datasets and more features effectively.\n",
    "\n",
    "It captures a broader range of data patterns due to the diversity among trees created by Bagging.\n",
    "\n",
    "It reduces variance while maintaining bias at a low level, leading to improved generalization."
   ]
  },
  {
   "cell_type": "markdown",
   "id": "88fe3b6d",
   "metadata": {},
   "source": [
    "# 18. What is the difference between multiple model training and single model training?"
   ]
  },
  {
   "cell_type": "markdown",
   "id": "97c9086e",
   "metadata": {},
   "source": [
    "The main difference lies in the approach to building models:\n",
    "\n",
    "Single Model Training: Involves training one model on the entire dataset, focusing on learning from that specific dataset to predict outcomes.\n",
    "\n",
    "Multiple Model Training: Involves training several models (e.g., in ensemble methods) either on different subsets of the data or with different modeling techniques, allowing for the blending of predictions to improve performance."
   ]
  },
  {
   "cell_type": "markdown",
   "id": "5801c1a1",
   "metadata": {},
   "source": [
    "# 19. What are some real-world applications of ensemble techniques?"
   ]
  },
  {
   "cell_type": "markdown",
   "id": "beaf608e",
   "metadata": {},
   "source": [
    "Real-world applications of ensemble techniques include:\n",
    "\n",
    "Finance: Credit scoring, fraud detection.\n",
    "\n",
    "Healthcare: Disease diagnosis prediction, patient outcome forecasting.\n",
    "\n",
    "Marketing: Customer segmentation, churn prediction.\n",
    "\n",
    "Image Recognition: Object detection, facial recognition.\n",
    "\n",
    "Natural Language Processing: Sentiment analysis, text classification.\n"
   ]
  },
  {
   "cell_type": "markdown",
   "id": "a34ee877",
   "metadata": {},
   "source": [
    "# 20. What is the difference between Bagging and Boosting?"
   ]
  },
  {
   "cell_type": "markdown",
   "id": "71318f4a",
   "metadata": {},
   "source": [
    "The differences between Bagging and Boosting are:\n",
    "\n",
    "Approach: Bagging trains multiple models in parallel using bootstrapped samples and combines them by averaging or voting. \n",
    "\n",
    "Boosting trains models sequentially, with each model focusing on the errors of its predecessor.\n",
    "\n",
    "Model Focus: Bagging reduces variance by averaging predictions, while Boosting reduces bias by learning iteratively from previous errors.\n",
    "\n",
    "Data Use: In Bagging, each model is trained independently on a random subset of data.\n",
    "\n",
    " In Boosting, each subsequent model adjusts to the mistakes of the previous models, often giving more weight to misclassified instances."
   ]
  },
  {
   "cell_type": "markdown",
   "id": "9a523611",
   "metadata": {},
   "source": [
    "# *********************** Practical's ***************************"
   ]
  },
  {
   "cell_type": "markdown",
   "id": "140c9d4a",
   "metadata": {},
   "source": [
    "# 1. Train a Bagging Classifier using Decision Trees on a sample dataset and print model accuracy."
   ]
  },
  {
   "cell_type": "code",
   "execution_count": 3,
   "id": "5befc20f",
   "metadata": {},
   "outputs": [
    {
     "name": "stdout",
     "output_type": "stream",
     "text": [
      "Bagging Classifier Accuracy: 1.00\n",
      "Classification Report:\n",
      "              precision    recall  f1-score   support\n",
      "\n",
      "           0       1.00      1.00      1.00        10\n",
      "           1       1.00      1.00      1.00         9\n",
      "           2       1.00      1.00      1.00        11\n",
      "\n",
      "    accuracy                           1.00        30\n",
      "   macro avg       1.00      1.00      1.00        30\n",
      "weighted avg       1.00      1.00      1.00        30\n",
      "\n",
      "Confusion Matrix:\n",
      "[[10  0  0]\n",
      " [ 0  9  0]\n",
      " [ 0  0 11]]\n"
     ]
    }
   ],
   "source": [
    "from sklearn.datasets import load_iris\n",
    "from sklearn.tree import DecisionTreeClassifier\n",
    "from sklearn.ensemble import BaggingClassifier\n",
    "from sklearn.metrics import accuracy_score, classification_report, confusion_matrix\n",
    "from sklearn.model_selection import train_test_split\n",
    "from sklearn.preprocessing import StandardScaler\n",
    "\n",
    "# Load dataset\n",
    "iris = load_iris()\n",
    "X, y = iris.data, iris.target\n",
    "\n",
    "# Split dataset\n",
    "X_train, X_test, y_train, y_test = train_test_split(X, y, test_size=0.2, random_state=42)\n",
    "\n",
    "# Scale data\n",
    "scaler = StandardScaler()\n",
    "X_train = scaler.fit_transform(X_train)\n",
    "X_test = scaler.transform(X_test)\n",
    "\n",
    "# Train Bagging Classifier\n",
    "bagging_clf = BaggingClassifier(estimator=DecisionTreeClassifier(), n_estimators=10)\n",
    "bagging_clf.fit(X_train, y_train)\n",
    "\n",
    "# Evaluate model\n",
    "y_pred = bagging_clf.predict(X_test)\n",
    "accuracy = accuracy_score(y_test, y_pred)\n",
    "print(f\"Bagging Classifier Accuracy: {accuracy:.2f}\")\n",
    "print(\"Classification Report:\")\n",
    "print(classification_report(y_test, y_pred))\n",
    "print(\"Confusion Matrix:\")\n",
    "print(confusion_matrix(y_test, y_pred))"
   ]
  },
  {
   "cell_type": "markdown",
   "id": "92bf7db9",
   "metadata": {},
   "source": [
    "# 2. Train a Bagging Regressor using Decision Trees and evaluate using Mean Squared Error (MSE)."
   ]
  },
  {
   "cell_type": "code",
   "execution_count": 5,
   "id": "6a7eb49a",
   "metadata": {},
   "outputs": [
    {
     "name": "stdout",
     "output_type": "stream",
     "text": [
      "Bagging Regressor MSE: 38.29\n",
      "Bagging Regressor MAE: 3.88\n",
      "Bagging Regressor R2: 1.00\n"
     ]
    }
   ],
   "source": [
    "from sklearn.ensemble import BaggingRegressor\n",
    "from sklearn.tree import DecisionTreeRegressor\n",
    "from sklearn.metrics import mean_squared_error, mean_absolute_error, r2_score\n",
    "from sklearn.datasets import make_regression\n",
    "from sklearn.model_selection import train_test_split\n",
    "\n",
    "# Create a regression dataset\n",
    "X, y = make_regression(n_samples=100, n_features=1, noise=0.1)\n",
    "\n",
    "# Split dataset\n",
    "X_train, X_test, y_train, y_test = train_test_split(X, y, test_size=0.2, random_state=42)\n",
    "\n",
    "# Train Bagging Regressor\n",
    "bagging_reg = BaggingRegressor(estimator=DecisionTreeRegressor(), n_estimators=10)\n",
    "bagging_reg.fit(X_train, y_train)\n",
    "\n",
    "# Evaluate model\n",
    "y_pred = bagging_reg.predict(X_test)\n",
    "mse = mean_squared_error(y_test, y_pred)\n",
    "mae = mean_absolute_error(y_test, y_pred)\n",
    "r2 = r2_score(y_test, y_pred)\n",
    "print(f\"Bagging Regressor MSE: {mse:.2f}\")\n",
    "print(f\"Bagging Regressor MAE: {mae:.2f}\")\n",
    "print(f\"Bagging Regressor R2: {r2:.2f}\")"
   ]
  },
  {
   "cell_type": "markdown",
   "id": "26be2a4c",
   "metadata": {},
   "source": [
    "# 3. Train a Bagging Classifier using SVM as a base estimator and print accuracy."
   ]
  },
  {
   "cell_type": "markdown",
   "id": "9ba9ca2c",
   "metadata": {},
   "source": [
    "# 4. Train a Bagging Classifier using Logistic Regression as a base estimator and print AUC score."
   ]
  },
  {
   "cell_type": "code",
   "execution_count": 11,
   "id": "f66d5a5b",
   "metadata": {},
   "outputs": [
    {
     "name": "stdout",
     "output_type": "stream",
     "text": [
      "Bagging Classifier AUC: 1.00\n"
     ]
    }
   ],
   "source": [
    "from sklearn.ensemble import BaggingClassifier\n",
    "from sklearn.linear_model import LogisticRegression\n",
    "from sklearn.datasets import load_breast_cancer\n",
    "from sklearn.model_selection import train_test_split\n",
    "from sklearn.metrics import roc_auc_score\n",
    "from sklearn.preprocessing import StandardScaler\n",
    "\n",
    "# Load breast cancer dataset\n",
    "cancer = load_breast_cancer()\n",
    "X, y = cancer.data, cancer.target\n",
    "\n",
    "# Split dataset\n",
    "X_train, X_test, y_train, y_test = train_test_split(X, y, test_size=0.2, random_state=42)\n",
    "\n",
    "# Scale data\n",
    "scaler = StandardScaler()\n",
    "X_train = scaler.fit_transform(X_train)\n",
    "X_test = scaler.transform(X_test)\n",
    "\n",
    "# Train Bagging Classifier\n",
    "bagging_clf = BaggingClassifier(estimator=LogisticRegression(max_iter=10000), n_estimators=10)\n",
    "bagging_clf.fit(X_train, y_train)\n",
    "\n",
    "# Evaluate model\n",
    "y_pred_proba = bagging_clf.predict_proba(X_test)[:, 1]\n",
    "auc = roc_auc_score(y_test, y_pred_proba)\n",
    "\n",
    "print(f\"Bagging Classifier AUC: {auc:.2f}\")"
   ]
  },
  {
   "cell_type": "markdown",
   "id": "fcf22ff5",
   "metadata": {},
   "source": [
    "# 5. Train an ensemble model using both Bagging and Random Forest and compare accuracy."
   ]
  },
  {
   "cell_type": "code",
   "execution_count": 12,
   "id": "16909731",
   "metadata": {},
   "outputs": [
    {
     "name": "stdout",
     "output_type": "stream",
     "text": [
      "Bagging Classifier Accuracy: 0.98\n",
      "Random Forest Classifier Accuracy: 0.96\n"
     ]
    }
   ],
   "source": [
    "from sklearn.ensemble import RandomForestClassifier\n",
    "\n",
    "# Train Random Forest\n",
    "rf_clf = RandomForestClassifier(n_estimators=10)\n",
    "rf_clf.fit(X_train, y_train)\n",
    "rf_pred = rf_clf.predict(X_test)\n",
    "rf_accuracy = accuracy_score(y_test, rf_pred)\n",
    "\n",
    "# Comparison with Bagging Classifier\n",
    "y_pred = bagging_clf.predict(X_test)\n",
    "bagging_accuracy = accuracy_score(y_test, y_pred)\n",
    "\n",
    "print(f\"Bagging Classifier Accuracy: {bagging_accuracy:.2f}\")\n",
    "print(f\"Random Forest Classifier Accuracy: {rf_accuracy:.2f}\")"
   ]
  },
  {
   "cell_type": "markdown",
   "id": "7cdfd83f",
   "metadata": {},
   "source": [
    "# 6. Train a Random Forest Classifier on the Breast Cancer dataset and print feature importance scores."
   ]
  },
  {
   "cell_type": "code",
   "execution_count": 14,
   "id": "d984a94e",
   "metadata": {},
   "outputs": [
    {
     "name": "stdout",
     "output_type": "stream",
     "text": [
      "Feature Importance Scores:\n",
      "Feature mean radius: 0.0387\n",
      "Feature mean texture: 0.0160\n",
      "Feature mean perimeter: 0.0433\n",
      "Feature mean area: 0.0668\n",
      "Feature mean smoothness: 0.0076\n",
      "Feature mean compactness: 0.0109\n",
      "Feature mean concavity: 0.0743\n",
      "Feature mean concave points: 0.1289\n",
      "Feature mean symmetry: 0.0047\n",
      "Feature mean fractal dimension: 0.0050\n",
      "Feature radius error: 0.0079\n",
      "Feature texture error: 0.0055\n",
      "Feature perimeter error: 0.0121\n",
      "Feature area error: 0.0269\n",
      "Feature smoothness error: 0.0033\n",
      "Feature compactness error: 0.0036\n",
      "Feature concavity error: 0.0085\n",
      "Feature concave points error: 0.0035\n",
      "Feature symmetry error: 0.0049\n",
      "Feature fractal dimension error: 0.0051\n",
      "Feature worst radius: 0.1133\n",
      "Feature worst texture: 0.0207\n",
      "Feature worst perimeter: 0.0923\n",
      "Feature worst area: 0.0754\n",
      "Feature worst smoothness: 0.0101\n",
      "Feature worst compactness: 0.0133\n",
      "Feature worst concavity: 0.0434\n",
      "Feature worst concave points: 0.1368\n",
      "Feature worst symmetry: 0.0123\n",
      "Feature worst fractal dimension: 0.0048\n"
     ]
    }
   ],
   "source": [
    "from sklearn.datasets import load_breast_cancer\n",
    "from sklearn.ensemble import RandomForestClassifier\n",
    "\n",
    "# Load Breast Cancer dataset\n",
    "cancer = load_breast_cancer()\n",
    "X, y = cancer.data, cancer.target\n",
    "\n",
    "# Split dataset\n",
    "X_train, X_test, y_train, y_test = train_test_split(X, y, test_size=0.2, random_state=42)\n",
    "\n",
    "# Train Random Forest Classifier\n",
    "rf_cancer = RandomForestClassifier(n_estimators=100)\n",
    "rf_cancer.fit(X_train, y_train)\n",
    "\n",
    "# Feature importance\n",
    "importance_scores = rf_cancer.feature_importances_\n",
    "print(\"Feature Importance Scores:\")\n",
    "for i, score in enumerate(importance_scores):\n",
    "    print(f\"Feature {cancer.feature_names[i]}: {score:.4f}\")"
   ]
  },
  {
   "cell_type": "markdown",
   "id": "9b239a77",
   "metadata": {},
   "source": [
    "# 7. Train a Random Forest Regressor and analyze feature importance scores."
   ]
  },
  {
   "cell_type": "code",
   "execution_count": 15,
   "id": "f4cebc47",
   "metadata": {},
   "outputs": [
    {
     "name": "stdout",
     "output_type": "stream",
     "text": [
      "Feature Importance Scores for Random Forest Regressor:\n",
      "Feature 0: 0.3531\n",
      "Feature 1: 0.0449\n",
      "Feature 2: 0.0181\n",
      "Feature 3: 0.0434\n",
      "Feature 4: 0.0941\n",
      "Feature 5: 0.0329\n",
      "Feature 6: 0.0308\n",
      "Feature 7: 0.0971\n",
      "Feature 8: 0.1464\n",
      "Feature 9: 0.1392\n"
     ]
    }
   ],
   "source": [
    "from sklearn.ensemble import RandomForestRegressor\n",
    "from sklearn.datasets import make_regression\n",
    "\n",
    "# Create a regression dataset\n",
    "X, y = make_regression(n_samples=100, n_features=10, noise=0.1)\n",
    "\n",
    "# Split dataset\n",
    "X_train, X_test, y_train, y_test = train_test_split(X, y, test_size=0.2, random_state=42)\n",
    "\n",
    "# Train Random Forest Regressor\n",
    "rf_reg = RandomForestRegressor(n_estimators=100)\n",
    "rf_reg.fit(X_train, y_train)\n",
    "\n",
    "# Feature importance\n",
    "importance_scores = rf_reg.feature_importances_\n",
    "print(\"Feature Importance Scores for Random Forest Regressor:\")\n",
    "for i, score in enumerate(importance_scores):\n",
    "    print(f\"Feature {i}: {score:.4f}\")"
   ]
  },
  {
   "cell_type": "markdown",
   "id": "2a41e63b",
   "metadata": {},
   "source": [
    "# 8. Train a Random Forest Regressor and compare its performance with a single Decision Tree."
   ]
  },
  {
   "cell_type": "code",
   "execution_count": 16,
   "id": "a337489b",
   "metadata": {},
   "outputs": [
    {
     "name": "stdout",
     "output_type": "stream",
     "text": [
      "Random Forest Regressor MSE: 16609.60\n",
      "Decision Tree Regressor MSE: 24055.28\n"
     ]
    }
   ],
   "source": [
    "from sklearn.tree import DecisionTreeRegressor\n",
    "from sklearn.metrics import mean_squared_error\n",
    "\n",
    "# Train Decision Tree Regressor\n",
    "dt_reg = DecisionTreeRegressor()\n",
    "dt_reg.fit(X_train, y_train)\n",
    "\n",
    "# Evaluate Random Forest Regressor\n",
    "rf_pred = rf_reg.predict(X_test)\n",
    "rf_mse = mean_squared_error(y_test, rf_pred)\n",
    "\n",
    "# Evaluate Decision Tree Regressor\n",
    "dt_pred = dt_reg.predict(X_test)\n",
    "dt_mse = mean_squared_error(y_test, dt_pred)\n",
    "\n",
    "print(f\"Random Forest Regressor MSE: {rf_mse:.2f}\")\n",
    "print(f\"Decision Tree Regressor MSE: {dt_mse:.2f}\")"
   ]
  },
  {
   "cell_type": "markdown",
   "id": "15b69d29",
   "metadata": {},
   "source": [
    "# 9. Train a Random Forest Classifier with different numbers of trees and compare accuracy."
   ]
  },
  {
   "cell_type": "code",
   "execution_count": 18,
   "id": "3843d300",
   "metadata": {},
   "outputs": [
    {
     "name": "stdout",
     "output_type": "stream",
     "text": [
      "Random Forest Classifier Accuracy with 10 trees: 0.95\n",
      "Random Forest Classifier Accuracy with 50 trees: 0.96\n",
      "Random Forest Classifier Accuracy with 100 trees: 0.96\n"
     ]
    }
   ],
   "source": [
    "from sklearn.ensemble import RandomForestClassifier\n",
    "from sklearn.metrics import accuracy_score\n",
    "from sklearn.datasets import load_breast_cancer\n",
    "from sklearn.model_selection import train_test_split\n",
    "\n",
    "# Load breast cancer dataset\n",
    "cancer = load_breast_cancer()\n",
    "X, y = cancer.data, cancer.target\n",
    "\n",
    "# Split dataset\n",
    "X_train, X_test, y_train, y_test = train_test_split(X, y, test_size=0.2, random_state=42)\n",
    "\n",
    "# Train Random Forest Classifier with different n_estimators\n",
    "tree_counts = [10, 50, 100]\n",
    "for n in tree_counts:\n",
    "    rf_clf = RandomForestClassifier(n_estimators=n)\n",
    "    rf_clf.fit(X_train, y_train)\n",
    "    y_pred = rf_clf.predict(X_test)\n",
    "    accuracy = accuracy_score(y_test, y_pred)\n",
    "    print(f\"Random Forest Classifier Accuracy with {n} trees: {accuracy:.2f}\")"
   ]
  },
  {
   "cell_type": "markdown",
   "id": "a9021578",
   "metadata": {},
   "source": [
    "# 10. Compute the Out-of-Bag (OOB) Score for a Random Forest Classifier."
   ]
  },
  {
   "cell_type": "code",
   "execution_count": 19,
   "id": "031985f3",
   "metadata": {},
   "outputs": [
    {
     "name": "stdout",
     "output_type": "stream",
     "text": [
      "OOB Score: 0.96\n"
     ]
    }
   ],
   "source": [
    "# Train Random Forest Classifier with OOB\n",
    "rf_oob_clf = RandomForestClassifier(n_estimators=100, oob_score=True)\n",
    "rf_oob_clf.fit(X_train, y_train)\n",
    "\n",
    "# OOB score\n",
    "print(f\"OOB Score: {rf_oob_clf.oob_score_:.2f}\")"
   ]
  },
  {
   "cell_type": "markdown",
   "id": "6de2557c",
   "metadata": {},
   "source": [
    "# 11. Train a Bagging Classifier and compare its performance with a single Decision Tree Classifier."
   ]
  },
  {
   "cell_type": "code",
   "execution_count": 21,
   "id": "35bebac0",
   "metadata": {},
   "outputs": [
    {
     "name": "stdout",
     "output_type": "stream",
     "text": [
      "Bagging Classifier Accuracy: 0.96\n",
      "Decision Tree Classifier Accuracy: 0.94\n"
     ]
    }
   ],
   "source": [
    "from sklearn.ensemble import BaggingClassifier\n",
    "from sklearn.tree import DecisionTreeClassifier\n",
    "from sklearn.metrics import accuracy_score\n",
    "from sklearn.datasets import load_breast_cancer\n",
    "from sklearn.model_selection import train_test_split\n",
    "\n",
    "# Load breast cancer dataset\n",
    "cancer = load_breast_cancer()\n",
    "X, y = cancer.data, cancer.target\n",
    "\n",
    "# Split dataset\n",
    "X_train, X_test, y_train, y_test = train_test_split(X, y, test_size=0.2, random_state=42)\n",
    "\n",
    "# Train Bagging Classifier\n",
    "bagging_clf = BaggingClassifier(estimator=DecisionTreeClassifier(), n_estimators=10)\n",
    "bagging_clf.fit(X_train, y_train)\n",
    "\n",
    "# Decision Tree Classifier\n",
    "dt_clf = DecisionTreeClassifier()\n",
    "dt_clf.fit(X_train, y_train)\n",
    "\n",
    "# Evaluate performance\n",
    "bagging_pred = bagging_clf.predict(X_test)\n",
    "dt_pred = dt_clf.predict(X_test)\n",
    "\n",
    "bagging_accuracy = accuracy_score(y_test, bagging_pred)\n",
    "dt_accuracy = accuracy_score(y_test, dt_pred)\n",
    "\n",
    "print(f\"Bagging Classifier Accuracy: {bagging_accuracy:.2f}\")\n",
    "print(f\"Decision Tree Classifier Accuracy: {dt_accuracy:.2f}\")"
   ]
  },
  {
   "cell_type": "markdown",
   "id": "c77dbf7f",
   "metadata": {},
   "source": [
    "# 12. Train a Bagging Classifier and evaluate performance using Precision, Recall, and F1-score."
   ]
  },
  {
   "cell_type": "code",
   "execution_count": 22,
   "id": "9140cb55",
   "metadata": {},
   "outputs": [
    {
     "name": "stdout",
     "output_type": "stream",
     "text": [
      "Precision: 0.96, Recall: 0.96, F1 Score: 0.96\n"
     ]
    }
   ],
   "source": [
    "from sklearn.metrics import precision_score, recall_score, f1_score\n",
    "\n",
    "# Evaluate performance with metrics\n",
    "precision = precision_score(y_test, bagging_pred, average='weighted')\n",
    "recall = recall_score(y_test, bagging_pred, average='weighted')\n",
    "f1 = f1_score(y_test, bagging_pred, average='weighted')\n",
    "\n",
    "print(f\"Precision: {precision:.2f}, Recall: {recall:.2f}, F1 Score: {f1:.2f}\")"
   ]
  },
  {
   "cell_type": "markdown",
   "id": "8080de59",
   "metadata": {},
   "source": [
    "# 13. Train a Bagging Classifier and evaluate its performance using cross-validation."
   ]
  },
  {
   "cell_type": "code",
   "execution_count": 23,
   "id": "4d89302c",
   "metadata": {},
   "outputs": [
    {
     "name": "stdout",
     "output_type": "stream",
     "text": [
      "Cross-validation scores: [0.92982456 0.94736842 0.98245614 0.94736842 0.95575221]\n",
      "Mean CV score: 0.95\n"
     ]
    }
   ],
   "source": [
    "from sklearn.model_selection import cross_val_score\n",
    "\n",
    "# Cross-validation\n",
    "cv_scores = cross_val_score(bagging_clf, X, y, cv=5)\n",
    "print(f\"Cross-validation scores: {cv_scores}\")\n",
    "print(f\"Mean CV score: {cv_scores.mean():.2f}\")"
   ]
  },
  {
   "cell_type": "markdown",
   "id": "18ebaa32",
   "metadata": {},
   "source": [
    "# 14. Train a Bagging Regressor with different numbers of base estimators and compare performance."
   ]
  },
  {
   "cell_type": "code",
   "execution_count": 25,
   "id": "97ef92fd",
   "metadata": {},
   "outputs": [
    {
     "name": "stdout",
     "output_type": "stream",
     "text": [
      "Bagging Regressor MSE with 10 base estimators: 4.57\n",
      "Bagging Regressor MSE with 50 base estimators: 3.90\n",
      "Bagging Regressor MSE with 100 base estimators: 3.66\n"
     ]
    }
   ],
   "source": [
    "from sklearn.ensemble import BaggingRegressor\n",
    "from sklearn.tree import DecisionTreeRegressor\n",
    "from sklearn.metrics import mean_squared_error\n",
    "from sklearn.datasets import make_regression\n",
    "from sklearn.model_selection import train_test_split\n",
    "\n",
    "# Create a regression dataset\n",
    "X, y = make_regression(n_samples=100, n_features=1, noise=0.1)\n",
    "\n",
    "# Split dataset\n",
    "X_train, X_test, y_train, y_test = train_test_split(X, y, test_size=0.2, random_state=42)\n",
    "\n",
    "# Evaluating Bagging Regressor with different n_estimators\n",
    "for n in [10, 50, 100]:\n",
    "    bagging_reg = BaggingRegressor(estimator=DecisionTreeRegressor(), n_estimators=n)\n",
    "    bagging_reg.fit(X_train, y_train)\n",
    "    y_pred = bagging_reg.predict(X_test)\n",
    "    mse = mean_squared_error(y_test, y_pred)\n",
    "    print(f\"Bagging Regressor MSE with {n} base estimators: {mse:.2f}\")"
   ]
  },
  {
   "cell_type": "markdown",
   "id": "ec269b2b",
   "metadata": {},
   "source": [
    "# 15. Train a Bagging Regressor using different base estimators (Decision Tree and KNeighbors) and compare performance."
   ]
  },
  {
   "cell_type": "code",
   "execution_count": 27,
   "id": "ea4931bb",
   "metadata": {},
   "outputs": [
    {
     "name": "stdout",
     "output_type": "stream",
     "text": [
      "MSE for Bagging Regressor with Decision Tree: 7.74\n",
      "MSE for Bagging Regressor with KNeighbors: 104.24\n"
     ]
    }
   ],
   "source": [
    "from sklearn.ensemble import BaggingRegressor\n",
    "from sklearn.tree import DecisionTreeRegressor\n",
    "from sklearn.neighbors import KNeighborsRegressor\n",
    "from sklearn.metrics import mean_squared_error\n",
    "from sklearn.datasets import make_regression\n",
    "from sklearn.model_selection import train_test_split\n",
    "\n",
    "# Create a regression dataset\n",
    "X, y = make_regression(n_samples=100, n_features=1, noise=0.1)\n",
    "\n",
    "# Split dataset\n",
    "X_train, X_test, y_train, y_test = train_test_split(X, y, test_size=0.2, random_state=42)\n",
    "\n",
    "# Decision Tree Bagging Regressor\n",
    "bagging_dt = BaggingRegressor(estimator=DecisionTreeRegressor(), n_estimators=10)\n",
    "bagging_dt.fit(X_train, y_train)\n",
    "y_pred_dt = bagging_dt.predict(X_test)\n",
    "mse_dt = mean_squared_error(y_test, y_pred_dt)\n",
    "\n",
    "# KNeighbors Bagging Regressor\n",
    "bagging_knn = BaggingRegressor(estimator=KNeighborsRegressor(), n_estimators=10)\n",
    "bagging_knn.fit(X_train, y_train)\n",
    "y_pred_knn = bagging_knn.predict(X_test)\n",
    "mse_knn = mean_squared_error(y_test, y_pred_knn)\n",
    "\n",
    "print(f\"MSE for Bagging Regressor with Decision Tree: {mse_dt:.2f}\")\n",
    "print(f\"MSE for Bagging Regressor with KNeighbors: {mse_knn:.2f}\")"
   ]
  },
  {
   "cell_type": "markdown",
   "id": "385accc9",
   "metadata": {},
   "source": [
    "# 16. Train a Bagging Regressor with different levels of bootstrap samples and compare performance."
   ]
  },
  {
   "cell_type": "code",
   "execution_count": 29,
   "id": "0ba42ea9",
   "metadata": {},
   "outputs": [
    {
     "name": "stdout",
     "output_type": "stream",
     "text": [
      "MSE for Bagging Regressor with bootstrap=True: 145.59\n",
      "MSE for Bagging Regressor with bootstrap=False: 131.22\n"
     ]
    }
   ],
   "source": [
    "from sklearn.ensemble import BaggingRegressor\n",
    "from sklearn.tree import DecisionTreeRegressor\n",
    "from sklearn.metrics import mean_squared_error\n",
    "from sklearn.datasets import make_regression\n",
    "from sklearn.model_selection import train_test_split\n",
    "\n",
    "# Create a regression dataset\n",
    "X, y = make_regression(n_samples=100, n_features=1, noise=0.1)\n",
    "\n",
    "# Split dataset\n",
    "X_train, X_test, y_train, y_test = train_test_split(X, y, test_size=0.2, random_state=42)\n",
    "\n",
    "# Trying different bootstrap settings: True and False\n",
    "for bootstrap in [True, False]:\n",
    "    bagging_reg = BaggingRegressor(estimator=DecisionTreeRegressor(), n_estimators=10, bootstrap=bootstrap)\n",
    "    bagging_reg.fit(X_train, y_train)\n",
    "    y_pred = bagging_reg.predict(X_test)\n",
    "    mse = mean_squared_error(y_test, y_pred)\n",
    "    print(f\"MSE for Bagging Regressor with bootstrap={bootstrap}: {mse:.2f}\")"
   ]
  },
  {
   "cell_type": "markdown",
   "id": "c5b46f43",
   "metadata": {},
   "source": [
    "# 17. Train a Random Forest Classifier and visualize the confusion matrix."
   ]
  },
  {
   "cell_type": "code",
   "execution_count": 31,
   "id": "b3e7d2c9",
   "metadata": {},
   "outputs": [
    {
     "data": {
      "image/png": "[encoded data removed]",
      "text/plain": [
       "<Figure size 640x480 with 2 Axes>"
      ]
     },
     "metadata": {},
     "output_type": "display_data"
    }
   ],
   "source": [
    "import matplotlib.pyplot as plt\n",
    "from sklearn.metrics import confusion_matrix, ConfusionMatrixDisplay\n",
    "from sklearn.ensemble import RandomForestClassifier\n",
    "from sklearn.datasets import load_breast_cancer\n",
    "from sklearn.model_selection import train_test_split\n",
    "\n",
    "# Load breast cancer dataset\n",
    "cancer = load_breast_cancer()\n",
    "X, y = cancer.data, cancer.target\n",
    "\n",
    "# Split dataset\n",
    "X_train, X_test, y_train, y_test = train_test_split(X, y, test_size=0.2, random_state=42)\n",
    "\n",
    "# Train a random forest classifier\n",
    "rf_cancer = RandomForestClassifier(n_estimators=100)\n",
    "rf_cancer.fit(X_train, y_train)\n",
    "\n",
    "# Confusion matrix\n",
    "cm = confusion_matrix(y_test, rf_cancer.predict(X_test))\n",
    "cmd = ConfusionMatrixDisplay(cm, display_labels=cancer.target_names)\n",
    "cmd.plot()\n",
    "plt.show()"
   ]
  },
  {
   "cell_type": "markdown",
   "id": "ad8b3d8d",
   "metadata": {},
   "source": [
    "# 18. Train a Random Forest Classifier and print the top 5 most important features."
   ]
  },
  {
   "cell_type": "code",
   "execution_count": 33,
   "id": "5daa48da",
   "metadata": {},
   "outputs": [
    {
     "name": "stdout",
     "output_type": "stream",
     "text": [
      "Top 5 Feature Importances:\n",
      "Feature: worst area, Importance: 0.0814\n",
      "Feature: worst perimeter, Importance: 0.1121\n",
      "Feature: worst concave points, Importance: 0.1281\n",
      "Feature: worst radius, Importance: 0.1344\n",
      "Feature: mean concave points, Importance: 0.1418\n"
     ]
    }
   ],
   "source": [
    "import pandas as pd\n",
    "import numpy as np\n",
    "from sklearn.ensemble import RandomForestClassifier\n",
    "from sklearn.datasets import load_breast_cancer\n",
    "from sklearn.model_selection import train_test_split\n",
    "\n",
    "# Load breast cancer dataset\n",
    "cancer = load_breast_cancer()\n",
    "X, y = cancer.data, cancer.target\n",
    "\n",
    "# Split dataset\n",
    "X_train, X_test, y_train, y_test = train_test_split(X, y, test_size=0.2, random_state=42)\n",
    "\n",
    "# Train a random forest classifier\n",
    "rf_cancer = RandomForestClassifier(n_estimators=100)\n",
    "rf_cancer.fit(X_train, y_train)\n",
    "\n",
    "# Get feature importances\n",
    "importances = rf_cancer.feature_importances_\n",
    "indices = np.argsort(importances)[-5:]  # Get top 5\n",
    "\n",
    "print(\"Top 5 Feature Importances:\")\n",
    "for i in indices:\n",
    "    print(f\"Feature: {cancer.feature_names[i]}, Importance: {importances[i]:.4f}\")"
   ]
  },
  {
   "cell_type": "markdown",
   "id": "aa462594",
   "metadata": {},
   "source": [
    "# 19. Train a Random Forest Classifier and tune hyperparameters using GridSearchCV."
   ]
  },
  {
   "cell_type": "code",
   "execution_count": 34,
   "id": "152e24d4",
   "metadata": {},
   "outputs": [
    {
     "name": "stdout",
     "output_type": "stream",
     "text": [
      "Best Hyperparameters: {'max_depth': 10, 'n_estimators': 50}, Best Accuracy: 0.96\n"
     ]
    }
   ],
   "source": [
    "from sklearn.model_selection import GridSearchCV\n",
    "from sklearn.ensemble import RandomForestClassifier\n",
    "from sklearn.metrics import accuracy_score\n",
    "from sklearn.datasets import load_breast_cancer\n",
    "from sklearn.model_selection import train_test_split\n",
    "\n",
    "# Load breast cancer dataset\n",
    "cancer = load_breast_cancer()\n",
    "X, y = cancer.data, cancer.target\n",
    "\n",
    "# Split dataset\n",
    "X_train, X_test, y_train, y_test = train_test_split(X, y, test_size=0.2, random_state=42)\n",
    "\n",
    "# Hyperparameter tuning\n",
    "param_grid = {\n",
    "    'n_estimators': [50, 100, 200],\n",
    "    'max_depth': [None, 10, 20],\n",
    "}\n",
    "grid_search = GridSearchCV(RandomForestClassifier(), param_grid, cv=5)\n",
    "grid_search.fit(X_train, y_train)\n",
    "\n",
    "best_rf = grid_search.best_estimator_\n",
    "best_accuracy = accuracy_score(y_test, best_rf.predict(X_test))\n",
    "print(f\"Best Hyperparameters: {grid_search.best_params_}, Best Accuracy: {best_accuracy:.2f}\")"
   ]
  },
  {
   "cell_type": "markdown",
   "id": "2172adea",
   "metadata": {},
   "source": [
    "# 20. Train a Random Forest Classifier and analyze misclassified samples."
   ]
  },
  {
   "cell_type": "code",
   "execution_count": 35,
   "id": "4760108b",
   "metadata": {},
   "outputs": [
    {
     "name": "stdout",
     "output_type": "stream",
     "text": [
      "Misclassified Samples:\n",
      "Sample index: 8, True label: 1, Predicted label: 0\n",
      "Sample index: 20, True label: 0, Predicted label: 1\n",
      "Sample index: 77, True label: 0, Predicted label: 1\n",
      "Sample index: 82, True label: 0, Predicted label: 1\n",
      "Sample index: 108, True label: 1, Predicted label: 0\n"
     ]
    }
   ],
   "source": [
    "import numpy as np\n",
    "from sklearn.ensemble import RandomForestClassifier\n",
    "from sklearn.datasets import load_breast_cancer\n",
    "from sklearn.model_selection import train_test_split\n",
    "\n",
    "# Load breast cancer dataset\n",
    "cancer = load_breast_cancer()\n",
    "X, y = cancer.data, cancer.target\n",
    "\n",
    "# Split dataset\n",
    "X_train, X_test, y_train, y_test = train_test_split(X, y, test_size=0.2, random_state=42)\n",
    "\n",
    "# Train a random forest classifier\n",
    "rf_cancer = RandomForestClassifier(n_estimators=100)\n",
    "rf_cancer.fit(X_train, y_train)\n",
    "\n",
    "# Find misclassified samples\n",
    "misclassified_indices = np.where(y_test != rf_cancer.predict(X_test))[0]\n",
    "print(\"Misclassified Samples:\")\n",
    "for i in misclassified_indices:\n",
    "    print(f\"Sample index: {i}, True label: {y_test[i]}, Predicted label: {rf_cancer.predict(X_test)[i]}\")"
   ]
  },
  {
   "cell_type": "markdown",
   "id": "e98c129e",
   "metadata": {},
   "source": [
    "# 21. Train a Random Forest Classifier and analyze the effect of max_depth on accuracy."
   ]
  },
  {
   "cell_type": "code",
   "execution_count": 36,
   "id": "5e91bf46",
   "metadata": {},
   "outputs": [
    {
     "name": "stdout",
     "output_type": "stream",
     "text": [
      "Accuracy with max_depth=None: 0.96\n",
      "Accuracy with max_depth=5: 0.96\n",
      "Accuracy with max_depth=10: 0.96\n",
      "Accuracy with max_depth=15: 0.96\n",
      "Accuracy with max_depth=20: 0.96\n"
     ]
    }
   ],
   "source": [
    "max_depths = [None, 5, 10, 15, 20]\n",
    "for depth in max_depths:\n",
    "    rf_depth = RandomForestClassifier(max_depth=depth, n_estimators=100)\n",
    "    rf_depth.fit(X_train, y_train)\n",
    "    accuracy = accuracy_score(y_test, rf_depth.predict(X_test))\n",
    "    print(f\"Accuracy with max_depth={depth}: {accuracy:.2f}\")"
   ]
  },
  {
   "cell_type": "markdown",
   "id": "953ab7a4",
   "metadata": {},
   "source": [
    "# 22. Train a Random Forest Classifier and evaluate its performance using ROC-AUC Score."
   ]
  },
  {
   "cell_type": "code",
   "execution_count": 37,
   "id": "49fd8109",
   "metadata": {},
   "outputs": [
    {
     "name": "stdout",
     "output_type": "stream",
     "text": [
      "ROC-AUC Score: 1.00\n"
     ]
    }
   ],
   "source": [
    "from sklearn.metrics import roc_auc_score\n",
    "\n",
    "# Calculate ROC-AUC score\n",
    "y_pred_proba = rf_cancer.predict_proba(X_test)[:, 1]\n",
    "auc_score = roc_auc_score(y_test, y_pred_proba)\n",
    "print(f\"ROC-AUC Score: {auc_score:.2f}\")"
   ]
  },
  {
   "cell_type": "markdown",
   "id": "fb61791a",
   "metadata": {},
   "source": [
    "# 23. Train a Random Forest Classifier and plot the Precision-Recall curve."
   ]
  },
  {
   "cell_type": "code",
   "execution_count": 38,
   "id": "ca7dcec3",
   "metadata": {},
   "outputs": [
    {
     "data": {
      "image/png": "[encoded data removed]",
      "text/plain": [
       "<Figure size 640x480 with 1 Axes>"
      ]
     },
     "metadata": {},
     "output_type": "display_data"
    }
   ],
   "source": [
    "from sklearn.metrics import precision_recall_curve\n",
    "\n",
    "# Get precision and recall values\n",
    "precision, recall, _ = precision_recall_curve(y_test, y_pred_proba)\n",
    "\n",
    "# Plotting\n",
    "plt.plot(recall, precision, marker='.')\n",
    "plt.title('Precision-Recall Curve')\n",
    "plt.xlabel('Recall')\n",
    "plt.ylabel('Precision')\n",
    "plt.show()"
   ]
  },
  {
   "cell_type": "markdown",
   "id": "e9df4933",
   "metadata": {},
   "source": [
    "# 24. Train a Stacking Classifier using Decision Trees, SVM, and Logistic Regression, and compare accuracy."
   ]
  },
  {
   "cell_type": "code",
   "execution_count": 41,
   "id": "e12635b2",
   "metadata": {},
   "outputs": [
    {
     "name": "stdout",
     "output_type": "stream",
     "text": [
      "Stacking Classifier Accuracy: 0.97\n"
     ]
    }
   ],
   "source": [
    "from sklearn.ensemble import StackingClassifier\n",
    "from sklearn.svm import SVC\n",
    "from sklearn.tree import DecisionTreeClassifier\n",
    "from sklearn.linear_model import LogisticRegression\n",
    "from sklearn.metrics import accuracy_score\n",
    "from sklearn.datasets import load_breast_cancer\n",
    "from sklearn.model_selection import train_test_split\n",
    "from sklearn.preprocessing import StandardScaler\n",
    "\n",
    "# Load breast cancer dataset\n",
    "cancer = load_breast_cancer()\n",
    "X, y = cancer.data, cancer.target\n",
    "\n",
    "# Split dataset\n",
    "X_train, X_test, y_train, y_test = train_test_split(X, y, test_size=0.2, random_state=42)\n",
    "\n",
    "# Scale data\n",
    "scaler = StandardScaler()\n",
    "X_train_scaled = scaler.fit_transform(X_train)\n",
    "X_test_scaled = scaler.transform(X_test)\n",
    "\n",
    "# Create a stacking classifier\n",
    "estimators = [\n",
    "    ('dt', DecisionTreeClassifier()),\n",
    "    ('svm', SVC(probability=True)),\n",
    "    ('lr', LogisticRegression(max_iter=1000))\n",
    "]\n",
    "stacking_clf = StackingClassifier(estimators=estimators, final_estimator=LogisticRegression(max_iter=1000))\n",
    "stacking_clf.fit(X_train_scaled, y_train)\n",
    "\n",
    "# Evaluate stacking classifier\n",
    "y_pred = stacking_clf.predict(X_test_scaled)\n",
    "accuracy = accuracy_score(y_test, y_pred)\n",
    "print(f\"Stacking Classifier Accuracy: {accuracy:.2f}\")"
   ]
  },
  {
   "cell_type": "markdown",
   "id": "b93ca68a",
   "metadata": {},
   "source": [
    "# 25. Train a Stacking Classifier with Random Forest and Logistic Regression and compare accuracy."
   ]
  },
  {
   "cell_type": "code",
   "execution_count": 44,
   "id": "8a5e326f",
   "metadata": {},
   "outputs": [
    {
     "name": "stdout",
     "output_type": "stream",
     "text": [
      "Stacking Classifier (RF + LR) Accuracy: 0.97\n"
     ]
    }
   ],
   "source": [
    "from sklearn.ensemble import StackingClassifier, RandomForestClassifier\n",
    "from sklearn.linear_model import LogisticRegression\n",
    "from sklearn.metrics import accuracy_score\n",
    "from sklearn.datasets import load_breast_cancer\n",
    "from sklearn.model_selection import train_test_split\n",
    "from sklearn.preprocessing import StandardScaler\n",
    "\n",
    "# Load breast cancer dataset\n",
    "cancer = load_breast_cancer()\n",
    "X, y = cancer.data, cancer.target\n",
    "\n",
    "# Split dataset\n",
    "X_train, X_test, y_train, y_test = train_test_split(X, y, test_size=0.2, random_state=42)\n",
    "\n",
    "# Scale data\n",
    "scaler = StandardScaler()\n",
    "X_train_scaled = scaler.fit_transform(X_train)\n",
    "X_test_scaled = scaler.transform(X_test)\n",
    "\n",
    "# Create a stacking classifier with Random Forest and Logistic Regression\n",
    "stacking_rf_lr = StackingClassifier(estimators=[\n",
    "    ('rf', RandomForestClassifier(n_estimators=100)),\n",
    "    ('lr', LogisticRegression(max_iter=1000))\n",
    "], final_estimator=LogisticRegression(max_iter=1000))\n",
    "\n",
    "stacking_rf_lr.fit(X_train_scaled, y_train)\n",
    "\n",
    "# Evaluate stacking classifier\n",
    "y_pred = stacking_rf_lr.predict(X_test_scaled)\n",
    "accuracy = accuracy_score(y_test, y_pred)\n",
    "print(f\"Stacking Classifier (RF + LR) Accuracy: {accuracy:.2f}\")"
   ]
  }
 ],
 "metadata": {
  "kernelspec": {
   "display_name": "Python 3",
   "language": "python",
   "name": "python3"
  },
  "language_info": {
   "codemirror_mode": {
    "name": "ipython",
    "version": 3
   },
   "file_extension": ".py",
   "mimetype": "text/x-python",
   "name": "python",
   "nbconvert_exporter": "python",
   "pygments_lexer": "ipython3",
   "version": "3.13.2"
  }
 },
 "nbformat": 4,
 "nbformat_minor": 5
}
